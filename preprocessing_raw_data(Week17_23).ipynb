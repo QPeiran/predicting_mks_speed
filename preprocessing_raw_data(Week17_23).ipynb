{
 "cells": [
  {
   "cell_type": "code",
   "execution_count": 1,
   "metadata": {},
   "outputs": [],
   "source": [
    "import pandas as pd\n",
    "import numpy as np"
   ]
  },
  {
   "cell_type": "code",
   "execution_count": 2,
   "metadata": {},
   "outputs": [],
   "source": [
    "raw_pg = pd.read_excel('./label ingredients.xlsx', sheet_name= 'W17-W23 total')\n",
    "raw_df = raw_pg.drop_duplicates()[['index', 'recipe_name', 'sku_code', 'qty_2ppl', 'qty_4ppl', 'week']]"
   ]
  },
  {
   "cell_type": "code",
   "execution_count": 3,
   "metadata": {},
   "outputs": [
    {
     "output_type": "execute_result",
     "data": {
      "text/plain": "    index                                        recipe_name        sku_code  \\\n0       1  Tandoori Chicken Sweet Potato Bowl with Garlic...  PHF-10-00384-4   \n5       1  Tandoori Chicken Sweet Potato Bowl with Garlic...  PHF-10-00483-1   \n10      1  Tandoori Chicken Sweet Potato Bowl with Garlic...  PHF-10-00581-1   \n15      1  Tandoori Chicken Sweet Potato Bowl with Garlic...  PHF-10-00707-4   \n20      1  Tandoori Chicken Sweet Potato Bowl with Garlic...  PHF-10-01167-1   \n\n    qty_2ppl  qty_4ppl      week  \n0          1         0  2020-W17  \n5          1         0  2020-W17  \n10         0         0  2020-W17  \n15         1         0  2020-W17  \n20         2         0  2020-W17  ",
      "text/html": "<div>\n<style scoped>\n    .dataframe tbody tr th:only-of-type {\n        vertical-align: middle;\n    }\n\n    .dataframe tbody tr th {\n        vertical-align: top;\n    }\n\n    .dataframe thead th {\n        text-align: right;\n    }\n</style>\n<table border=\"1\" class=\"dataframe\">\n  <thead>\n    <tr style=\"text-align: right;\">\n      <th></th>\n      <th>index</th>\n      <th>recipe_name</th>\n      <th>sku_code</th>\n      <th>qty_2ppl</th>\n      <th>qty_4ppl</th>\n      <th>week</th>\n    </tr>\n  </thead>\n  <tbody>\n    <tr>\n      <th>0</th>\n      <td>1</td>\n      <td>Tandoori Chicken Sweet Potato Bowl with Garlic...</td>\n      <td>PHF-10-00384-4</td>\n      <td>1</td>\n      <td>0</td>\n      <td>2020-W17</td>\n    </tr>\n    <tr>\n      <th>5</th>\n      <td>1</td>\n      <td>Tandoori Chicken Sweet Potato Bowl with Garlic...</td>\n      <td>PHF-10-00483-1</td>\n      <td>1</td>\n      <td>0</td>\n      <td>2020-W17</td>\n    </tr>\n    <tr>\n      <th>10</th>\n      <td>1</td>\n      <td>Tandoori Chicken Sweet Potato Bowl with Garlic...</td>\n      <td>PHF-10-00581-1</td>\n      <td>0</td>\n      <td>0</td>\n      <td>2020-W17</td>\n    </tr>\n    <tr>\n      <th>15</th>\n      <td>1</td>\n      <td>Tandoori Chicken Sweet Potato Bowl with Garlic...</td>\n      <td>PHF-10-00707-4</td>\n      <td>1</td>\n      <td>0</td>\n      <td>2020-W17</td>\n    </tr>\n    <tr>\n      <th>20</th>\n      <td>1</td>\n      <td>Tandoori Chicken Sweet Potato Bowl with Garlic...</td>\n      <td>PHF-10-01167-1</td>\n      <td>2</td>\n      <td>0</td>\n      <td>2020-W17</td>\n    </tr>\n  </tbody>\n</table>\n</div>"
     },
     "metadata": {},
     "execution_count": 3
    }
   ],
   "source": [
    "raw_df.head()"
   ]
  },
  {
   "cell_type": "code",
   "execution_count": 4,
   "metadata": {},
   "outputs": [],
   "source": [
    "def coutP(c_p2, c_p4):\n",
    "    if c_p2 != 0:\n",
    "        return \"2P\"\n",
    "    elif c_p4 != 0:\n",
    "        return \"4P\"\n",
    "    else:\n",
    "        return np.nan\n",
    "\n",
    "raw_df['Person'] = raw_df.apply(lambda x : coutP(x.qty_2ppl, x.qty_4ppl) , axis = 1)"
   ]
  },
  {
   "cell_type": "code",
   "execution_count": 5,
   "metadata": {},
   "outputs": [],
   "source": [
    "raw_df = raw_df.dropna().reset_index()"
   ]
  },
  {
   "cell_type": "code",
   "execution_count": 6,
   "metadata": {},
   "outputs": [
    {
     "output_type": "execute_result",
     "data": {
      "text/plain": "    index Recipe\n0       1      A\n1       2      B\n2       3      C\n3       4      D\n4       5      E\n5       6      F\n6       7      G\n7       8      H\n8       9      I\n9      10      J\n10     11      K\n11     12      L\n12     13      M\n13     14      N\n14     15      O\n15     16      P\n16     17      Q\n17     18      R\n18     19      S\n19     20      T",
      "text/html": "<div>\n<style scoped>\n    .dataframe tbody tr th:only-of-type {\n        vertical-align: middle;\n    }\n\n    .dataframe tbody tr th {\n        vertical-align: top;\n    }\n\n    .dataframe thead th {\n        text-align: right;\n    }\n</style>\n<table border=\"1\" class=\"dataframe\">\n  <thead>\n    <tr style=\"text-align: right;\">\n      <th></th>\n      <th>index</th>\n      <th>Recipe</th>\n    </tr>\n  </thead>\n  <tbody>\n    <tr>\n      <th>0</th>\n      <td>1</td>\n      <td>A</td>\n    </tr>\n    <tr>\n      <th>1</th>\n      <td>2</td>\n      <td>B</td>\n    </tr>\n    <tr>\n      <th>2</th>\n      <td>3</td>\n      <td>C</td>\n    </tr>\n    <tr>\n      <th>3</th>\n      <td>4</td>\n      <td>D</td>\n    </tr>\n    <tr>\n      <th>4</th>\n      <td>5</td>\n      <td>E</td>\n    </tr>\n    <tr>\n      <th>5</th>\n      <td>6</td>\n      <td>F</td>\n    </tr>\n    <tr>\n      <th>6</th>\n      <td>7</td>\n      <td>G</td>\n    </tr>\n    <tr>\n      <th>7</th>\n      <td>8</td>\n      <td>H</td>\n    </tr>\n    <tr>\n      <th>8</th>\n      <td>9</td>\n      <td>I</td>\n    </tr>\n    <tr>\n      <th>9</th>\n      <td>10</td>\n      <td>J</td>\n    </tr>\n    <tr>\n      <th>10</th>\n      <td>11</td>\n      <td>K</td>\n    </tr>\n    <tr>\n      <th>11</th>\n      <td>12</td>\n      <td>L</td>\n    </tr>\n    <tr>\n      <th>12</th>\n      <td>13</td>\n      <td>M</td>\n    </tr>\n    <tr>\n      <th>13</th>\n      <td>14</td>\n      <td>N</td>\n    </tr>\n    <tr>\n      <th>14</th>\n      <td>15</td>\n      <td>O</td>\n    </tr>\n    <tr>\n      <th>15</th>\n      <td>16</td>\n      <td>P</td>\n    </tr>\n    <tr>\n      <th>16</th>\n      <td>17</td>\n      <td>Q</td>\n    </tr>\n    <tr>\n      <th>17</th>\n      <td>18</td>\n      <td>R</td>\n    </tr>\n    <tr>\n      <th>18</th>\n      <td>19</td>\n      <td>S</td>\n    </tr>\n    <tr>\n      <th>19</th>\n      <td>20</td>\n      <td>T</td>\n    </tr>\n  </tbody>\n</table>\n</div>"
     },
     "metadata": {},
     "execution_count": 6
    }
   ],
   "source": [
    "index_lookup = pd.read_excel('./label ingredients.xlsx', sheet_name= 'index')\n",
    "index_lookup"
   ]
  },
  {
   "cell_type": "code",
   "execution_count": 7,
   "metadata": {},
   "outputs": [],
   "source": [
    "# raw_df.join(index_lookup, on = 'index', how = 'left', rsuffix = '_right', sort = False)\n",
    "raw_df = raw_df.merge(index_lookup, how = 'left',left_on='index', right_on='index')"
   ]
  },
  {
   "cell_type": "code",
   "execution_count": 8,
   "metadata": {},
   "outputs": [
    {
     "output_type": "execute_result",
     "data": {
      "text/plain": "      level_0  index                                        recipe_name  \\\n0           0      1  Tandoori Chicken Sweet Potato Bowl with Garlic...   \n1           5      1  Tandoori Chicken Sweet Potato Bowl with Garlic...   \n2          15      1  Tandoori Chicken Sweet Potato Bowl with Garlic...   \n3          20      1  Tandoori Chicken Sweet Potato Bowl with Garlic...   \n4          25      1  Tandoori Chicken Sweet Potato Bowl with Garlic...   \n...       ...    ...                                                ...   \n1658     8792     20  NZ Caribbean Jerk Fish with Pineapple Salsa & ...   \n1659     8802     20  NZ Caribbean Jerk Fish with Pineapple Salsa & ...   \n1660     8807     20  NZ Caribbean Jerk Fish with Pineapple Salsa & ...   \n1661     8812     20  NZ Caribbean Jerk Fish with Pineapple Salsa & ...   \n1662     8817     20  NZ Caribbean Jerk Fish with Pineapple Salsa & ...   \n\n            sku_code  qty_2ppl  qty_4ppl      week Person Recipe  \n0     PHF-10-00384-4         1         0  2020-W17     2P      A  \n1     PHF-10-00483-1         1         0  2020-W17     2P      A  \n2     PHF-10-00707-4         1         0  2020-W17     2P      A  \n3     PHF-10-01167-1         2         0  2020-W17     2P      A  \n4     PHF-10-01209-4         1         0  2020-W17     2P      A  \n...              ...       ...       ...       ...    ...    ...  \n1658  PHF-10-00281-4         0         1  2020-W23     4P      T  \n1659  PHF-10-01209-4         0         2  2020-W23     4P      T  \n1660  PHF-10-01984-4         0         1  2020-W23     4P      T  \n1661  PRO-10-00885-1         0         1  2020-W23     4P      T  \n1662  SPI-00-00382-1         0         2  2020-W23     4P      T  \n\n[1663 rows x 9 columns]",
      "text/html": "<div>\n<style scoped>\n    .dataframe tbody tr th:only-of-type {\n        vertical-align: middle;\n    }\n\n    .dataframe tbody tr th {\n        vertical-align: top;\n    }\n\n    .dataframe thead th {\n        text-align: right;\n    }\n</style>\n<table border=\"1\" class=\"dataframe\">\n  <thead>\n    <tr style=\"text-align: right;\">\n      <th></th>\n      <th>level_0</th>\n      <th>index</th>\n      <th>recipe_name</th>\n      <th>sku_code</th>\n      <th>qty_2ppl</th>\n      <th>qty_4ppl</th>\n      <th>week</th>\n      <th>Person</th>\n      <th>Recipe</th>\n    </tr>\n  </thead>\n  <tbody>\n    <tr>\n      <th>0</th>\n      <td>0</td>\n      <td>1</td>\n      <td>Tandoori Chicken Sweet Potato Bowl with Garlic...</td>\n      <td>PHF-10-00384-4</td>\n      <td>1</td>\n      <td>0</td>\n      <td>2020-W17</td>\n      <td>2P</td>\n      <td>A</td>\n    </tr>\n    <tr>\n      <th>1</th>\n      <td>5</td>\n      <td>1</td>\n      <td>Tandoori Chicken Sweet Potato Bowl with Garlic...</td>\n      <td>PHF-10-00483-1</td>\n      <td>1</td>\n      <td>0</td>\n      <td>2020-W17</td>\n      <td>2P</td>\n      <td>A</td>\n    </tr>\n    <tr>\n      <th>2</th>\n      <td>15</td>\n      <td>1</td>\n      <td>Tandoori Chicken Sweet Potato Bowl with Garlic...</td>\n      <td>PHF-10-00707-4</td>\n      <td>1</td>\n      <td>0</td>\n      <td>2020-W17</td>\n      <td>2P</td>\n      <td>A</td>\n    </tr>\n    <tr>\n      <th>3</th>\n      <td>20</td>\n      <td>1</td>\n      <td>Tandoori Chicken Sweet Potato Bowl with Garlic...</td>\n      <td>PHF-10-01167-1</td>\n      <td>2</td>\n      <td>0</td>\n      <td>2020-W17</td>\n      <td>2P</td>\n      <td>A</td>\n    </tr>\n    <tr>\n      <th>4</th>\n      <td>25</td>\n      <td>1</td>\n      <td>Tandoori Chicken Sweet Potato Bowl with Garlic...</td>\n      <td>PHF-10-01209-4</td>\n      <td>1</td>\n      <td>0</td>\n      <td>2020-W17</td>\n      <td>2P</td>\n      <td>A</td>\n    </tr>\n    <tr>\n      <th>...</th>\n      <td>...</td>\n      <td>...</td>\n      <td>...</td>\n      <td>...</td>\n      <td>...</td>\n      <td>...</td>\n      <td>...</td>\n      <td>...</td>\n      <td>...</td>\n    </tr>\n    <tr>\n      <th>1658</th>\n      <td>8792</td>\n      <td>20</td>\n      <td>NZ Caribbean Jerk Fish with Pineapple Salsa &amp; ...</td>\n      <td>PHF-10-00281-4</td>\n      <td>0</td>\n      <td>1</td>\n      <td>2020-W23</td>\n      <td>4P</td>\n      <td>T</td>\n    </tr>\n    <tr>\n      <th>1659</th>\n      <td>8802</td>\n      <td>20</td>\n      <td>NZ Caribbean Jerk Fish with Pineapple Salsa &amp; ...</td>\n      <td>PHF-10-01209-4</td>\n      <td>0</td>\n      <td>2</td>\n      <td>2020-W23</td>\n      <td>4P</td>\n      <td>T</td>\n    </tr>\n    <tr>\n      <th>1660</th>\n      <td>8807</td>\n      <td>20</td>\n      <td>NZ Caribbean Jerk Fish with Pineapple Salsa &amp; ...</td>\n      <td>PHF-10-01984-4</td>\n      <td>0</td>\n      <td>1</td>\n      <td>2020-W23</td>\n      <td>4P</td>\n      <td>T</td>\n    </tr>\n    <tr>\n      <th>1661</th>\n      <td>8812</td>\n      <td>20</td>\n      <td>NZ Caribbean Jerk Fish with Pineapple Salsa &amp; ...</td>\n      <td>PRO-10-00885-1</td>\n      <td>0</td>\n      <td>1</td>\n      <td>2020-W23</td>\n      <td>4P</td>\n      <td>T</td>\n    </tr>\n    <tr>\n      <th>1662</th>\n      <td>8817</td>\n      <td>20</td>\n      <td>NZ Caribbean Jerk Fish with Pineapple Salsa &amp; ...</td>\n      <td>SPI-00-00382-1</td>\n      <td>0</td>\n      <td>2</td>\n      <td>2020-W23</td>\n      <td>4P</td>\n      <td>T</td>\n    </tr>\n  </tbody>\n</table>\n<p>1663 rows × 9 columns</p>\n</div>"
     },
     "metadata": {},
     "execution_count": 8
    }
   ],
   "source": [
    "raw_df"
   ]
  },
  {
   "cell_type": "code",
   "execution_count": 9,
   "metadata": {},
   "outputs": [
    {
     "output_type": "execute_result",
     "data": {
      "text/plain": "      level_0  index                                        recipe_name  \\\n0           0      1  Tandoori Chicken Sweet Potato Bowl with Garlic...   \n1           5      1  Tandoori Chicken Sweet Potato Bowl with Garlic...   \n2          15      1  Tandoori Chicken Sweet Potato Bowl with Garlic...   \n3          20      1  Tandoori Chicken Sweet Potato Bowl with Garlic...   \n4          25      1  Tandoori Chicken Sweet Potato Bowl with Garlic...   \n...       ...    ...                                                ...   \n1658     8792     20  NZ Caribbean Jerk Fish with Pineapple Salsa & ...   \n1659     8802     20  NZ Caribbean Jerk Fish with Pineapple Salsa & ...   \n1660     8807     20  NZ Caribbean Jerk Fish with Pineapple Salsa & ...   \n1661     8812     20  NZ Caribbean Jerk Fish with Pineapple Salsa & ...   \n1662     8817     20  NZ Caribbean Jerk Fish with Pineapple Salsa & ...   \n\n            sku_code  qty_2ppl  qty_4ppl      week Person Recipe Recipe Code  \n0     PHF-10-00384-4         1         0  2020-W17     2P      A        17A2  \n1     PHF-10-00483-1         1         0  2020-W17     2P      A        17A2  \n2     PHF-10-00707-4         1         0  2020-W17     2P      A        17A2  \n3     PHF-10-01167-1         2         0  2020-W17     2P      A        17A2  \n4     PHF-10-01209-4         1         0  2020-W17     2P      A        17A2  \n...              ...       ...       ...       ...    ...    ...         ...  \n1658  PHF-10-00281-4         0         1  2020-W23     4P      T        23T4  \n1659  PHF-10-01209-4         0         2  2020-W23     4P      T        23T4  \n1660  PHF-10-01984-4         0         1  2020-W23     4P      T        23T4  \n1661  PRO-10-00885-1         0         1  2020-W23     4P      T        23T4  \n1662  SPI-00-00382-1         0         2  2020-W23     4P      T        23T4  \n\n[1663 rows x 10 columns]",
      "text/html": "<div>\n<style scoped>\n    .dataframe tbody tr th:only-of-type {\n        vertical-align: middle;\n    }\n\n    .dataframe tbody tr th {\n        vertical-align: top;\n    }\n\n    .dataframe thead th {\n        text-align: right;\n    }\n</style>\n<table border=\"1\" class=\"dataframe\">\n  <thead>\n    <tr style=\"text-align: right;\">\n      <th></th>\n      <th>level_0</th>\n      <th>index</th>\n      <th>recipe_name</th>\n      <th>sku_code</th>\n      <th>qty_2ppl</th>\n      <th>qty_4ppl</th>\n      <th>week</th>\n      <th>Person</th>\n      <th>Recipe</th>\n      <th>Recipe Code</th>\n    </tr>\n  </thead>\n  <tbody>\n    <tr>\n      <th>0</th>\n      <td>0</td>\n      <td>1</td>\n      <td>Tandoori Chicken Sweet Potato Bowl with Garlic...</td>\n      <td>PHF-10-00384-4</td>\n      <td>1</td>\n      <td>0</td>\n      <td>2020-W17</td>\n      <td>2P</td>\n      <td>A</td>\n      <td>17A2</td>\n    </tr>\n    <tr>\n      <th>1</th>\n      <td>5</td>\n      <td>1</td>\n      <td>Tandoori Chicken Sweet Potato Bowl with Garlic...</td>\n      <td>PHF-10-00483-1</td>\n      <td>1</td>\n      <td>0</td>\n      <td>2020-W17</td>\n      <td>2P</td>\n      <td>A</td>\n      <td>17A2</td>\n    </tr>\n    <tr>\n      <th>2</th>\n      <td>15</td>\n      <td>1</td>\n      <td>Tandoori Chicken Sweet Potato Bowl with Garlic...</td>\n      <td>PHF-10-00707-4</td>\n      <td>1</td>\n      <td>0</td>\n      <td>2020-W17</td>\n      <td>2P</td>\n      <td>A</td>\n      <td>17A2</td>\n    </tr>\n    <tr>\n      <th>3</th>\n      <td>20</td>\n      <td>1</td>\n      <td>Tandoori Chicken Sweet Potato Bowl with Garlic...</td>\n      <td>PHF-10-01167-1</td>\n      <td>2</td>\n      <td>0</td>\n      <td>2020-W17</td>\n      <td>2P</td>\n      <td>A</td>\n      <td>17A2</td>\n    </tr>\n    <tr>\n      <th>4</th>\n      <td>25</td>\n      <td>1</td>\n      <td>Tandoori Chicken Sweet Potato Bowl with Garlic...</td>\n      <td>PHF-10-01209-4</td>\n      <td>1</td>\n      <td>0</td>\n      <td>2020-W17</td>\n      <td>2P</td>\n      <td>A</td>\n      <td>17A2</td>\n    </tr>\n    <tr>\n      <th>...</th>\n      <td>...</td>\n      <td>...</td>\n      <td>...</td>\n      <td>...</td>\n      <td>...</td>\n      <td>...</td>\n      <td>...</td>\n      <td>...</td>\n      <td>...</td>\n      <td>...</td>\n    </tr>\n    <tr>\n      <th>1658</th>\n      <td>8792</td>\n      <td>20</td>\n      <td>NZ Caribbean Jerk Fish with Pineapple Salsa &amp; ...</td>\n      <td>PHF-10-00281-4</td>\n      <td>0</td>\n      <td>1</td>\n      <td>2020-W23</td>\n      <td>4P</td>\n      <td>T</td>\n      <td>23T4</td>\n    </tr>\n    <tr>\n      <th>1659</th>\n      <td>8802</td>\n      <td>20</td>\n      <td>NZ Caribbean Jerk Fish with Pineapple Salsa &amp; ...</td>\n      <td>PHF-10-01209-4</td>\n      <td>0</td>\n      <td>2</td>\n      <td>2020-W23</td>\n      <td>4P</td>\n      <td>T</td>\n      <td>23T4</td>\n    </tr>\n    <tr>\n      <th>1660</th>\n      <td>8807</td>\n      <td>20</td>\n      <td>NZ Caribbean Jerk Fish with Pineapple Salsa &amp; ...</td>\n      <td>PHF-10-01984-4</td>\n      <td>0</td>\n      <td>1</td>\n      <td>2020-W23</td>\n      <td>4P</td>\n      <td>T</td>\n      <td>23T4</td>\n    </tr>\n    <tr>\n      <th>1661</th>\n      <td>8812</td>\n      <td>20</td>\n      <td>NZ Caribbean Jerk Fish with Pineapple Salsa &amp; ...</td>\n      <td>PRO-10-00885-1</td>\n      <td>0</td>\n      <td>1</td>\n      <td>2020-W23</td>\n      <td>4P</td>\n      <td>T</td>\n      <td>23T4</td>\n    </tr>\n    <tr>\n      <th>1662</th>\n      <td>8817</td>\n      <td>20</td>\n      <td>NZ Caribbean Jerk Fish with Pineapple Salsa &amp; ...</td>\n      <td>SPI-00-00382-1</td>\n      <td>0</td>\n      <td>2</td>\n      <td>2020-W23</td>\n      <td>4P</td>\n      <td>T</td>\n      <td>23T4</td>\n    </tr>\n  </tbody>\n</table>\n<p>1663 rows × 10 columns</p>\n</div>"
     },
     "metadata": {},
     "execution_count": 9
    }
   ],
   "source": [
    "raw_df['Recipe Code'] = raw_df['week'].str[-2:] + raw_df['Recipe'] + raw_df['Person'].str[:1]\n",
    "raw_df"
   ]
  },
  {
   "cell_type": "code",
   "execution_count": 10,
   "metadata": {},
   "outputs": [
    {
     "output_type": "execute_result",
     "data": {
      "text/plain": "  Recipe Code        sku_code  qty_2ppl  qty_4ppl\n0        17A2  PHF-10-00384-4         1         0\n1        17A2  PHF-10-00483-1         1         0\n2        17A2  PHF-10-00707-4         1         0\n3        17A2  PHF-10-01167-1         2         0\n4        17A2  PHF-10-01209-4         1         0",
      "text/html": "<div>\n<style scoped>\n    .dataframe tbody tr th:only-of-type {\n        vertical-align: middle;\n    }\n\n    .dataframe tbody tr th {\n        vertical-align: top;\n    }\n\n    .dataframe thead th {\n        text-align: right;\n    }\n</style>\n<table border=\"1\" class=\"dataframe\">\n  <thead>\n    <tr style=\"text-align: right;\">\n      <th></th>\n      <th>Recipe Code</th>\n      <th>sku_code</th>\n      <th>qty_2ppl</th>\n      <th>qty_4ppl</th>\n    </tr>\n  </thead>\n  <tbody>\n    <tr>\n      <th>0</th>\n      <td>17A2</td>\n      <td>PHF-10-00384-4</td>\n      <td>1</td>\n      <td>0</td>\n    </tr>\n    <tr>\n      <th>1</th>\n      <td>17A2</td>\n      <td>PHF-10-00483-1</td>\n      <td>1</td>\n      <td>0</td>\n    </tr>\n    <tr>\n      <th>2</th>\n      <td>17A2</td>\n      <td>PHF-10-00707-4</td>\n      <td>1</td>\n      <td>0</td>\n    </tr>\n    <tr>\n      <th>3</th>\n      <td>17A2</td>\n      <td>PHF-10-01167-1</td>\n      <td>2</td>\n      <td>0</td>\n    </tr>\n    <tr>\n      <th>4</th>\n      <td>17A2</td>\n      <td>PHF-10-01209-4</td>\n      <td>1</td>\n      <td>0</td>\n    </tr>\n  </tbody>\n</table>\n</div>"
     },
     "metadata": {},
     "execution_count": 10
    }
   ],
   "source": [
    "#staged dataframe -- \"Myre_Import\" trimed version, ready to join with the \"SKU difficulty lookup\"\n",
    "staged_df = raw_df[['Recipe Code','sku_code', 'qty_2ppl', 'qty_4ppl']]\n",
    "staged_df.head()"
   ]
  },
  {
   "cell_type": "code",
   "execution_count": 11,
   "metadata": {},
   "outputs": [
    {
     "output_type": "execute_result",
     "data": {
      "text/plain": "207"
     },
     "metadata": {},
     "execution_count": 11
    }
   ],
   "source": [
    "staged_df['Recipe Code'].nunique() # Bingo"
   ]
  },
  {
   "cell_type": "code",
   "execution_count": 12,
   "metadata": {},
   "outputs": [
    {
     "output_type": "execute_result",
     "data": {
      "text/plain": "           sku_code Difficulty\n0    PHF-10-00384-4          M\n1    PHF-10-00483-1         VH\n2    PHF-10-00581-1         VE\n3    PHF-10-00707-4          E\n4    PHF-10-01167-1          H\n..              ...        ...\n173  BAK-10-00457-7         VH\n174  DRY-00-00357-1          M\n175  PRO-00-01242-1         VE\n176  SPI-00-01335-1         VE\n177  PHF-10-25778-4          H\n\n[178 rows x 2 columns]",
      "text/html": "<div>\n<style scoped>\n    .dataframe tbody tr th:only-of-type {\n        vertical-align: middle;\n    }\n\n    .dataframe tbody tr th {\n        vertical-align: top;\n    }\n\n    .dataframe thead th {\n        text-align: right;\n    }\n</style>\n<table border=\"1\" class=\"dataframe\">\n  <thead>\n    <tr style=\"text-align: right;\">\n      <th></th>\n      <th>sku_code</th>\n      <th>Difficulty</th>\n    </tr>\n  </thead>\n  <tbody>\n    <tr>\n      <th>0</th>\n      <td>PHF-10-00384-4</td>\n      <td>M</td>\n    </tr>\n    <tr>\n      <th>1</th>\n      <td>PHF-10-00483-1</td>\n      <td>VH</td>\n    </tr>\n    <tr>\n      <th>2</th>\n      <td>PHF-10-00581-1</td>\n      <td>VE</td>\n    </tr>\n    <tr>\n      <th>3</th>\n      <td>PHF-10-00707-4</td>\n      <td>E</td>\n    </tr>\n    <tr>\n      <th>4</th>\n      <td>PHF-10-01167-1</td>\n      <td>H</td>\n    </tr>\n    <tr>\n      <th>...</th>\n      <td>...</td>\n      <td>...</td>\n    </tr>\n    <tr>\n      <th>173</th>\n      <td>BAK-10-00457-7</td>\n      <td>VH</td>\n    </tr>\n    <tr>\n      <th>174</th>\n      <td>DRY-00-00357-1</td>\n      <td>M</td>\n    </tr>\n    <tr>\n      <th>175</th>\n      <td>PRO-00-01242-1</td>\n      <td>VE</td>\n    </tr>\n    <tr>\n      <th>176</th>\n      <td>SPI-00-01335-1</td>\n      <td>VE</td>\n    </tr>\n    <tr>\n      <th>177</th>\n      <td>PHF-10-25778-4</td>\n      <td>H</td>\n    </tr>\n  </tbody>\n</table>\n<p>178 rows × 2 columns</p>\n</div>"
     },
     "metadata": {},
     "execution_count": 12
    }
   ],
   "source": [
    "difficulty_lookup = pd.read_excel('./label ingredients.xlsx', sheet_name= 'difficultyLookup')\n",
    "difficulty_lookup"
   ]
  },
  {
   "cell_type": "code",
   "execution_count": 13,
   "metadata": {},
   "outputs": [
    {
     "output_type": "execute_result",
     "data": {
      "text/plain": "     Recipe Code        sku_code  qty_2ppl  qty_4ppl Difficulty\n0           17A2  PHF-10-00384-4         1         0          M\n1           17A2  PHF-10-00483-1         1         0         VH\n2           17A2  PHF-10-00707-4         1         0          E\n3           17A2  PHF-10-01167-1         2         0          H\n4           17A2  PHF-10-01209-4         1         0          E\n...          ...             ...       ...       ...        ...\n1658        23T4  PHF-10-00281-4         0         1          M\n1659        23T4  PHF-10-01209-4         0         2          E\n1660        23T4  PHF-10-01984-4         0         1         VE\n1661        23T4  PRO-10-00885-1         0         1          M\n1662        23T4  SPI-00-00382-1         0         2         VE\n\n[1663 rows x 5 columns]",
      "text/html": "<div>\n<style scoped>\n    .dataframe tbody tr th:only-of-type {\n        vertical-align: middle;\n    }\n\n    .dataframe tbody tr th {\n        vertical-align: top;\n    }\n\n    .dataframe thead th {\n        text-align: right;\n    }\n</style>\n<table border=\"1\" class=\"dataframe\">\n  <thead>\n    <tr style=\"text-align: right;\">\n      <th></th>\n      <th>Recipe Code</th>\n      <th>sku_code</th>\n      <th>qty_2ppl</th>\n      <th>qty_4ppl</th>\n      <th>Difficulty</th>\n    </tr>\n  </thead>\n  <tbody>\n    <tr>\n      <th>0</th>\n      <td>17A2</td>\n      <td>PHF-10-00384-4</td>\n      <td>1</td>\n      <td>0</td>\n      <td>M</td>\n    </tr>\n    <tr>\n      <th>1</th>\n      <td>17A2</td>\n      <td>PHF-10-00483-1</td>\n      <td>1</td>\n      <td>0</td>\n      <td>VH</td>\n    </tr>\n    <tr>\n      <th>2</th>\n      <td>17A2</td>\n      <td>PHF-10-00707-4</td>\n      <td>1</td>\n      <td>0</td>\n      <td>E</td>\n    </tr>\n    <tr>\n      <th>3</th>\n      <td>17A2</td>\n      <td>PHF-10-01167-1</td>\n      <td>2</td>\n      <td>0</td>\n      <td>H</td>\n    </tr>\n    <tr>\n      <th>4</th>\n      <td>17A2</td>\n      <td>PHF-10-01209-4</td>\n      <td>1</td>\n      <td>0</td>\n      <td>E</td>\n    </tr>\n    <tr>\n      <th>...</th>\n      <td>...</td>\n      <td>...</td>\n      <td>...</td>\n      <td>...</td>\n      <td>...</td>\n    </tr>\n    <tr>\n      <th>1658</th>\n      <td>23T4</td>\n      <td>PHF-10-00281-4</td>\n      <td>0</td>\n      <td>1</td>\n      <td>M</td>\n    </tr>\n    <tr>\n      <th>1659</th>\n      <td>23T4</td>\n      <td>PHF-10-01209-4</td>\n      <td>0</td>\n      <td>2</td>\n      <td>E</td>\n    </tr>\n    <tr>\n      <th>1660</th>\n      <td>23T4</td>\n      <td>PHF-10-01984-4</td>\n      <td>0</td>\n      <td>1</td>\n      <td>VE</td>\n    </tr>\n    <tr>\n      <th>1661</th>\n      <td>23T4</td>\n      <td>PRO-10-00885-1</td>\n      <td>0</td>\n      <td>1</td>\n      <td>M</td>\n    </tr>\n    <tr>\n      <th>1662</th>\n      <td>23T4</td>\n      <td>SPI-00-00382-1</td>\n      <td>0</td>\n      <td>2</td>\n      <td>VE</td>\n    </tr>\n  </tbody>\n</table>\n<p>1663 rows × 5 columns</p>\n</div>"
     },
     "metadata": {},
     "execution_count": 13
    }
   ],
   "source": [
    "staged_df = staged_df.merge(difficulty_lookup, how = 'left',left_on='sku_code', right_on='sku_code')\n",
    "staged_df"
   ]
  },
  {
   "cell_type": "code",
   "execution_count": 14,
   "metadata": {
    "tags": [
     "outputPrepend",
     "outputPrepend",
     "outputPrepend",
     "outputPrepend"
    ]
   },
   "outputs": [
    {
     "output_type": "execute_result",
     "data": {
      "text/plain": "    Recipe Code        sku_code  qty_2ppl  qty_4ppl Difficulty\n730        20A4  PHF-10-00280-4         0         1          E\n731        20A4  PHF-10-00707-4         0         1          E\n732        20A4  PHF-10-00999-4         0         2          M\n733        20A4  PHF-10-01283-4         0         1         VE\n734        20A4  PHF-11-02083-1         0         2         VH\n735        20A4  SPI-00-01188-1         0         2         VE\n736        20A4  PRO-11-23485-1         0         1          H\n737        20A4  PHF-00-25710-4         0         1          H",
      "text/html": "<div>\n<style scoped>\n    .dataframe tbody tr th:only-of-type {\n        vertical-align: middle;\n    }\n\n    .dataframe tbody tr th {\n        vertical-align: top;\n    }\n\n    .dataframe thead th {\n        text-align: right;\n    }\n</style>\n<table border=\"1\" class=\"dataframe\">\n  <thead>\n    <tr style=\"text-align: right;\">\n      <th></th>\n      <th>Recipe Code</th>\n      <th>sku_code</th>\n      <th>qty_2ppl</th>\n      <th>qty_4ppl</th>\n      <th>Difficulty</th>\n    </tr>\n  </thead>\n  <tbody>\n    <tr>\n      <th>730</th>\n      <td>20A4</td>\n      <td>PHF-10-00280-4</td>\n      <td>0</td>\n      <td>1</td>\n      <td>E</td>\n    </tr>\n    <tr>\n      <th>731</th>\n      <td>20A4</td>\n      <td>PHF-10-00707-4</td>\n      <td>0</td>\n      <td>1</td>\n      <td>E</td>\n    </tr>\n    <tr>\n      <th>732</th>\n      <td>20A4</td>\n      <td>PHF-10-00999-4</td>\n      <td>0</td>\n      <td>2</td>\n      <td>M</td>\n    </tr>\n    <tr>\n      <th>733</th>\n      <td>20A4</td>\n      <td>PHF-10-01283-4</td>\n      <td>0</td>\n      <td>1</td>\n      <td>VE</td>\n    </tr>\n    <tr>\n      <th>734</th>\n      <td>20A4</td>\n      <td>PHF-11-02083-1</td>\n      <td>0</td>\n      <td>2</td>\n      <td>VH</td>\n    </tr>\n    <tr>\n      <th>735</th>\n      <td>20A4</td>\n      <td>SPI-00-01188-1</td>\n      <td>0</td>\n      <td>2</td>\n      <td>VE</td>\n    </tr>\n    <tr>\n      <th>736</th>\n      <td>20A4</td>\n      <td>PRO-11-23485-1</td>\n      <td>0</td>\n      <td>1</td>\n      <td>H</td>\n    </tr>\n    <tr>\n      <th>737</th>\n      <td>20A4</td>\n      <td>PHF-00-25710-4</td>\n      <td>0</td>\n      <td>1</td>\n      <td>H</td>\n    </tr>\n  </tbody>\n</table>\n</div>"
     },
     "metadata": {},
     "execution_count": 14
    }
   ],
   "source": [
    "df_testgp = staged_df.groupby('Recipe Code').get_group('20A4')\n",
    "df_testgp"
   ]
  },
  {
   "cell_type": "code",
   "execution_count": 15,
   "metadata": {},
   "outputs": [],
   "source": [
    "prepared_pg_4P = staged_df.pivot_table(values = 'qty_4ppl', index = 'Recipe Code', columns = 'Difficulty', aggfunc=np.sum, fill_value = 0)\n",
    "prepared_pg_2P = staged_df.pivot_table(values = 'qty_2ppl', index = 'Recipe Code', columns = 'Difficulty', aggfunc=np.sum, fill_value = 0)"
   ]
  },
  {
   "cell_type": "code",
   "execution_count": 16,
   "metadata": {},
   "outputs": [],
   "source": [
    "#2P & 4P recipes got transformed and prepared seperately (Peiran's ingredients difficulity evaluation)\n",
    "prepared_2P = prepared_pg_2P[prepared_pg_2P.sum(axis=1) > 0]\n",
    "prepared_4P = prepared_pg_4P[prepared_pg_4P.sum(axis=1) > 0]"
   ]
  },
  {
   "cell_type": "code",
   "execution_count": 17,
   "metadata": {},
   "outputs": [
    {
     "output_type": "execute_result",
     "data": {
      "text/plain": "Difficulty           E           H           M          VE          VH\ncount       128.000000  128.000000  128.000000  128.000000  128.000000\nmean          2.429688    2.304688    2.875000    3.546875    1.187500\nstd           1.782167    2.060344    1.827179    1.877590    1.545886\nmin           0.000000    0.000000    0.000000    0.000000    0.000000\n25%           1.000000    1.000000    2.000000    2.000000    0.000000\n50%           2.000000    2.000000    3.000000    3.000000    0.500000\n75%           3.000000    4.000000    4.000000    4.000000    2.000000\nmax           8.000000    9.000000    8.000000   11.000000    7.000000",
      "text/html": "<div>\n<style scoped>\n    .dataframe tbody tr th:only-of-type {\n        vertical-align: middle;\n    }\n\n    .dataframe tbody tr th {\n        vertical-align: top;\n    }\n\n    .dataframe thead th {\n        text-align: right;\n    }\n</style>\n<table border=\"1\" class=\"dataframe\">\n  <thead>\n    <tr style=\"text-align: right;\">\n      <th>Difficulty</th>\n      <th>E</th>\n      <th>H</th>\n      <th>M</th>\n      <th>VE</th>\n      <th>VH</th>\n    </tr>\n  </thead>\n  <tbody>\n    <tr>\n      <th>count</th>\n      <td>128.000000</td>\n      <td>128.000000</td>\n      <td>128.000000</td>\n      <td>128.000000</td>\n      <td>128.000000</td>\n    </tr>\n    <tr>\n      <th>mean</th>\n      <td>2.429688</td>\n      <td>2.304688</td>\n      <td>2.875000</td>\n      <td>3.546875</td>\n      <td>1.187500</td>\n    </tr>\n    <tr>\n      <th>std</th>\n      <td>1.782167</td>\n      <td>2.060344</td>\n      <td>1.827179</td>\n      <td>1.877590</td>\n      <td>1.545886</td>\n    </tr>\n    <tr>\n      <th>min</th>\n      <td>0.000000</td>\n      <td>0.000000</td>\n      <td>0.000000</td>\n      <td>0.000000</td>\n      <td>0.000000</td>\n    </tr>\n    <tr>\n      <th>25%</th>\n      <td>1.000000</td>\n      <td>1.000000</td>\n      <td>2.000000</td>\n      <td>2.000000</td>\n      <td>0.000000</td>\n    </tr>\n    <tr>\n      <th>50%</th>\n      <td>2.000000</td>\n      <td>2.000000</td>\n      <td>3.000000</td>\n      <td>3.000000</td>\n      <td>0.500000</td>\n    </tr>\n    <tr>\n      <th>75%</th>\n      <td>3.000000</td>\n      <td>4.000000</td>\n      <td>4.000000</td>\n      <td>4.000000</td>\n      <td>2.000000</td>\n    </tr>\n    <tr>\n      <th>max</th>\n      <td>8.000000</td>\n      <td>9.000000</td>\n      <td>8.000000</td>\n      <td>11.000000</td>\n      <td>7.000000</td>\n    </tr>\n  </tbody>\n</table>\n</div>"
     },
     "metadata": {},
     "execution_count": 17
    }
   ],
   "source": [
    "# prepared_2P.describe()\n",
    "prepared_4P.describe()"
   ]
  },
  {
   "cell_type": "code",
   "execution_count": 18,
   "metadata": {},
   "outputs": [
    {
     "output_type": "execute_result",
     "data": {
      "text/plain": "Difficulty   E  H  M  VE  VH\nRecipe Code                 \n17A4         3  0  2   3   4\n17B4         3  2  0   4   0\n17C4         0  4  3   2   0\n17D4         3  0  7   4   0\n17E4         3  0  3   4   2\n...         .. .. ..  ..  ..\n23P4         2  4  3   3   2\n23Q4         2  1  2   4   0\n23R4         2  4  2   0   0\n23S4         4  4  1   4   0\n23T4         2  0  4   3   0\n\n[128 rows x 5 columns]",
      "text/html": "<div>\n<style scoped>\n    .dataframe tbody tr th:only-of-type {\n        vertical-align: middle;\n    }\n\n    .dataframe tbody tr th {\n        vertical-align: top;\n    }\n\n    .dataframe thead th {\n        text-align: right;\n    }\n</style>\n<table border=\"1\" class=\"dataframe\">\n  <thead>\n    <tr style=\"text-align: right;\">\n      <th>Difficulty</th>\n      <th>E</th>\n      <th>H</th>\n      <th>M</th>\n      <th>VE</th>\n      <th>VH</th>\n    </tr>\n    <tr>\n      <th>Recipe Code</th>\n      <th></th>\n      <th></th>\n      <th></th>\n      <th></th>\n      <th></th>\n    </tr>\n  </thead>\n  <tbody>\n    <tr>\n      <th>17A4</th>\n      <td>3</td>\n      <td>0</td>\n      <td>2</td>\n      <td>3</td>\n      <td>4</td>\n    </tr>\n    <tr>\n      <th>17B4</th>\n      <td>3</td>\n      <td>2</td>\n      <td>0</td>\n      <td>4</td>\n      <td>0</td>\n    </tr>\n    <tr>\n      <th>17C4</th>\n      <td>0</td>\n      <td>4</td>\n      <td>3</td>\n      <td>2</td>\n      <td>0</td>\n    </tr>\n    <tr>\n      <th>17D4</th>\n      <td>3</td>\n      <td>0</td>\n      <td>7</td>\n      <td>4</td>\n      <td>0</td>\n    </tr>\n    <tr>\n      <th>17E4</th>\n      <td>3</td>\n      <td>0</td>\n      <td>3</td>\n      <td>4</td>\n      <td>2</td>\n    </tr>\n    <tr>\n      <th>...</th>\n      <td>...</td>\n      <td>...</td>\n      <td>...</td>\n      <td>...</td>\n      <td>...</td>\n    </tr>\n    <tr>\n      <th>23P4</th>\n      <td>2</td>\n      <td>4</td>\n      <td>3</td>\n      <td>3</td>\n      <td>2</td>\n    </tr>\n    <tr>\n      <th>23Q4</th>\n      <td>2</td>\n      <td>1</td>\n      <td>2</td>\n      <td>4</td>\n      <td>0</td>\n    </tr>\n    <tr>\n      <th>23R4</th>\n      <td>2</td>\n      <td>4</td>\n      <td>2</td>\n      <td>0</td>\n      <td>0</td>\n    </tr>\n    <tr>\n      <th>23S4</th>\n      <td>4</td>\n      <td>4</td>\n      <td>1</td>\n      <td>4</td>\n      <td>0</td>\n    </tr>\n    <tr>\n      <th>23T4</th>\n      <td>2</td>\n      <td>0</td>\n      <td>4</td>\n      <td>3</td>\n      <td>0</td>\n    </tr>\n  </tbody>\n</table>\n<p>128 rows × 5 columns</p>\n</div>"
     },
     "metadata": {},
     "execution_count": 18
    }
   ],
   "source": [
    "prepared_4P"
   ]
  },
  {
   "cell_type": "code",
   "execution_count": 19,
   "metadata": {},
   "outputs": [],
   "source": [
    "mk_crate_raw = pd.read_csv('./label_recipes.csv')\n",
    "mk_crate_raw['Recipe Code'] = mk_crate_raw['Week'].str[-2:] + mk_crate_raw['Recipe']"
   ]
  },
  {
   "cell_type": "code",
   "execution_count": 20,
   "metadata": {},
   "outputs": [],
   "source": [
    "# Mealkits per crate data associate with \"Recipe Code\"\n",
    "mk_crate_prepared = mk_crate_raw[['Recipe Code', 'Meal Kits/Crate']]"
   ]
  },
  {
   "cell_type": "code",
   "execution_count": 21,
   "metadata": {},
   "outputs": [],
   "source": [
    "# join recipe details with 'MKs/Crate'\n",
    "prepared_4P = prepared_4P.join(mk_crate_prepared.set_index('Recipe Code')) # default lef join\n",
    "prepared_2P = prepared_2P.join(mk_crate_prepared.set_index('Recipe Code'))"
   ]
  },
  {
   "cell_type": "code",
   "execution_count": 22,
   "metadata": {},
   "outputs": [
    {
     "output_type": "stream",
     "name": "stdout",
     "text": "E  H  M  VE  VH  Meal Kits/Crate\nRecipe Code                                  \n17A2         2  2  1   2   1                5\n17B2         2  0  2   2   0                6\n17C2         1  2  1   2   0                6\n17D2         3  0  3   2   0                5\n17E2         3  0  1   3   1                6\n             E  H  M  VE  VH  Meal Kits/Crate\nRecipe Code                                  \n17A4         3  0  2   3   4                4\n17B4         3  2  0   4   0                4\n17C4         0  4  3   2   0                5\n17D4         3  0  7   4   0                4\n17E4         3  0  3   4   2                5\n"
    }
   ],
   "source": [
    "print(prepared_2P.head())\n",
    "print(prepared_4P.head())"
   ]
  },
  {
   "cell_type": "code",
   "execution_count": 23,
   "metadata": {},
   "outputs": [],
   "source": [
    "# Export prepared recipe pack-guide in csv format\n",
    "\n",
    "pd.concat([prepared_2P, prepared_4P]).to_csv('./prepared_packguide.csv', index = True)"
   ]
  },
  {
   "cell_type": "code",
   "execution_count": 24,
   "metadata": {},
   "outputs": [
    {
     "output_type": "execute_result",
     "data": {
      "text/plain": "(60974, 14)"
     },
     "metadata": {},
     "execution_count": 24
    }
   ],
   "source": [
    "# pliminary filtering Kitting Line Scanning System data (Week 17 - Week 23)\n",
    "klss_raw = pd.read_csv('./Kitting_raw_W17-W23.csv')\n",
    "klss_raw.shape"
   ]
  },
  {
   "cell_type": "code",
   "execution_count": 25,
   "metadata": {},
   "outputs": [
    {
     "output_type": "execute_result",
     "data": {
      "text/plain": "(36475, 15)"
     },
     "metadata": {},
     "execution_count": 25
    }
   ],
   "source": [
    "# row filitering: 1.\"Production\"; 2. Completing a dolly; 3.  2 < \"Time Consumption\" < 10 \n",
    "Conditions = (\n",
    "(klss_raw['Activity'] == 'Production') & \n",
    "(klss_raw['Seq Code'].notnull()) &\n",
    "((klss_raw['Time Consumption'] > 2) & (klss_raw['Time Consumption'] < 10))\n",
    ")\n",
    "klss_raw_row_filitered = klss_raw[Conditions].reset_index()\n",
    "klss_raw_row_filitered.shape"
   ]
  },
  {
   "cell_type": "code",
   "execution_count": 26,
   "metadata": {},
   "outputs": [
    {
     "output_type": "execute_result",
     "data": {
      "text/plain": "      Recipe Name     Week  Pickers Count  Time Consumption\n0              C4  2020-17            2.0              8.00\n1              C4  2020-17            2.0              5.00\n2              C4  2020-17            2.0              7.00\n3              C4  2020-17            2.0              5.00\n4              C4  2020-17            2.0              8.00\n...           ...      ...            ...               ...\n36470          M4  2020-23            2.0              4.55\n36471          M4  2020-23            2.0              3.48\n36472          M4  2020-23            2.0              3.43\n36473          M4  2020-23            2.0              2.55\n36474          M4  2020-23            2.0              2.70\n\n[36475 rows x 4 columns]",
      "text/html": "<div>\n<style scoped>\n    .dataframe tbody tr th:only-of-type {\n        vertical-align: middle;\n    }\n\n    .dataframe tbody tr th {\n        vertical-align: top;\n    }\n\n    .dataframe thead th {\n        text-align: right;\n    }\n</style>\n<table border=\"1\" class=\"dataframe\">\n  <thead>\n    <tr style=\"text-align: right;\">\n      <th></th>\n      <th>Recipe Name</th>\n      <th>Week</th>\n      <th>Pickers Count</th>\n      <th>Time Consumption</th>\n    </tr>\n  </thead>\n  <tbody>\n    <tr>\n      <th>0</th>\n      <td>C4</td>\n      <td>2020-17</td>\n      <td>2.0</td>\n      <td>8.00</td>\n    </tr>\n    <tr>\n      <th>1</th>\n      <td>C4</td>\n      <td>2020-17</td>\n      <td>2.0</td>\n      <td>5.00</td>\n    </tr>\n    <tr>\n      <th>2</th>\n      <td>C4</td>\n      <td>2020-17</td>\n      <td>2.0</td>\n      <td>7.00</td>\n    </tr>\n    <tr>\n      <th>3</th>\n      <td>C4</td>\n      <td>2020-17</td>\n      <td>2.0</td>\n      <td>5.00</td>\n    </tr>\n    <tr>\n      <th>4</th>\n      <td>C4</td>\n      <td>2020-17</td>\n      <td>2.0</td>\n      <td>8.00</td>\n    </tr>\n    <tr>\n      <th>...</th>\n      <td>...</td>\n      <td>...</td>\n      <td>...</td>\n      <td>...</td>\n    </tr>\n    <tr>\n      <th>36470</th>\n      <td>M4</td>\n      <td>2020-23</td>\n      <td>2.0</td>\n      <td>4.55</td>\n    </tr>\n    <tr>\n      <th>36471</th>\n      <td>M4</td>\n      <td>2020-23</td>\n      <td>2.0</td>\n      <td>3.48</td>\n    </tr>\n    <tr>\n      <th>36472</th>\n      <td>M4</td>\n      <td>2020-23</td>\n      <td>2.0</td>\n      <td>3.43</td>\n    </tr>\n    <tr>\n      <th>36473</th>\n      <td>M4</td>\n      <td>2020-23</td>\n      <td>2.0</td>\n      <td>2.55</td>\n    </tr>\n    <tr>\n      <th>36474</th>\n      <td>M4</td>\n      <td>2020-23</td>\n      <td>2.0</td>\n      <td>2.70</td>\n    </tr>\n  </tbody>\n</table>\n<p>36475 rows × 4 columns</p>\n</div>"
     },
     "metadata": {},
     "execution_count": 26
    }
   ],
   "source": [
    "#column filitering\n",
    "klss_staged = klss_raw_row_filitered[['Recipe Name', 'Week', 'Pickers Count', 'Time Consumption']]\n",
    "klss_staged"
   ]
  },
  {
   "cell_type": "code",
   "execution_count": 27,
   "metadata": {},
   "outputs": [
    {
     "output_type": "execute_result",
     "data": {
      "text/plain": "      Recipe Name     Week  Pickers Count  Time Consumption Recipe Code   P\n0              C4  2020-17            2.0              8.00        17C4  4P\n1              C4  2020-17            2.0              5.00        17C4  4P\n2              C4  2020-17            2.0              7.00        17C4  4P\n3              C4  2020-17            2.0              5.00        17C4  4P\n4              C4  2020-17            2.0              8.00        17C4  4P\n...           ...      ...            ...               ...         ...  ..\n36470          M4  2020-23            2.0              4.55        23M4  4P\n36471          M4  2020-23            2.0              3.48        23M4  4P\n36472          M4  2020-23            2.0              3.43        23M4  4P\n36473          M4  2020-23            2.0              2.55        23M4  4P\n36474          M4  2020-23            2.0              2.70        23M4  4P\n\n[36475 rows x 6 columns]",
      "text/html": "<div>\n<style scoped>\n    .dataframe tbody tr th:only-of-type {\n        vertical-align: middle;\n    }\n\n    .dataframe tbody tr th {\n        vertical-align: top;\n    }\n\n    .dataframe thead th {\n        text-align: right;\n    }\n</style>\n<table border=\"1\" class=\"dataframe\">\n  <thead>\n    <tr style=\"text-align: right;\">\n      <th></th>\n      <th>Recipe Name</th>\n      <th>Week</th>\n      <th>Pickers Count</th>\n      <th>Time Consumption</th>\n      <th>Recipe Code</th>\n      <th>P</th>\n    </tr>\n  </thead>\n  <tbody>\n    <tr>\n      <th>0</th>\n      <td>C4</td>\n      <td>2020-17</td>\n      <td>2.0</td>\n      <td>8.00</td>\n      <td>17C4</td>\n      <td>4P</td>\n    </tr>\n    <tr>\n      <th>1</th>\n      <td>C4</td>\n      <td>2020-17</td>\n      <td>2.0</td>\n      <td>5.00</td>\n      <td>17C4</td>\n      <td>4P</td>\n    </tr>\n    <tr>\n      <th>2</th>\n      <td>C4</td>\n      <td>2020-17</td>\n      <td>2.0</td>\n      <td>7.00</td>\n      <td>17C4</td>\n      <td>4P</td>\n    </tr>\n    <tr>\n      <th>3</th>\n      <td>C4</td>\n      <td>2020-17</td>\n      <td>2.0</td>\n      <td>5.00</td>\n      <td>17C4</td>\n      <td>4P</td>\n    </tr>\n    <tr>\n      <th>4</th>\n      <td>C4</td>\n      <td>2020-17</td>\n      <td>2.0</td>\n      <td>8.00</td>\n      <td>17C4</td>\n      <td>4P</td>\n    </tr>\n    <tr>\n      <th>...</th>\n      <td>...</td>\n      <td>...</td>\n      <td>...</td>\n      <td>...</td>\n      <td>...</td>\n      <td>...</td>\n    </tr>\n    <tr>\n      <th>36470</th>\n      <td>M4</td>\n      <td>2020-23</td>\n      <td>2.0</td>\n      <td>4.55</td>\n      <td>23M4</td>\n      <td>4P</td>\n    </tr>\n    <tr>\n      <th>36471</th>\n      <td>M4</td>\n      <td>2020-23</td>\n      <td>2.0</td>\n      <td>3.48</td>\n      <td>23M4</td>\n      <td>4P</td>\n    </tr>\n    <tr>\n      <th>36472</th>\n      <td>M4</td>\n      <td>2020-23</td>\n      <td>2.0</td>\n      <td>3.43</td>\n      <td>23M4</td>\n      <td>4P</td>\n    </tr>\n    <tr>\n      <th>36473</th>\n      <td>M4</td>\n      <td>2020-23</td>\n      <td>2.0</td>\n      <td>2.55</td>\n      <td>23M4</td>\n      <td>4P</td>\n    </tr>\n    <tr>\n      <th>36474</th>\n      <td>M4</td>\n      <td>2020-23</td>\n      <td>2.0</td>\n      <td>2.70</td>\n      <td>23M4</td>\n      <td>4P</td>\n    </tr>\n  </tbody>\n</table>\n<p>36475 rows × 6 columns</p>\n</div>"
     },
     "metadata": {},
     "execution_count": 27
    }
   ],
   "source": [
    "klss_staged['Recipe Code'] = klss_staged['Week'].str[-2:] + klss_staged['Recipe Name']\n",
    "klss_staged['P'] = klss_staged['Recipe Name'].str[-1] + \"P\"\n",
    "klss_staged"
   ]
  },
  {
   "cell_type": "code",
   "execution_count": 28,
   "metadata": {},
   "outputs": [],
   "source": [
    "klss_prepared = klss_staged[['Recipe Code', 'Pickers Count', 'Time Consumption', 'P']]"
   ]
  },
  {
   "cell_type": "code",
   "execution_count": 29,
   "metadata": {},
   "outputs": [
    {
     "output_type": "stream",
     "name": "stdout",
     "text": "Recipe Code  Pickers Count  Time Consumption   P\n525          17D2            3.0              6.00  2P\n526          17D2            3.0              6.00  2P\n527          17D2            3.0              5.00  2P\n528          17D2            3.0              4.00  2P\n529          17D2            3.0              5.00  2P\n...           ...            ...               ...  ..\n36187        23P2            3.0              4.48  2P\n36188        23P2            3.0              5.42  2P\n36189        23P2            3.0              4.83  2P\n36190        23P2            3.0              5.33  2P\n36191        23P2            3.0              4.60  2P\n\n[14915 rows x 4 columns]\n      Recipe Code  Pickers Count  Time Consumption   P\n0            17C4            2.0              8.00  4P\n1            17C4            2.0              5.00  4P\n2            17C4            2.0              7.00  4P\n3            17C4            2.0              5.00  4P\n4            17C4            2.0              8.00  4P\n...           ...            ...               ...  ..\n36470        23M4            2.0              4.55  4P\n36471        23M4            2.0              3.48  4P\n36472        23M4            2.0              3.43  4P\n36473        23M4            2.0              2.55  4P\n36474        23M4            2.0              2.70  4P\n\n[21559 rows x 4 columns]\n       Recipe Code  Pickers Count  Time Consumption   P\n17999  20Break End            3.0              4.53  dP\n"
    },
    {
     "output_type": "execute_result",
     "data": {
      "text/plain": "Empty DataFrame\nColumns: []\nIndex: []",
      "text/html": "<div>\n<style scoped>\n    .dataframe tbody tr th:only-of-type {\n        vertical-align: middle;\n    }\n\n    .dataframe tbody tr th {\n        vertical-align: top;\n    }\n\n    .dataframe thead th {\n        text-align: right;\n    }\n</style>\n<table border=\"1\" class=\"dataframe\">\n  <thead>\n    <tr style=\"text-align: right;\">\n      <th></th>\n    </tr>\n  </thead>\n  <tbody>\n  </tbody>\n</table>\n</div>"
     },
     "metadata": {},
     "execution_count": 29
    }
   ],
   "source": [
    "# Kitting Line Scanning System data prepared\n",
    "klss_prepared.groupby('P').apply(print)"
   ]
  },
  {
   "cell_type": "code",
   "execution_count": 30,
   "metadata": {},
   "outputs": [],
   "source": [
    "# Export prepared scanning system data to csv\n",
    "klss_prepared.to_csv('./prepared_KittingRaw.csv', index = False)"
   ]
  }
 ],
 "metadata": {
  "language_info": {
   "codemirror_mode": {
    "name": "ipython",
    "version": 3
   },
   "file_extension": ".py",
   "mimetype": "text/x-python",
   "name": "python",
   "nbconvert_exporter": "python",
   "pygments_lexer": "ipython3",
   "version": "3.8.3-final"
  },
  "orig_nbformat": 2,
  "kernelspec": {
   "name": "python38332bitmachinelearningenvvenvb680d137606c4b9ea20c71d91ffd1027",
   "display_name": "Python 3.8.3 32-bit ('machine_learning_env': venv)"
  }
 },
 "nbformat": 4,
 "nbformat_minor": 2
}