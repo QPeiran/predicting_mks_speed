{
 "cells": [
  {
   "cell_type": "code",
   "execution_count": 1,
   "metadata": {},
   "outputs": [],
   "source": [
    "import pandas as pd\n",
    "import numpy as np\n",
    "import seaborn as sns\n",
    "from sklearn.ensemble import RandomForestRegressor\n",
    "# from sklearn.impute import KNNImputer\n",
    "from sklearn.metrics import mean_absolute_error\n",
    "# from sklearn.model_selection import train_test_split"
   ]
  },
  {
   "cell_type": "code",
   "execution_count": 2,
   "metadata": {},
   "outputs": [],
   "source": [
    "#model scoring using mean absolute error\n",
    "def score_dataset(X_train, X_valid, y_train, y_valid):\n",
    "    model = RandomForestRegressor(n_estimators=10, random_state=0)\n",
    "    model.fit(X_train, y_train)\n",
    "    preds = model.predict(X_valid)\n",
    "    return mean_absolute_error(y_valid, preds)"
   ]
  },
  {
   "cell_type": "code",
   "execution_count": 4,
   "metadata": {},
   "outputs": [],
   "source": [
    "raw_df = pd.read_csv('./train_dataset.csv',)"
   ]
  },
  {
   "cell_type": "code",
   "execution_count": 5,
   "metadata": {},
   "outputs": [
    {
     "output_type": "execute_result",
     "data": {
      "text/plain": "      Start Time    Finish Time                Activity      Seq Code  \\\n0  1/1/2019 0:00  5/6/2020 8:15          Factory Closed           NaN   \n1  5/6/2020 8:15  5/6/2020 8:15  Preparation/Changeover           NaN   \n2  5/6/2020 8:15  5/6/2020 8:31              Production           NaN   \n3  5/6/2020 8:31  5/6/2020 8:36                   Break           NaN   \n4  5/6/2020 8:36  5/6/2020 8:42              Production  0001 of 0033   \n\n  Recipe Name Break Reasons Missing Ingredients Kitting Line   Assembly Batch  \\\n0          D4           NaN                 NaN          NaN              NaN   \n1          D4           NaN                 NaN          KL1              NaN   \n2          D4           NaN                 NaN          KL1              NaN   \n3          D4  machine down                 NaN          KL1              NaN   \n4          D4           NaN                 NaN          KL1  Friday Assembly   \n\n         Event Shift           Team Leader  Pickers Count  Time Consumption  \\\n0  Wednesday Morning  iXUsr_Davidson(8254)              2            495.50   \n1  Wednesday Morning  iXUsr_Davidson(8254)              2              0.15   \n2  Wednesday Morning  iXUsr_Davidson(8254)              2             15.72   \n3  Wednesday Morning  iXUsr_Davidson(8254)              2              5.48   \n4  Wednesday Morning  iXUsr_Davidson(8254)              2              6.00   \n\n      Week  \n0  2020-20  \n1  2020-20  \n2  2020-20  \n3  2020-20  \n4  2020-20  ",
      "text/html": "<div>\n<style scoped>\n    .dataframe tbody tr th:only-of-type {\n        vertical-align: middle;\n    }\n\n    .dataframe tbody tr th {\n        vertical-align: top;\n    }\n\n    .dataframe thead th {\n        text-align: right;\n    }\n</style>\n<table border=\"1\" class=\"dataframe\">\n  <thead>\n    <tr style=\"text-align: right;\">\n      <th></th>\n      <th>Start Time</th>\n      <th>Finish Time</th>\n      <th>Activity</th>\n      <th>Seq Code</th>\n      <th>Recipe Name</th>\n      <th>Break Reasons</th>\n      <th>Missing Ingredients</th>\n      <th>Kitting Line</th>\n      <th>Assembly Batch</th>\n      <th>Event Shift</th>\n      <th>Team Leader</th>\n      <th>Pickers Count</th>\n      <th>Time Consumption</th>\n      <th>Week</th>\n    </tr>\n  </thead>\n  <tbody>\n    <tr>\n      <td>0</td>\n      <td>1/1/2019 0:00</td>\n      <td>5/6/2020 8:15</td>\n      <td>Factory Closed</td>\n      <td>NaN</td>\n      <td>D4</td>\n      <td>NaN</td>\n      <td>NaN</td>\n      <td>NaN</td>\n      <td>NaN</td>\n      <td>Wednesday Morning</td>\n      <td>iXUsr_Davidson(8254)</td>\n      <td>2</td>\n      <td>495.50</td>\n      <td>2020-20</td>\n    </tr>\n    <tr>\n      <td>1</td>\n      <td>5/6/2020 8:15</td>\n      <td>5/6/2020 8:15</td>\n      <td>Preparation/Changeover</td>\n      <td>NaN</td>\n      <td>D4</td>\n      <td>NaN</td>\n      <td>NaN</td>\n      <td>KL1</td>\n      <td>NaN</td>\n      <td>Wednesday Morning</td>\n      <td>iXUsr_Davidson(8254)</td>\n      <td>2</td>\n      <td>0.15</td>\n      <td>2020-20</td>\n    </tr>\n    <tr>\n      <td>2</td>\n      <td>5/6/2020 8:15</td>\n      <td>5/6/2020 8:31</td>\n      <td>Production</td>\n      <td>NaN</td>\n      <td>D4</td>\n      <td>NaN</td>\n      <td>NaN</td>\n      <td>KL1</td>\n      <td>NaN</td>\n      <td>Wednesday Morning</td>\n      <td>iXUsr_Davidson(8254)</td>\n      <td>2</td>\n      <td>15.72</td>\n      <td>2020-20</td>\n    </tr>\n    <tr>\n      <td>3</td>\n      <td>5/6/2020 8:31</td>\n      <td>5/6/2020 8:36</td>\n      <td>Break</td>\n      <td>NaN</td>\n      <td>D4</td>\n      <td>machine down</td>\n      <td>NaN</td>\n      <td>KL1</td>\n      <td>NaN</td>\n      <td>Wednesday Morning</td>\n      <td>iXUsr_Davidson(8254)</td>\n      <td>2</td>\n      <td>5.48</td>\n      <td>2020-20</td>\n    </tr>\n    <tr>\n      <td>4</td>\n      <td>5/6/2020 8:36</td>\n      <td>5/6/2020 8:42</td>\n      <td>Production</td>\n      <td>0001 of 0033</td>\n      <td>D4</td>\n      <td>NaN</td>\n      <td>NaN</td>\n      <td>KL1</td>\n      <td>Friday Assembly</td>\n      <td>Wednesday Morning</td>\n      <td>iXUsr_Davidson(8254)</td>\n      <td>2</td>\n      <td>6.00</td>\n      <td>2020-20</td>\n    </tr>\n  </tbody>\n</table>\n</div>"
     },
     "metadata": {},
     "execution_count": 5
    }
   ],
   "source": [
    "raw_df.head()"
   ]
  },
  {
   "cell_type": "code",
   "execution_count": 6,
   "metadata": {},
   "outputs": [
    {
     "output_type": "execute_result",
     "data": {
      "text/plain": "       Pickers Count  Time Consumption\ncount    7882.000000       7882.000000\nmean        3.016493         19.324768\nstd         0.669439         94.389956\nmin         0.000000          0.070000\n25%         3.000000          2.820000\n50%         3.000000          4.150000\n75%         3.000000          5.650000\nmax         4.000000       1239.270000",
      "text/html": "<div>\n<style scoped>\n    .dataframe tbody tr th:only-of-type {\n        vertical-align: middle;\n    }\n\n    .dataframe tbody tr th {\n        vertical-align: top;\n    }\n\n    .dataframe thead th {\n        text-align: right;\n    }\n</style>\n<table border=\"1\" class=\"dataframe\">\n  <thead>\n    <tr style=\"text-align: right;\">\n      <th></th>\n      <th>Pickers Count</th>\n      <th>Time Consumption</th>\n    </tr>\n  </thead>\n  <tbody>\n    <tr>\n      <td>count</td>\n      <td>7882.000000</td>\n      <td>7882.000000</td>\n    </tr>\n    <tr>\n      <td>mean</td>\n      <td>3.016493</td>\n      <td>19.324768</td>\n    </tr>\n    <tr>\n      <td>std</td>\n      <td>0.669439</td>\n      <td>94.389956</td>\n    </tr>\n    <tr>\n      <td>min</td>\n      <td>0.000000</td>\n      <td>0.070000</td>\n    </tr>\n    <tr>\n      <td>25%</td>\n      <td>3.000000</td>\n      <td>2.820000</td>\n    </tr>\n    <tr>\n      <td>50%</td>\n      <td>3.000000</td>\n      <td>4.150000</td>\n    </tr>\n    <tr>\n      <td>75%</td>\n      <td>3.000000</td>\n      <td>5.650000</td>\n    </tr>\n    <tr>\n      <td>max</td>\n      <td>4.000000</td>\n      <td>1239.270000</td>\n    </tr>\n  </tbody>\n</table>\n</div>"
     },
     "metadata": {},
     "execution_count": 6
    }
   ],
   "source": [
    "raw_df.describe()"
   ]
  },
  {
   "cell_type": "code",
   "execution_count": 24,
   "metadata": {},
   "outputs": [
    {
     "output_type": "execute_result",
     "data": {
      "text/plain": "           Start Time      Finish Time    Activity      Seq Code Recipe Name  \\\n6221   5/6/2020 16:01   5/6/2020 16:01  Production  0001 of 0141          C2   \n6222   5/6/2020 16:01   5/6/2020 16:06  Production  0002 of 0141          C2   \n6223   5/6/2020 16:06   5/6/2020 16:08  Production  0003 of 0141          C2   \n6224   5/6/2020 16:08   5/6/2020 16:11  Production  0004 of 0141          C2   \n6225   5/6/2020 16:11   5/6/2020 16:14  Production  0005 of 0141          C2   \n...               ...              ...         ...           ...         ...   \n6920  5/11/2020 12:52  5/11/2020 12:55  Production  0021 of 0025          C2   \n6921  5/11/2020 12:55  5/11/2020 12:58  Production  0022 of 0025          C2   \n6922  5/11/2020 12:58  5/11/2020 13:01  Production  0023 of 0025          C2   \n6923  5/11/2020 13:01  5/11/2020 13:04  Production  0024 of 0025          C2   \n6924  5/11/2020 13:04  5/11/2020 13:04  Production  0025 of 0025          C2   \n\n     Break Reasons Missing Ingredients Kitting Line    Assembly Batch  \\\n6221           NaN                 NaN         KL17   Friday Assembly   \n6222           NaN                 NaN         KL17   Friday Assembly   \n6223           NaN                 NaN         KL17   Friday Assembly   \n6224           NaN                 NaN         KL17   Friday Assembly   \n6225           NaN                 NaN         KL17   Friday Assembly   \n...            ...                 ...          ...               ...   \n6920           NaN                 NaN         KL17  Tuesday Assembly   \n6921           NaN                 NaN         KL17  Tuesday Assembly   \n6922           NaN                 NaN         KL17  Tuesday Assembly   \n6923           NaN                 NaN         KL17  Tuesday Assembly   \n6924           NaN                 NaN         KL17  Tuesday Assembly   \n\n              Event Shift         Team Leader  Pickers Count  \\\n6221  Wednesday Afternoon  JAMES RAY ALAY-AY;              3   \n6222  Wednesday Afternoon  JAMES RAY ALAY-AY;              3   \n6223  Wednesday Afternoon  JAMES RAY ALAY-AY;              3   \n6224  Wednesday Afternoon  JAMES RAY ALAY-AY;              3   \n6225  Wednesday Afternoon  JAMES RAY ALAY-AY;              3   \n...                   ...                 ...            ...   \n6920       Monday Morning              Dummy;              3   \n6921       Monday Morning              Dummy;              3   \n6922     Monday Afternoon              Dummy;              3   \n6923     Monday Afternoon              Dummy;              3   \n6924     Monday Afternoon              Dummy;              3   \n\n      Time Consumption     Week  \n6221              0.23  2020-20  \n6222              4.80  2020-20  \n6223              2.20  2020-20  \n6224              3.12  2020-20  \n6225              2.73  2020-20  \n...                ...      ...  \n6920              3.38  2020-20  \n6921              2.92  2020-20  \n6922              2.65  2020-20  \n6923              3.02  2020-20  \n6924              0.15  2020-20  \n\n[590 rows x 14 columns]",
      "text/html": "<div>\n<style scoped>\n    .dataframe tbody tr th:only-of-type {\n        vertical-align: middle;\n    }\n\n    .dataframe tbody tr th {\n        vertical-align: top;\n    }\n\n    .dataframe thead th {\n        text-align: right;\n    }\n</style>\n<table border=\"1\" class=\"dataframe\">\n  <thead>\n    <tr style=\"text-align: right;\">\n      <th></th>\n      <th>Start Time</th>\n      <th>Finish Time</th>\n      <th>Activity</th>\n      <th>Seq Code</th>\n      <th>Recipe Name</th>\n      <th>Break Reasons</th>\n      <th>Missing Ingredients</th>\n      <th>Kitting Line</th>\n      <th>Assembly Batch</th>\n      <th>Event Shift</th>\n      <th>Team Leader</th>\n      <th>Pickers Count</th>\n      <th>Time Consumption</th>\n      <th>Week</th>\n    </tr>\n  </thead>\n  <tbody>\n    <tr>\n      <td>6221</td>\n      <td>5/6/2020 16:01</td>\n      <td>5/6/2020 16:01</td>\n      <td>Production</td>\n      <td>0001 of 0141</td>\n      <td>C2</td>\n      <td>NaN</td>\n      <td>NaN</td>\n      <td>KL17</td>\n      <td>Friday Assembly</td>\n      <td>Wednesday Afternoon</td>\n      <td>JAMES RAY ALAY-AY;</td>\n      <td>3</td>\n      <td>0.23</td>\n      <td>2020-20</td>\n    </tr>\n    <tr>\n      <td>6222</td>\n      <td>5/6/2020 16:01</td>\n      <td>5/6/2020 16:06</td>\n      <td>Production</td>\n      <td>0002 of 0141</td>\n      <td>C2</td>\n      <td>NaN</td>\n      <td>NaN</td>\n      <td>KL17</td>\n      <td>Friday Assembly</td>\n      <td>Wednesday Afternoon</td>\n      <td>JAMES RAY ALAY-AY;</td>\n      <td>3</td>\n      <td>4.80</td>\n      <td>2020-20</td>\n    </tr>\n    <tr>\n      <td>6223</td>\n      <td>5/6/2020 16:06</td>\n      <td>5/6/2020 16:08</td>\n      <td>Production</td>\n      <td>0003 of 0141</td>\n      <td>C2</td>\n      <td>NaN</td>\n      <td>NaN</td>\n      <td>KL17</td>\n      <td>Friday Assembly</td>\n      <td>Wednesday Afternoon</td>\n      <td>JAMES RAY ALAY-AY;</td>\n      <td>3</td>\n      <td>2.20</td>\n      <td>2020-20</td>\n    </tr>\n    <tr>\n      <td>6224</td>\n      <td>5/6/2020 16:08</td>\n      <td>5/6/2020 16:11</td>\n      <td>Production</td>\n      <td>0004 of 0141</td>\n      <td>C2</td>\n      <td>NaN</td>\n      <td>NaN</td>\n      <td>KL17</td>\n      <td>Friday Assembly</td>\n      <td>Wednesday Afternoon</td>\n      <td>JAMES RAY ALAY-AY;</td>\n      <td>3</td>\n      <td>3.12</td>\n      <td>2020-20</td>\n    </tr>\n    <tr>\n      <td>6225</td>\n      <td>5/6/2020 16:11</td>\n      <td>5/6/2020 16:14</td>\n      <td>Production</td>\n      <td>0005 of 0141</td>\n      <td>C2</td>\n      <td>NaN</td>\n      <td>NaN</td>\n      <td>KL17</td>\n      <td>Friday Assembly</td>\n      <td>Wednesday Afternoon</td>\n      <td>JAMES RAY ALAY-AY;</td>\n      <td>3</td>\n      <td>2.73</td>\n      <td>2020-20</td>\n    </tr>\n    <tr>\n      <td>...</td>\n      <td>...</td>\n      <td>...</td>\n      <td>...</td>\n      <td>...</td>\n      <td>...</td>\n      <td>...</td>\n      <td>...</td>\n      <td>...</td>\n      <td>...</td>\n      <td>...</td>\n      <td>...</td>\n      <td>...</td>\n      <td>...</td>\n      <td>...</td>\n    </tr>\n    <tr>\n      <td>6920</td>\n      <td>5/11/2020 12:52</td>\n      <td>5/11/2020 12:55</td>\n      <td>Production</td>\n      <td>0021 of 0025</td>\n      <td>C2</td>\n      <td>NaN</td>\n      <td>NaN</td>\n      <td>KL17</td>\n      <td>Tuesday Assembly</td>\n      <td>Monday Morning</td>\n      <td>Dummy;</td>\n      <td>3</td>\n      <td>3.38</td>\n      <td>2020-20</td>\n    </tr>\n    <tr>\n      <td>6921</td>\n      <td>5/11/2020 12:55</td>\n      <td>5/11/2020 12:58</td>\n      <td>Production</td>\n      <td>0022 of 0025</td>\n      <td>C2</td>\n      <td>NaN</td>\n      <td>NaN</td>\n      <td>KL17</td>\n      <td>Tuesday Assembly</td>\n      <td>Monday Morning</td>\n      <td>Dummy;</td>\n      <td>3</td>\n      <td>2.92</td>\n      <td>2020-20</td>\n    </tr>\n    <tr>\n      <td>6922</td>\n      <td>5/11/2020 12:58</td>\n      <td>5/11/2020 13:01</td>\n      <td>Production</td>\n      <td>0023 of 0025</td>\n      <td>C2</td>\n      <td>NaN</td>\n      <td>NaN</td>\n      <td>KL17</td>\n      <td>Tuesday Assembly</td>\n      <td>Monday Afternoon</td>\n      <td>Dummy;</td>\n      <td>3</td>\n      <td>2.65</td>\n      <td>2020-20</td>\n    </tr>\n    <tr>\n      <td>6923</td>\n      <td>5/11/2020 13:01</td>\n      <td>5/11/2020 13:04</td>\n      <td>Production</td>\n      <td>0024 of 0025</td>\n      <td>C2</td>\n      <td>NaN</td>\n      <td>NaN</td>\n      <td>KL17</td>\n      <td>Tuesday Assembly</td>\n      <td>Monday Afternoon</td>\n      <td>Dummy;</td>\n      <td>3</td>\n      <td>3.02</td>\n      <td>2020-20</td>\n    </tr>\n    <tr>\n      <td>6924</td>\n      <td>5/11/2020 13:04</td>\n      <td>5/11/2020 13:04</td>\n      <td>Production</td>\n      <td>0025 of 0025</td>\n      <td>C2</td>\n      <td>NaN</td>\n      <td>NaN</td>\n      <td>KL17</td>\n      <td>Tuesday Assembly</td>\n      <td>Monday Afternoon</td>\n      <td>Dummy;</td>\n      <td>3</td>\n      <td>0.15</td>\n      <td>2020-20</td>\n    </tr>\n  </tbody>\n</table>\n<p>590 rows × 14 columns</p>\n</div>"
     },
     "metadata": {},
     "execution_count": 24
    }
   ],
   "source": [
    "raw_df[(raw_df['Recipe Name'] == 'C2') & (raw_df['Seq Code'].notnull())]"
   ]
  },
  {
   "cell_type": "code",
   "execution_count": null,
   "metadata": {},
   "outputs": [],
   "source": []
  }
 ],
 "metadata": {
  "language_info": {
   "codemirror_mode": {
    "name": "ipython",
    "version": 3
   },
   "file_extension": ".py",
   "mimetype": "text/x-python",
   "name": "python",
   "nbconvert_exporter": "python",
   "pygments_lexer": "ipython3",
   "version": "3.7.4-final"
  },
  "orig_nbformat": 2,
  "kernelspec": {
   "name": "python3",
   "display_name": "Python 3"
  }
 },
 "nbformat": 4,
 "nbformat_minor": 2
}