{
 "cells": [
  {
   "cell_type": "code",
   "execution_count": 1,
   "metadata": {},
   "outputs": [],
   "source": [
    "import pandas as pd\n",
    "import numpy as np"
   ]
  },
  {
   "cell_type": "code",
   "execution_count": 2,
   "metadata": {},
   "outputs": [],
   "source": [
    "raw_pg = pd.read_excel('./label ingredients.xlsx', sheet_name= 'W17-W23 total')\n",
    "raw_df = raw_pg.drop_duplicates()[['index', 'recipe_name', 'sku_code', 'qty_2ppl', 'qty_4ppl', 'week']]"
   ]
  },
  {
   "cell_type": "code",
   "execution_count": 3,
   "metadata": {},
   "outputs": [
    {
     "output_type": "execute_result",
     "data": {
      "text/plain": "    index                                        recipe_name        sku_code  \\\n0       1  Tandoori Chicken Sweet Potato Bowl with Garlic...  PHF-10-00384-4   \n5       1  Tandoori Chicken Sweet Potato Bowl with Garlic...  PHF-10-00483-1   \n10      1  Tandoori Chicken Sweet Potato Bowl with Garlic...  PHF-10-00581-1   \n15      1  Tandoori Chicken Sweet Potato Bowl with Garlic...  PHF-10-00707-4   \n20      1  Tandoori Chicken Sweet Potato Bowl with Garlic...  PHF-10-01167-1   \n\n    qty_2ppl  qty_4ppl      week  \n0          1         0  2020-W17  \n5          1         0  2020-W17  \n10         0         0  2020-W17  \n15         1         0  2020-W17  \n20         2         0  2020-W17  ",
      "text/html": "<div>\n<style scoped>\n    .dataframe tbody tr th:only-of-type {\n        vertical-align: middle;\n    }\n\n    .dataframe tbody tr th {\n        vertical-align: top;\n    }\n\n    .dataframe thead th {\n        text-align: right;\n    }\n</style>\n<table border=\"1\" class=\"dataframe\">\n  <thead>\n    <tr style=\"text-align: right;\">\n      <th></th>\n      <th>index</th>\n      <th>recipe_name</th>\n      <th>sku_code</th>\n      <th>qty_2ppl</th>\n      <th>qty_4ppl</th>\n      <th>week</th>\n    </tr>\n  </thead>\n  <tbody>\n    <tr>\n      <td>0</td>\n      <td>1</td>\n      <td>Tandoori Chicken Sweet Potato Bowl with Garlic...</td>\n      <td>PHF-10-00384-4</td>\n      <td>1</td>\n      <td>0</td>\n      <td>2020-W17</td>\n    </tr>\n    <tr>\n      <td>5</td>\n      <td>1</td>\n      <td>Tandoori Chicken Sweet Potato Bowl with Garlic...</td>\n      <td>PHF-10-00483-1</td>\n      <td>1</td>\n      <td>0</td>\n      <td>2020-W17</td>\n    </tr>\n    <tr>\n      <td>10</td>\n      <td>1</td>\n      <td>Tandoori Chicken Sweet Potato Bowl with Garlic...</td>\n      <td>PHF-10-00581-1</td>\n      <td>0</td>\n      <td>0</td>\n      <td>2020-W17</td>\n    </tr>\n    <tr>\n      <td>15</td>\n      <td>1</td>\n      <td>Tandoori Chicken Sweet Potato Bowl with Garlic...</td>\n      <td>PHF-10-00707-4</td>\n      <td>1</td>\n      <td>0</td>\n      <td>2020-W17</td>\n    </tr>\n    <tr>\n      <td>20</td>\n      <td>1</td>\n      <td>Tandoori Chicken Sweet Potato Bowl with Garlic...</td>\n      <td>PHF-10-01167-1</td>\n      <td>2</td>\n      <td>0</td>\n      <td>2020-W17</td>\n    </tr>\n  </tbody>\n</table>\n</div>"
     },
     "metadata": {},
     "execution_count": 3
    }
   ],
   "source": [
    "raw_df.head()"
   ]
  },
  {
   "cell_type": "code",
   "execution_count": 4,
   "metadata": {},
   "outputs": [],
   "source": [
    "def coutP(c_p2, c_p4):\n",
    "    if c_p2 != 0:\n",
    "        return \"2P\"\n",
    "    elif c_p4 != 0:\n",
    "        return \"4P\"\n",
    "    else:\n",
    "        return np.nan\n",
    "\n",
    "raw_df['Person'] = raw_df.apply(lambda x : coutP(x.qty_2ppl, x.qty_4ppl) , axis = 1)"
   ]
  },
  {
   "cell_type": "code",
   "execution_count": 5,
   "metadata": {},
   "outputs": [],
   "source": [
    "raw_df = raw_df.dropna().reset_index()"
   ]
  },
  {
   "cell_type": "code",
   "execution_count": 6,
   "metadata": {},
   "outputs": [
    {
     "output_type": "execute_result",
     "data": {
      "text/plain": "    index Recipe\n0       1      A\n1       2      B\n2       3      C\n3       4      D\n4       5      E\n5       6      F\n6       7      G\n7       8      H\n8       9      I\n9      10      J\n10     11      K\n11     12      L\n12     13      M\n13     14      N\n14     15      O\n15     16      P\n16     17      Q\n17     18      R\n18     19      S\n19     20      T",
      "text/html": "<div>\n<style scoped>\n    .dataframe tbody tr th:only-of-type {\n        vertical-align: middle;\n    }\n\n    .dataframe tbody tr th {\n        vertical-align: top;\n    }\n\n    .dataframe thead th {\n        text-align: right;\n    }\n</style>\n<table border=\"1\" class=\"dataframe\">\n  <thead>\n    <tr style=\"text-align: right;\">\n      <th></th>\n      <th>index</th>\n      <th>Recipe</th>\n    </tr>\n  </thead>\n  <tbody>\n    <tr>\n      <td>0</td>\n      <td>1</td>\n      <td>A</td>\n    </tr>\n    <tr>\n      <td>1</td>\n      <td>2</td>\n      <td>B</td>\n    </tr>\n    <tr>\n      <td>2</td>\n      <td>3</td>\n      <td>C</td>\n    </tr>\n    <tr>\n      <td>3</td>\n      <td>4</td>\n      <td>D</td>\n    </tr>\n    <tr>\n      <td>4</td>\n      <td>5</td>\n      <td>E</td>\n    </tr>\n    <tr>\n      <td>5</td>\n      <td>6</td>\n      <td>F</td>\n    </tr>\n    <tr>\n      <td>6</td>\n      <td>7</td>\n      <td>G</td>\n    </tr>\n    <tr>\n      <td>7</td>\n      <td>8</td>\n      <td>H</td>\n    </tr>\n    <tr>\n      <td>8</td>\n      <td>9</td>\n      <td>I</td>\n    </tr>\n    <tr>\n      <td>9</td>\n      <td>10</td>\n      <td>J</td>\n    </tr>\n    <tr>\n      <td>10</td>\n      <td>11</td>\n      <td>K</td>\n    </tr>\n    <tr>\n      <td>11</td>\n      <td>12</td>\n      <td>L</td>\n    </tr>\n    <tr>\n      <td>12</td>\n      <td>13</td>\n      <td>M</td>\n    </tr>\n    <tr>\n      <td>13</td>\n      <td>14</td>\n      <td>N</td>\n    </tr>\n    <tr>\n      <td>14</td>\n      <td>15</td>\n      <td>O</td>\n    </tr>\n    <tr>\n      <td>15</td>\n      <td>16</td>\n      <td>P</td>\n    </tr>\n    <tr>\n      <td>16</td>\n      <td>17</td>\n      <td>Q</td>\n    </tr>\n    <tr>\n      <td>17</td>\n      <td>18</td>\n      <td>R</td>\n    </tr>\n    <tr>\n      <td>18</td>\n      <td>19</td>\n      <td>S</td>\n    </tr>\n    <tr>\n      <td>19</td>\n      <td>20</td>\n      <td>T</td>\n    </tr>\n  </tbody>\n</table>\n</div>"
     },
     "metadata": {},
     "execution_count": 6
    }
   ],
   "source": [
    "index_lookup = pd.read_excel('./label ingredients.xlsx', sheet_name= 'index')\n",
    "index_lookup"
   ]
  },
  {
   "cell_type": "code",
   "execution_count": 23,
   "metadata": {},
   "outputs": [],
   "source": [
    "# raw_df.join(index_lookup, on = 'index', how = 'left', rsuffix = '_right', sort = False)\n",
    "raw_df = raw_df.merge(index_lookup, how = 'left',left_on='index', right_on='index')"
   ]
  },
  {
   "cell_type": "code",
   "execution_count": 24,
   "metadata": {},
   "outputs": [
    {
     "output_type": "execute_result",
     "data": {
      "text/plain": "      level_0  index                                        recipe_name  \\\n0           0      1  Tandoori Chicken Sweet Potato Bowl with Garlic...   \n1           5      1  Tandoori Chicken Sweet Potato Bowl with Garlic...   \n2          15      1  Tandoori Chicken Sweet Potato Bowl with Garlic...   \n3          20      1  Tandoori Chicken Sweet Potato Bowl with Garlic...   \n4          25      1  Tandoori Chicken Sweet Potato Bowl with Garlic...   \n...       ...    ...                                                ...   \n1658     8792     20  NZ Caribbean Jerk Fish with Pineapple Salsa & ...   \n1659     8802     20  NZ Caribbean Jerk Fish with Pineapple Salsa & ...   \n1660     8807     20  NZ Caribbean Jerk Fish with Pineapple Salsa & ...   \n1661     8812     20  NZ Caribbean Jerk Fish with Pineapple Salsa & ...   \n1662     8817     20  NZ Caribbean Jerk Fish with Pineapple Salsa & ...   \n\n            sku_code  qty_2ppl  qty_4ppl      week Person Recipe  \n0     PHF-10-00384-4         1         0  2020-W17     2P      A  \n1     PHF-10-00483-1         1         0  2020-W17     2P      A  \n2     PHF-10-00707-4         1         0  2020-W17     2P      A  \n3     PHF-10-01167-1         2         0  2020-W17     2P      A  \n4     PHF-10-01209-4         1         0  2020-W17     2P      A  \n...              ...       ...       ...       ...    ...    ...  \n1658  PHF-10-00281-4         0         1  2020-W23     4P      T  \n1659  PHF-10-01209-4         0         2  2020-W23     4P      T  \n1660  PHF-10-01984-4         0         1  2020-W23     4P      T  \n1661  PRO-10-00885-1         0         1  2020-W23     4P      T  \n1662  SPI-00-00382-1         0         2  2020-W23     4P      T  \n\n[1663 rows x 9 columns]",
      "text/html": "<div>\n<style scoped>\n    .dataframe tbody tr th:only-of-type {\n        vertical-align: middle;\n    }\n\n    .dataframe tbody tr th {\n        vertical-align: top;\n    }\n\n    .dataframe thead th {\n        text-align: right;\n    }\n</style>\n<table border=\"1\" class=\"dataframe\">\n  <thead>\n    <tr style=\"text-align: right;\">\n      <th></th>\n      <th>level_0</th>\n      <th>index</th>\n      <th>recipe_name</th>\n      <th>sku_code</th>\n      <th>qty_2ppl</th>\n      <th>qty_4ppl</th>\n      <th>week</th>\n      <th>Person</th>\n      <th>Recipe</th>\n    </tr>\n  </thead>\n  <tbody>\n    <tr>\n      <td>0</td>\n      <td>0</td>\n      <td>1</td>\n      <td>Tandoori Chicken Sweet Potato Bowl with Garlic...</td>\n      <td>PHF-10-00384-4</td>\n      <td>1</td>\n      <td>0</td>\n      <td>2020-W17</td>\n      <td>2P</td>\n      <td>A</td>\n    </tr>\n    <tr>\n      <td>1</td>\n      <td>5</td>\n      <td>1</td>\n      <td>Tandoori Chicken Sweet Potato Bowl with Garlic...</td>\n      <td>PHF-10-00483-1</td>\n      <td>1</td>\n      <td>0</td>\n      <td>2020-W17</td>\n      <td>2P</td>\n      <td>A</td>\n    </tr>\n    <tr>\n      <td>2</td>\n      <td>15</td>\n      <td>1</td>\n      <td>Tandoori Chicken Sweet Potato Bowl with Garlic...</td>\n      <td>PHF-10-00707-4</td>\n      <td>1</td>\n      <td>0</td>\n      <td>2020-W17</td>\n      <td>2P</td>\n      <td>A</td>\n    </tr>\n    <tr>\n      <td>3</td>\n      <td>20</td>\n      <td>1</td>\n      <td>Tandoori Chicken Sweet Potato Bowl with Garlic...</td>\n      <td>PHF-10-01167-1</td>\n      <td>2</td>\n      <td>0</td>\n      <td>2020-W17</td>\n      <td>2P</td>\n      <td>A</td>\n    </tr>\n    <tr>\n      <td>4</td>\n      <td>25</td>\n      <td>1</td>\n      <td>Tandoori Chicken Sweet Potato Bowl with Garlic...</td>\n      <td>PHF-10-01209-4</td>\n      <td>1</td>\n      <td>0</td>\n      <td>2020-W17</td>\n      <td>2P</td>\n      <td>A</td>\n    </tr>\n    <tr>\n      <td>...</td>\n      <td>...</td>\n      <td>...</td>\n      <td>...</td>\n      <td>...</td>\n      <td>...</td>\n      <td>...</td>\n      <td>...</td>\n      <td>...</td>\n      <td>...</td>\n    </tr>\n    <tr>\n      <td>1658</td>\n      <td>8792</td>\n      <td>20</td>\n      <td>NZ Caribbean Jerk Fish with Pineapple Salsa &amp; ...</td>\n      <td>PHF-10-00281-4</td>\n      <td>0</td>\n      <td>1</td>\n      <td>2020-W23</td>\n      <td>4P</td>\n      <td>T</td>\n    </tr>\n    <tr>\n      <td>1659</td>\n      <td>8802</td>\n      <td>20</td>\n      <td>NZ Caribbean Jerk Fish with Pineapple Salsa &amp; ...</td>\n      <td>PHF-10-01209-4</td>\n      <td>0</td>\n      <td>2</td>\n      <td>2020-W23</td>\n      <td>4P</td>\n      <td>T</td>\n    </tr>\n    <tr>\n      <td>1660</td>\n      <td>8807</td>\n      <td>20</td>\n      <td>NZ Caribbean Jerk Fish with Pineapple Salsa &amp; ...</td>\n      <td>PHF-10-01984-4</td>\n      <td>0</td>\n      <td>1</td>\n      <td>2020-W23</td>\n      <td>4P</td>\n      <td>T</td>\n    </tr>\n    <tr>\n      <td>1661</td>\n      <td>8812</td>\n      <td>20</td>\n      <td>NZ Caribbean Jerk Fish with Pineapple Salsa &amp; ...</td>\n      <td>PRO-10-00885-1</td>\n      <td>0</td>\n      <td>1</td>\n      <td>2020-W23</td>\n      <td>4P</td>\n      <td>T</td>\n    </tr>\n    <tr>\n      <td>1662</td>\n      <td>8817</td>\n      <td>20</td>\n      <td>NZ Caribbean Jerk Fish with Pineapple Salsa &amp; ...</td>\n      <td>SPI-00-00382-1</td>\n      <td>0</td>\n      <td>2</td>\n      <td>2020-W23</td>\n      <td>4P</td>\n      <td>T</td>\n    </tr>\n  </tbody>\n</table>\n<p>1663 rows × 9 columns</p>\n</div>"
     },
     "metadata": {},
     "execution_count": 24
    }
   ],
   "source": [
    "raw_df"
   ]
  },
  {
   "cell_type": "code",
   "execution_count": 31,
   "metadata": {},
   "outputs": [
    {
     "output_type": "execute_result",
     "data": {
      "text/plain": "      level_0  index                                        recipe_name  \\\n0           0      1  Tandoori Chicken Sweet Potato Bowl with Garlic...   \n1           5      1  Tandoori Chicken Sweet Potato Bowl with Garlic...   \n2          15      1  Tandoori Chicken Sweet Potato Bowl with Garlic...   \n3          20      1  Tandoori Chicken Sweet Potato Bowl with Garlic...   \n4          25      1  Tandoori Chicken Sweet Potato Bowl with Garlic...   \n...       ...    ...                                                ...   \n1658     8792     20  NZ Caribbean Jerk Fish with Pineapple Salsa & ...   \n1659     8802     20  NZ Caribbean Jerk Fish with Pineapple Salsa & ...   \n1660     8807     20  NZ Caribbean Jerk Fish with Pineapple Salsa & ...   \n1661     8812     20  NZ Caribbean Jerk Fish with Pineapple Salsa & ...   \n1662     8817     20  NZ Caribbean Jerk Fish with Pineapple Salsa & ...   \n\n            sku_code  qty_2ppl  qty_4ppl      week Person Recipe Recipe Code  \n0     PHF-10-00384-4         1         0  2020-W17     2P      A        17A2  \n1     PHF-10-00483-1         1         0  2020-W17     2P      A        17A2  \n2     PHF-10-00707-4         1         0  2020-W17     2P      A        17A2  \n3     PHF-10-01167-1         2         0  2020-W17     2P      A        17A2  \n4     PHF-10-01209-4         1         0  2020-W17     2P      A        17A2  \n...              ...       ...       ...       ...    ...    ...         ...  \n1658  PHF-10-00281-4         0         1  2020-W23     4P      T        23T4  \n1659  PHF-10-01209-4         0         2  2020-W23     4P      T        23T4  \n1660  PHF-10-01984-4         0         1  2020-W23     4P      T        23T4  \n1661  PRO-10-00885-1         0         1  2020-W23     4P      T        23T4  \n1662  SPI-00-00382-1         0         2  2020-W23     4P      T        23T4  \n\n[1663 rows x 10 columns]",
      "text/html": "<div>\n<style scoped>\n    .dataframe tbody tr th:only-of-type {\n        vertical-align: middle;\n    }\n\n    .dataframe tbody tr th {\n        vertical-align: top;\n    }\n\n    .dataframe thead th {\n        text-align: right;\n    }\n</style>\n<table border=\"1\" class=\"dataframe\">\n  <thead>\n    <tr style=\"text-align: right;\">\n      <th></th>\n      <th>level_0</th>\n      <th>index</th>\n      <th>recipe_name</th>\n      <th>sku_code</th>\n      <th>qty_2ppl</th>\n      <th>qty_4ppl</th>\n      <th>week</th>\n      <th>Person</th>\n      <th>Recipe</th>\n      <th>Recipe Code</th>\n    </tr>\n  </thead>\n  <tbody>\n    <tr>\n      <td>0</td>\n      <td>0</td>\n      <td>1</td>\n      <td>Tandoori Chicken Sweet Potato Bowl with Garlic...</td>\n      <td>PHF-10-00384-4</td>\n      <td>1</td>\n      <td>0</td>\n      <td>2020-W17</td>\n      <td>2P</td>\n      <td>A</td>\n      <td>17A2</td>\n    </tr>\n    <tr>\n      <td>1</td>\n      <td>5</td>\n      <td>1</td>\n      <td>Tandoori Chicken Sweet Potato Bowl with Garlic...</td>\n      <td>PHF-10-00483-1</td>\n      <td>1</td>\n      <td>0</td>\n      <td>2020-W17</td>\n      <td>2P</td>\n      <td>A</td>\n      <td>17A2</td>\n    </tr>\n    <tr>\n      <td>2</td>\n      <td>15</td>\n      <td>1</td>\n      <td>Tandoori Chicken Sweet Potato Bowl with Garlic...</td>\n      <td>PHF-10-00707-4</td>\n      <td>1</td>\n      <td>0</td>\n      <td>2020-W17</td>\n      <td>2P</td>\n      <td>A</td>\n      <td>17A2</td>\n    </tr>\n    <tr>\n      <td>3</td>\n      <td>20</td>\n      <td>1</td>\n      <td>Tandoori Chicken Sweet Potato Bowl with Garlic...</td>\n      <td>PHF-10-01167-1</td>\n      <td>2</td>\n      <td>0</td>\n      <td>2020-W17</td>\n      <td>2P</td>\n      <td>A</td>\n      <td>17A2</td>\n    </tr>\n    <tr>\n      <td>4</td>\n      <td>25</td>\n      <td>1</td>\n      <td>Tandoori Chicken Sweet Potato Bowl with Garlic...</td>\n      <td>PHF-10-01209-4</td>\n      <td>1</td>\n      <td>0</td>\n      <td>2020-W17</td>\n      <td>2P</td>\n      <td>A</td>\n      <td>17A2</td>\n    </tr>\n    <tr>\n      <td>...</td>\n      <td>...</td>\n      <td>...</td>\n      <td>...</td>\n      <td>...</td>\n      <td>...</td>\n      <td>...</td>\n      <td>...</td>\n      <td>...</td>\n      <td>...</td>\n      <td>...</td>\n    </tr>\n    <tr>\n      <td>1658</td>\n      <td>8792</td>\n      <td>20</td>\n      <td>NZ Caribbean Jerk Fish with Pineapple Salsa &amp; ...</td>\n      <td>PHF-10-00281-4</td>\n      <td>0</td>\n      <td>1</td>\n      <td>2020-W23</td>\n      <td>4P</td>\n      <td>T</td>\n      <td>23T4</td>\n    </tr>\n    <tr>\n      <td>1659</td>\n      <td>8802</td>\n      <td>20</td>\n      <td>NZ Caribbean Jerk Fish with Pineapple Salsa &amp; ...</td>\n      <td>PHF-10-01209-4</td>\n      <td>0</td>\n      <td>2</td>\n      <td>2020-W23</td>\n      <td>4P</td>\n      <td>T</td>\n      <td>23T4</td>\n    </tr>\n    <tr>\n      <td>1660</td>\n      <td>8807</td>\n      <td>20</td>\n      <td>NZ Caribbean Jerk Fish with Pineapple Salsa &amp; ...</td>\n      <td>PHF-10-01984-4</td>\n      <td>0</td>\n      <td>1</td>\n      <td>2020-W23</td>\n      <td>4P</td>\n      <td>T</td>\n      <td>23T4</td>\n    </tr>\n    <tr>\n      <td>1661</td>\n      <td>8812</td>\n      <td>20</td>\n      <td>NZ Caribbean Jerk Fish with Pineapple Salsa &amp; ...</td>\n      <td>PRO-10-00885-1</td>\n      <td>0</td>\n      <td>1</td>\n      <td>2020-W23</td>\n      <td>4P</td>\n      <td>T</td>\n      <td>23T4</td>\n    </tr>\n    <tr>\n      <td>1662</td>\n      <td>8817</td>\n      <td>20</td>\n      <td>NZ Caribbean Jerk Fish with Pineapple Salsa &amp; ...</td>\n      <td>SPI-00-00382-1</td>\n      <td>0</td>\n      <td>2</td>\n      <td>2020-W23</td>\n      <td>4P</td>\n      <td>T</td>\n      <td>23T4</td>\n    </tr>\n  </tbody>\n</table>\n<p>1663 rows × 10 columns</p>\n</div>"
     },
     "metadata": {},
     "execution_count": 31
    }
   ],
   "source": [
    "raw_df['Recipe Code'] = raw_df['week'].str[-2:] + raw_df['Recipe'] + raw_df['Person'].str[:1]\n",
    "raw_df"
   ]
  },
  {
   "cell_type": "code",
   "execution_count": 32,
   "metadata": {},
   "outputs": [
    {
     "output_type": "execute_result",
     "data": {
      "text/plain": "  Recipe Code        sku_code  qty_2ppl  qty_4ppl\n0        17A2  PHF-10-00384-4         1         0\n1        17A2  PHF-10-00483-1         1         0\n2        17A2  PHF-10-00707-4         1         0\n3        17A2  PHF-10-01167-1         2         0\n4        17A2  PHF-10-01209-4         1         0",
      "text/html": "<div>\n<style scoped>\n    .dataframe tbody tr th:only-of-type {\n        vertical-align: middle;\n    }\n\n    .dataframe tbody tr th {\n        vertical-align: top;\n    }\n\n    .dataframe thead th {\n        text-align: right;\n    }\n</style>\n<table border=\"1\" class=\"dataframe\">\n  <thead>\n    <tr style=\"text-align: right;\">\n      <th></th>\n      <th>Recipe Code</th>\n      <th>sku_code</th>\n      <th>qty_2ppl</th>\n      <th>qty_4ppl</th>\n    </tr>\n  </thead>\n  <tbody>\n    <tr>\n      <td>0</td>\n      <td>17A2</td>\n      <td>PHF-10-00384-4</td>\n      <td>1</td>\n      <td>0</td>\n    </tr>\n    <tr>\n      <td>1</td>\n      <td>17A2</td>\n      <td>PHF-10-00483-1</td>\n      <td>1</td>\n      <td>0</td>\n    </tr>\n    <tr>\n      <td>2</td>\n      <td>17A2</td>\n      <td>PHF-10-00707-4</td>\n      <td>1</td>\n      <td>0</td>\n    </tr>\n    <tr>\n      <td>3</td>\n      <td>17A2</td>\n      <td>PHF-10-01167-1</td>\n      <td>2</td>\n      <td>0</td>\n    </tr>\n    <tr>\n      <td>4</td>\n      <td>17A2</td>\n      <td>PHF-10-01209-4</td>\n      <td>1</td>\n      <td>0</td>\n    </tr>\n  </tbody>\n</table>\n</div>"
     },
     "metadata": {},
     "execution_count": 32
    }
   ],
   "source": [
    "#staged dataframe -- \"Myre_Import\" trimed version, ready to join with the \"SKU difficulty lookup\"\n",
    "staged_df = raw_df[['Recipe Code','sku_code', 'qty_2ppl', 'qty_4ppl']]\n",
    "staged_df.head()"
   ]
  },
  {
   "cell_type": "code",
   "execution_count": null,
   "metadata": {},
   "outputs": [],
   "source": []
  }
 ],
 "metadata": {
  "language_info": {
   "codemirror_mode": {
    "name": "ipython",
    "version": 3
   },
   "file_extension": ".py",
   "mimetype": "text/x-python",
   "name": "python",
   "nbconvert_exporter": "python",
   "pygments_lexer": "ipython3",
   "version": "3.7.4-final"
  },
  "orig_nbformat": 2,
  "kernelspec": {
   "name": "python3",
   "display_name": "Python 3"
  }
 },
 "nbformat": 4,
 "nbformat_minor": 2
}