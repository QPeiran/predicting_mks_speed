{
 "cells": [
  {
   "cell_type": "code",
   "execution_count": 1,
   "metadata": {},
   "outputs": [],
   "source": [
    "import pandas as pd\n",
    "import numpy as np"
   ]
  },
  {
   "cell_type": "code",
   "execution_count": 2,
   "metadata": {},
   "outputs": [],
   "source": [
    "prepared_PG = pd.read_csv('./prepared_packguide.csv')\n",
    "prepared_KLSS = pd.read_csv('./prepared_KittingRaw.csv')"
   ]
  },
  {
   "cell_type": "code",
   "execution_count": 3,
   "metadata": {},
   "outputs": [
    {
     "output_type": "execute_result",
     "data": {
      "text/plain": "    Recipe Code  E  H  M  VE  VH  Meal Kits/Crate\n0          17A2  2  2  1   2   1                5\n1          17B2  2  0  2   2   0                6\n2          17C2  1  2  1   2   0                6\n3          17D2  3  0  3   2   0                5\n4          17E2  3  0  1   3   1                6\n..          ... .. .. ..  ..  ..              ...\n202        23P4  2  4  3   3   2                3\n203        23Q4  2  1  2   4   0                5\n204        23R4  2  4  2   0   0                5\n205        23S4  4  4  1   4   0                5\n206        23T4  2  0  4   3   0                6\n\n[207 rows x 7 columns]",
      "text/html": "<div>\n<style scoped>\n    .dataframe tbody tr th:only-of-type {\n        vertical-align: middle;\n    }\n\n    .dataframe tbody tr th {\n        vertical-align: top;\n    }\n\n    .dataframe thead th {\n        text-align: right;\n    }\n</style>\n<table border=\"1\" class=\"dataframe\">\n  <thead>\n    <tr style=\"text-align: right;\">\n      <th></th>\n      <th>Recipe Code</th>\n      <th>E</th>\n      <th>H</th>\n      <th>M</th>\n      <th>VE</th>\n      <th>VH</th>\n      <th>Meal Kits/Crate</th>\n    </tr>\n  </thead>\n  <tbody>\n    <tr>\n      <td>0</td>\n      <td>17A2</td>\n      <td>2</td>\n      <td>2</td>\n      <td>1</td>\n      <td>2</td>\n      <td>1</td>\n      <td>5</td>\n    </tr>\n    <tr>\n      <td>1</td>\n      <td>17B2</td>\n      <td>2</td>\n      <td>0</td>\n      <td>2</td>\n      <td>2</td>\n      <td>0</td>\n      <td>6</td>\n    </tr>\n    <tr>\n      <td>2</td>\n      <td>17C2</td>\n      <td>1</td>\n      <td>2</td>\n      <td>1</td>\n      <td>2</td>\n      <td>0</td>\n      <td>6</td>\n    </tr>\n    <tr>\n      <td>3</td>\n      <td>17D2</td>\n      <td>3</td>\n      <td>0</td>\n      <td>3</td>\n      <td>2</td>\n      <td>0</td>\n      <td>5</td>\n    </tr>\n    <tr>\n      <td>4</td>\n      <td>17E2</td>\n      <td>3</td>\n      <td>0</td>\n      <td>1</td>\n      <td>3</td>\n      <td>1</td>\n      <td>6</td>\n    </tr>\n    <tr>\n      <td>...</td>\n      <td>...</td>\n      <td>...</td>\n      <td>...</td>\n      <td>...</td>\n      <td>...</td>\n      <td>...</td>\n      <td>...</td>\n    </tr>\n    <tr>\n      <td>202</td>\n      <td>23P4</td>\n      <td>2</td>\n      <td>4</td>\n      <td>3</td>\n      <td>3</td>\n      <td>2</td>\n      <td>3</td>\n    </tr>\n    <tr>\n      <td>203</td>\n      <td>23Q4</td>\n      <td>2</td>\n      <td>1</td>\n      <td>2</td>\n      <td>4</td>\n      <td>0</td>\n      <td>5</td>\n    </tr>\n    <tr>\n      <td>204</td>\n      <td>23R4</td>\n      <td>2</td>\n      <td>4</td>\n      <td>2</td>\n      <td>0</td>\n      <td>0</td>\n      <td>5</td>\n    </tr>\n    <tr>\n      <td>205</td>\n      <td>23S4</td>\n      <td>4</td>\n      <td>4</td>\n      <td>1</td>\n      <td>4</td>\n      <td>0</td>\n      <td>5</td>\n    </tr>\n    <tr>\n      <td>206</td>\n      <td>23T4</td>\n      <td>2</td>\n      <td>0</td>\n      <td>4</td>\n      <td>3</td>\n      <td>0</td>\n      <td>6</td>\n    </tr>\n  </tbody>\n</table>\n<p>207 rows × 7 columns</p>\n</div>"
     },
     "metadata": {},
     "execution_count": 3
    }
   ],
   "source": [
    "prepared_PG"
   ]
  },
  {
   "cell_type": "code",
   "execution_count": 4,
   "metadata": {},
   "outputs": [
    {
     "output_type": "execute_result",
     "data": {
      "text/plain": "      Recipe Code  Pickers Count  Time Consumption   P\n0            17C4            2.0              8.00  4P\n1            17C4            2.0              5.00  4P\n2            17C4            2.0              7.00  4P\n3            17C4            2.0              5.00  4P\n4            17C4            2.0              8.00  4P\n...           ...            ...               ...  ..\n36470        23M4            2.0              4.55  4P\n36471        23M4            2.0              3.48  4P\n36472        23M4            2.0              3.43  4P\n36473        23M4            2.0              2.55  4P\n36474        23M4            2.0              2.70  4P\n\n[36475 rows x 4 columns]",
      "text/html": "<div>\n<style scoped>\n    .dataframe tbody tr th:only-of-type {\n        vertical-align: middle;\n    }\n\n    .dataframe tbody tr th {\n        vertical-align: top;\n    }\n\n    .dataframe thead th {\n        text-align: right;\n    }\n</style>\n<table border=\"1\" class=\"dataframe\">\n  <thead>\n    <tr style=\"text-align: right;\">\n      <th></th>\n      <th>Recipe Code</th>\n      <th>Pickers Count</th>\n      <th>Time Consumption</th>\n      <th>P</th>\n    </tr>\n  </thead>\n  <tbody>\n    <tr>\n      <td>0</td>\n      <td>17C4</td>\n      <td>2.0</td>\n      <td>8.00</td>\n      <td>4P</td>\n    </tr>\n    <tr>\n      <td>1</td>\n      <td>17C4</td>\n      <td>2.0</td>\n      <td>5.00</td>\n      <td>4P</td>\n    </tr>\n    <tr>\n      <td>2</td>\n      <td>17C4</td>\n      <td>2.0</td>\n      <td>7.00</td>\n      <td>4P</td>\n    </tr>\n    <tr>\n      <td>3</td>\n      <td>17C4</td>\n      <td>2.0</td>\n      <td>5.00</td>\n      <td>4P</td>\n    </tr>\n    <tr>\n      <td>4</td>\n      <td>17C4</td>\n      <td>2.0</td>\n      <td>8.00</td>\n      <td>4P</td>\n    </tr>\n    <tr>\n      <td>...</td>\n      <td>...</td>\n      <td>...</td>\n      <td>...</td>\n      <td>...</td>\n    </tr>\n    <tr>\n      <td>36470</td>\n      <td>23M4</td>\n      <td>2.0</td>\n      <td>4.55</td>\n      <td>4P</td>\n    </tr>\n    <tr>\n      <td>36471</td>\n      <td>23M4</td>\n      <td>2.0</td>\n      <td>3.48</td>\n      <td>4P</td>\n    </tr>\n    <tr>\n      <td>36472</td>\n      <td>23M4</td>\n      <td>2.0</td>\n      <td>3.43</td>\n      <td>4P</td>\n    </tr>\n    <tr>\n      <td>36473</td>\n      <td>23M4</td>\n      <td>2.0</td>\n      <td>2.55</td>\n      <td>4P</td>\n    </tr>\n    <tr>\n      <td>36474</td>\n      <td>23M4</td>\n      <td>2.0</td>\n      <td>2.70</td>\n      <td>4P</td>\n    </tr>\n  </tbody>\n</table>\n<p>36475 rows × 4 columns</p>\n</div>"
     },
     "metadata": {},
     "execution_count": 4
    }
   ],
   "source": [
    "prepared_KLSS"
   ]
  },
  {
   "cell_type": "code",
   "execution_count": 5,
   "metadata": {},
   "outputs": [
    {
     "output_type": "execute_result",
     "data": {
      "text/plain": "       Pickers Count  Time Consumption             E             H  \\\ncount   36475.000000      36475.000000  36474.000000  36474.000000   \nmean        3.011844          4.512951      2.239211      1.782119   \nstd         0.657103          1.274222      1.528227      1.762263   \nmin         0.000000          2.020000      0.000000      0.000000   \n25%         3.000000          3.670000      1.000000      0.000000   \n50%         3.000000          4.270000      2.000000      1.000000   \n75%         3.000000          5.120000      3.000000      3.000000   \nmax         5.000000          9.980000      8.000000      9.000000   \n\n                  M            VE            VH  Meal Kits/Crate  \ncount  36474.000000  36474.000000  36474.000000     36474.000000  \nmean       2.537287      2.856939      0.864287         4.584115  \nstd        1.653221      1.578110      1.289825         1.099727  \nmin        0.000000      0.000000      0.000000         3.000000  \n25%        1.000000      2.000000      0.000000         4.000000  \n50%        2.000000      3.000000      0.000000         4.000000  \n75%        4.000000      4.000000      2.000000         5.000000  \nmax        8.000000     11.000000      7.000000         8.000000  ",
      "text/html": "<div>\n<style scoped>\n    .dataframe tbody tr th:only-of-type {\n        vertical-align: middle;\n    }\n\n    .dataframe tbody tr th {\n        vertical-align: top;\n    }\n\n    .dataframe thead th {\n        text-align: right;\n    }\n</style>\n<table border=\"1\" class=\"dataframe\">\n  <thead>\n    <tr style=\"text-align: right;\">\n      <th></th>\n      <th>Pickers Count</th>\n      <th>Time Consumption</th>\n      <th>E</th>\n      <th>H</th>\n      <th>M</th>\n      <th>VE</th>\n      <th>VH</th>\n      <th>Meal Kits/Crate</th>\n    </tr>\n  </thead>\n  <tbody>\n    <tr>\n      <td>count</td>\n      <td>36475.000000</td>\n      <td>36475.000000</td>\n      <td>36474.000000</td>\n      <td>36474.000000</td>\n      <td>36474.000000</td>\n      <td>36474.000000</td>\n      <td>36474.000000</td>\n      <td>36474.000000</td>\n    </tr>\n    <tr>\n      <td>mean</td>\n      <td>3.011844</td>\n      <td>4.512951</td>\n      <td>2.239211</td>\n      <td>1.782119</td>\n      <td>2.537287</td>\n      <td>2.856939</td>\n      <td>0.864287</td>\n      <td>4.584115</td>\n    </tr>\n    <tr>\n      <td>std</td>\n      <td>0.657103</td>\n      <td>1.274222</td>\n      <td>1.528227</td>\n      <td>1.762263</td>\n      <td>1.653221</td>\n      <td>1.578110</td>\n      <td>1.289825</td>\n      <td>1.099727</td>\n    </tr>\n    <tr>\n      <td>min</td>\n      <td>0.000000</td>\n      <td>2.020000</td>\n      <td>0.000000</td>\n      <td>0.000000</td>\n      <td>0.000000</td>\n      <td>0.000000</td>\n      <td>0.000000</td>\n      <td>3.000000</td>\n    </tr>\n    <tr>\n      <td>25%</td>\n      <td>3.000000</td>\n      <td>3.670000</td>\n      <td>1.000000</td>\n      <td>0.000000</td>\n      <td>1.000000</td>\n      <td>2.000000</td>\n      <td>0.000000</td>\n      <td>4.000000</td>\n    </tr>\n    <tr>\n      <td>50%</td>\n      <td>3.000000</td>\n      <td>4.270000</td>\n      <td>2.000000</td>\n      <td>1.000000</td>\n      <td>2.000000</td>\n      <td>3.000000</td>\n      <td>0.000000</td>\n      <td>4.000000</td>\n    </tr>\n    <tr>\n      <td>75%</td>\n      <td>3.000000</td>\n      <td>5.120000</td>\n      <td>3.000000</td>\n      <td>3.000000</td>\n      <td>4.000000</td>\n      <td>4.000000</td>\n      <td>2.000000</td>\n      <td>5.000000</td>\n    </tr>\n    <tr>\n      <td>max</td>\n      <td>5.000000</td>\n      <td>9.980000</td>\n      <td>8.000000</td>\n      <td>9.000000</td>\n      <td>8.000000</td>\n      <td>11.000000</td>\n      <td>7.000000</td>\n      <td>8.000000</td>\n    </tr>\n  </tbody>\n</table>\n</div>"
     },
     "metadata": {},
     "execution_count": 5
    }
   ],
   "source": [
    "training_all = prepared_KLSS.merge(prepared_PG, how = 'left', left_on = 'Recipe Code', right_on = 'Recipe Code')\n",
    "training_all.describe()"
   ]
  },
  {
   "cell_type": "code",
   "execution_count": 6,
   "metadata": {},
   "outputs": [
    {
     "output_type": "execute_result",
     "data": {
      "text/plain": "       Pickers Count  Time Consumption             E             H  \\\ncount   14915.000000      14915.000000  14915.000000  14915.000000   \nmean        3.001140          4.585383      2.083741      1.213946   \nstd         0.690215          1.309838      1.249015      1.214058   \nmin         0.000000          2.020000      0.000000      0.000000   \n25%         3.000000          3.720000      1.000000      0.000000   \n50%         3.000000          4.350000      2.000000      1.000000   \n75%         3.000000          5.230000      3.000000      2.000000   \nmax         5.000000          9.980000      5.000000      4.000000   \n\n                  M            VE            VH  Meal Kits/Crate  \ncount  14915.000000  14915.000000  14915.000000     14915.000000  \nmean       2.107476      2.419242      0.467851         5.289172  \nstd        1.269206      1.219106      0.729617         1.073215  \nmin        0.000000      0.000000      0.000000         4.000000  \n25%        1.000000      2.000000      0.000000         4.000000  \n50%        2.000000      2.000000      0.000000         5.000000  \n75%        3.000000      3.000000      1.000000         6.000000  \nmax        5.000000      6.000000      3.000000         8.000000  ",
      "text/html": "<div>\n<style scoped>\n    .dataframe tbody tr th:only-of-type {\n        vertical-align: middle;\n    }\n\n    .dataframe tbody tr th {\n        vertical-align: top;\n    }\n\n    .dataframe thead th {\n        text-align: right;\n    }\n</style>\n<table border=\"1\" class=\"dataframe\">\n  <thead>\n    <tr style=\"text-align: right;\">\n      <th></th>\n      <th>Pickers Count</th>\n      <th>Time Consumption</th>\n      <th>E</th>\n      <th>H</th>\n      <th>M</th>\n      <th>VE</th>\n      <th>VH</th>\n      <th>Meal Kits/Crate</th>\n    </tr>\n  </thead>\n  <tbody>\n    <tr>\n      <td>count</td>\n      <td>14915.000000</td>\n      <td>14915.000000</td>\n      <td>14915.000000</td>\n      <td>14915.000000</td>\n      <td>14915.000000</td>\n      <td>14915.000000</td>\n      <td>14915.000000</td>\n      <td>14915.000000</td>\n    </tr>\n    <tr>\n      <td>mean</td>\n      <td>3.001140</td>\n      <td>4.585383</td>\n      <td>2.083741</td>\n      <td>1.213946</td>\n      <td>2.107476</td>\n      <td>2.419242</td>\n      <td>0.467851</td>\n      <td>5.289172</td>\n    </tr>\n    <tr>\n      <td>std</td>\n      <td>0.690215</td>\n      <td>1.309838</td>\n      <td>1.249015</td>\n      <td>1.214058</td>\n      <td>1.269206</td>\n      <td>1.219106</td>\n      <td>0.729617</td>\n      <td>1.073215</td>\n    </tr>\n    <tr>\n      <td>min</td>\n      <td>0.000000</td>\n      <td>2.020000</td>\n      <td>0.000000</td>\n      <td>0.000000</td>\n      <td>0.000000</td>\n      <td>0.000000</td>\n      <td>0.000000</td>\n      <td>4.000000</td>\n    </tr>\n    <tr>\n      <td>25%</td>\n      <td>3.000000</td>\n      <td>3.720000</td>\n      <td>1.000000</td>\n      <td>0.000000</td>\n      <td>1.000000</td>\n      <td>2.000000</td>\n      <td>0.000000</td>\n      <td>4.000000</td>\n    </tr>\n    <tr>\n      <td>50%</td>\n      <td>3.000000</td>\n      <td>4.350000</td>\n      <td>2.000000</td>\n      <td>1.000000</td>\n      <td>2.000000</td>\n      <td>2.000000</td>\n      <td>0.000000</td>\n      <td>5.000000</td>\n    </tr>\n    <tr>\n      <td>75%</td>\n      <td>3.000000</td>\n      <td>5.230000</td>\n      <td>3.000000</td>\n      <td>2.000000</td>\n      <td>3.000000</td>\n      <td>3.000000</td>\n      <td>1.000000</td>\n      <td>6.000000</td>\n    </tr>\n    <tr>\n      <td>max</td>\n      <td>5.000000</td>\n      <td>9.980000</td>\n      <td>5.000000</td>\n      <td>4.000000</td>\n      <td>5.000000</td>\n      <td>6.000000</td>\n      <td>3.000000</td>\n      <td>8.000000</td>\n    </tr>\n  </tbody>\n</table>\n</div>"
     },
     "metadata": {},
     "execution_count": 6
    }
   ],
   "source": [
    "training_2P = training_all.groupby('P').get_group('2P')\n",
    "training_2P.describe()"
   ]
  },
  {
   "cell_type": "code",
   "execution_count": 7,
   "metadata": {},
   "outputs": [
    {
     "output_type": "execute_result",
     "data": {
      "text/plain": "       Pickers Count  Time Consumption             E             H  \\\ncount   21559.000000      21559.000000  21559.000000  21559.000000   \nmean        3.019250          4.462841      2.346769      2.175194   \nstd         0.633108          1.246588      1.686342      1.963831   \nmin         0.000000          2.020000      0.000000      0.000000   \n25%         3.000000          3.630000      1.000000      1.000000   \n50%         3.000000          4.200000      2.000000      2.000000   \n75%         3.000000          5.030000      3.000000      3.000000   \nmax         5.000000          9.980000      8.000000      9.000000   \n\n                  M            VE            VH  Meal Kits/Crate  \ncount  21559.000000  21559.000000  21559.000000     21559.000000  \nmean       2.834640      3.159748      1.138550         4.096340  \nstd        1.814777      1.720764      1.504133         0.816977  \nmin        0.000000      0.000000      0.000000         3.000000  \n25%        1.000000      2.000000      0.000000         4.000000  \n50%        3.000000      3.000000      0.000000         4.000000  \n75%        4.000000      4.000000      2.000000         5.000000  \nmax        8.000000     11.000000      7.000000         7.000000  ",
      "text/html": "<div>\n<style scoped>\n    .dataframe tbody tr th:only-of-type {\n        vertical-align: middle;\n    }\n\n    .dataframe tbody tr th {\n        vertical-align: top;\n    }\n\n    .dataframe thead th {\n        text-align: right;\n    }\n</style>\n<table border=\"1\" class=\"dataframe\">\n  <thead>\n    <tr style=\"text-align: right;\">\n      <th></th>\n      <th>Pickers Count</th>\n      <th>Time Consumption</th>\n      <th>E</th>\n      <th>H</th>\n      <th>M</th>\n      <th>VE</th>\n      <th>VH</th>\n      <th>Meal Kits/Crate</th>\n    </tr>\n  </thead>\n  <tbody>\n    <tr>\n      <td>count</td>\n      <td>21559.000000</td>\n      <td>21559.000000</td>\n      <td>21559.000000</td>\n      <td>21559.000000</td>\n      <td>21559.000000</td>\n      <td>21559.000000</td>\n      <td>21559.000000</td>\n      <td>21559.000000</td>\n    </tr>\n    <tr>\n      <td>mean</td>\n      <td>3.019250</td>\n      <td>4.462841</td>\n      <td>2.346769</td>\n      <td>2.175194</td>\n      <td>2.834640</td>\n      <td>3.159748</td>\n      <td>1.138550</td>\n      <td>4.096340</td>\n    </tr>\n    <tr>\n      <td>std</td>\n      <td>0.633108</td>\n      <td>1.246588</td>\n      <td>1.686342</td>\n      <td>1.963831</td>\n      <td>1.814777</td>\n      <td>1.720764</td>\n      <td>1.504133</td>\n      <td>0.816977</td>\n    </tr>\n    <tr>\n      <td>min</td>\n      <td>0.000000</td>\n      <td>2.020000</td>\n      <td>0.000000</td>\n      <td>0.000000</td>\n      <td>0.000000</td>\n      <td>0.000000</td>\n      <td>0.000000</td>\n      <td>3.000000</td>\n    </tr>\n    <tr>\n      <td>25%</td>\n      <td>3.000000</td>\n      <td>3.630000</td>\n      <td>1.000000</td>\n      <td>1.000000</td>\n      <td>1.000000</td>\n      <td>2.000000</td>\n      <td>0.000000</td>\n      <td>4.000000</td>\n    </tr>\n    <tr>\n      <td>50%</td>\n      <td>3.000000</td>\n      <td>4.200000</td>\n      <td>2.000000</td>\n      <td>2.000000</td>\n      <td>3.000000</td>\n      <td>3.000000</td>\n      <td>0.000000</td>\n      <td>4.000000</td>\n    </tr>\n    <tr>\n      <td>75%</td>\n      <td>3.000000</td>\n      <td>5.030000</td>\n      <td>3.000000</td>\n      <td>3.000000</td>\n      <td>4.000000</td>\n      <td>4.000000</td>\n      <td>2.000000</td>\n      <td>5.000000</td>\n    </tr>\n    <tr>\n      <td>max</td>\n      <td>5.000000</td>\n      <td>9.980000</td>\n      <td>8.000000</td>\n      <td>9.000000</td>\n      <td>8.000000</td>\n      <td>11.000000</td>\n      <td>7.000000</td>\n      <td>7.000000</td>\n    </tr>\n  </tbody>\n</table>\n</div>"
     },
     "metadata": {},
     "execution_count": 7
    }
   ],
   "source": [
    "training_4P = training_all.groupby('P').get_group('4P')\n",
    "training_4P.describe()"
   ]
  },
  {
   "cell_type": "code",
   "execution_count": 8,
   "metadata": {},
   "outputs": [],
   "source": [
    "# \n",
    "from sklearn.model_selection import train_test_split\n",
    "from sklearn.ensemble import RandomForestRegressor\n",
    "from sklearn.metrics import mean_absolute_error"
   ]
  },
  {
   "cell_type": "code",
   "execution_count": 9,
   "metadata": {},
   "outputs": [
    {
     "output_type": "execute_result",
     "data": {
      "text/plain": "       Pickers Count  Time Consumption    E    H    M   VE   VH  \\\n0                3.0              6.00  3.0  0.0  3.0  2.0  0.0   \n1                3.0              6.00  3.0  0.0  3.0  2.0  0.0   \n2                3.0              5.00  3.0  0.0  3.0  2.0  0.0   \n3                3.0              4.00  3.0  0.0  3.0  2.0  0.0   \n4                3.0              5.00  3.0  0.0  3.0  2.0  0.0   \n...              ...               ...  ...  ...  ...  ...  ...   \n14910            3.0              4.48  3.0  2.0  1.0  3.0  1.0   \n14911            3.0              5.42  3.0  2.0  1.0  3.0  1.0   \n14912            3.0              4.83  3.0  2.0  1.0  3.0  1.0   \n14913            3.0              5.33  3.0  2.0  1.0  3.0  1.0   \n14914            3.0              4.60  3.0  2.0  1.0  3.0  1.0   \n\n       Meal Kits/Crate  \n0                  5.0  \n1                  5.0  \n2                  5.0  \n3                  5.0  \n4                  5.0  \n...                ...  \n14910              4.0  \n14911              4.0  \n14912              4.0  \n14913              4.0  \n14914              4.0  \n\n[14915 rows x 8 columns]",
      "text/html": "<div>\n<style scoped>\n    .dataframe tbody tr th:only-of-type {\n        vertical-align: middle;\n    }\n\n    .dataframe tbody tr th {\n        vertical-align: top;\n    }\n\n    .dataframe thead th {\n        text-align: right;\n    }\n</style>\n<table border=\"1\" class=\"dataframe\">\n  <thead>\n    <tr style=\"text-align: right;\">\n      <th></th>\n      <th>Pickers Count</th>\n      <th>Time Consumption</th>\n      <th>E</th>\n      <th>H</th>\n      <th>M</th>\n      <th>VE</th>\n      <th>VH</th>\n      <th>Meal Kits/Crate</th>\n    </tr>\n  </thead>\n  <tbody>\n    <tr>\n      <td>0</td>\n      <td>3.0</td>\n      <td>6.00</td>\n      <td>3.0</td>\n      <td>0.0</td>\n      <td>3.0</td>\n      <td>2.0</td>\n      <td>0.0</td>\n      <td>5.0</td>\n    </tr>\n    <tr>\n      <td>1</td>\n      <td>3.0</td>\n      <td>6.00</td>\n      <td>3.0</td>\n      <td>0.0</td>\n      <td>3.0</td>\n      <td>2.0</td>\n      <td>0.0</td>\n      <td>5.0</td>\n    </tr>\n    <tr>\n      <td>2</td>\n      <td>3.0</td>\n      <td>5.00</td>\n      <td>3.0</td>\n      <td>0.0</td>\n      <td>3.0</td>\n      <td>2.0</td>\n      <td>0.0</td>\n      <td>5.0</td>\n    </tr>\n    <tr>\n      <td>3</td>\n      <td>3.0</td>\n      <td>4.00</td>\n      <td>3.0</td>\n      <td>0.0</td>\n      <td>3.0</td>\n      <td>2.0</td>\n      <td>0.0</td>\n      <td>5.0</td>\n    </tr>\n    <tr>\n      <td>4</td>\n      <td>3.0</td>\n      <td>5.00</td>\n      <td>3.0</td>\n      <td>0.0</td>\n      <td>3.0</td>\n      <td>2.0</td>\n      <td>0.0</td>\n      <td>5.0</td>\n    </tr>\n    <tr>\n      <td>...</td>\n      <td>...</td>\n      <td>...</td>\n      <td>...</td>\n      <td>...</td>\n      <td>...</td>\n      <td>...</td>\n      <td>...</td>\n      <td>...</td>\n    </tr>\n    <tr>\n      <td>14910</td>\n      <td>3.0</td>\n      <td>4.48</td>\n      <td>3.0</td>\n      <td>2.0</td>\n      <td>1.0</td>\n      <td>3.0</td>\n      <td>1.0</td>\n      <td>4.0</td>\n    </tr>\n    <tr>\n      <td>14911</td>\n      <td>3.0</td>\n      <td>5.42</td>\n      <td>3.0</td>\n      <td>2.0</td>\n      <td>1.0</td>\n      <td>3.0</td>\n      <td>1.0</td>\n      <td>4.0</td>\n    </tr>\n    <tr>\n      <td>14912</td>\n      <td>3.0</td>\n      <td>4.83</td>\n      <td>3.0</td>\n      <td>2.0</td>\n      <td>1.0</td>\n      <td>3.0</td>\n      <td>1.0</td>\n      <td>4.0</td>\n    </tr>\n    <tr>\n      <td>14913</td>\n      <td>3.0</td>\n      <td>5.33</td>\n      <td>3.0</td>\n      <td>2.0</td>\n      <td>1.0</td>\n      <td>3.0</td>\n      <td>1.0</td>\n      <td>4.0</td>\n    </tr>\n    <tr>\n      <td>14914</td>\n      <td>3.0</td>\n      <td>4.60</td>\n      <td>3.0</td>\n      <td>2.0</td>\n      <td>1.0</td>\n      <td>3.0</td>\n      <td>1.0</td>\n      <td>4.0</td>\n    </tr>\n  </tbody>\n</table>\n<p>14915 rows × 8 columns</p>\n</div>"
     },
     "metadata": {},
     "execution_count": 9
    }
   ],
   "source": [
    "# Hypothesis 1 : Assusing 2P and 4P recipes have significant difference in kitting speed\n",
    "\n",
    "# Predicting for 2P recipes first\n",
    "train_2P = training_2P.drop(columns = ['Recipe Code', 'P']).reset_index(drop = True) # drop data type \"object\" -- only numreic data kept\n",
    "train_2P"
   ]
  },
  {
   "cell_type": "code",
   "execution_count": 10,
   "metadata": {},
   "outputs": [],
   "source": [
    "# pip freeze > requirements.txt"
   ]
  },
  {
   "cell_type": "code",
   "execution_count": 11,
   "metadata": {},
   "outputs": [],
   "source": [
    "X = train_2P[['Pickers Count', 'E', 'H', 'M', 'VE', 'VH', 'Meal Kits/Crate']]\n",
    "y = train_2P['Time Consumption']\n",
    "X_train, X_test, y_train, y_test = train_test_split(X, y, test_size = 0.2, random_state = 1)"
   ]
  },
  {
   "cell_type": "code",
   "execution_count": 12,
   "metadata": {},
   "outputs": [
    {
     "output_type": "execute_result",
     "data": {
      "text/plain": "RandomForestRegressor(bootstrap=True, ccp_alpha=0.0, criterion='mse',\n                      max_depth=None, max_features='auto', max_leaf_nodes=None,\n                      max_samples=None, min_impurity_decrease=0.0,\n                      min_impurity_split=None, min_samples_leaf=1,\n                      min_samples_split=2, min_weight_fraction_leaf=0.0,\n                      n_estimators=50, n_jobs=None, oob_score=False,\n                      random_state=0, verbose=0, warm_start=False)"
     },
     "metadata": {},
     "execution_count": 12
    }
   ],
   "source": [
    "my_forest = RandomForestRegressor(n_estimators = 50, random_state = 0)\n",
    "my_forest.fit(X_train, y_train)"
   ]
  },
  {
   "cell_type": "code",
   "execution_count": 13,
   "metadata": {},
   "outputs": [],
   "source": [
    "predicted_time = my_forest.predict(X_test)"
   ]
  },
  {
   "cell_type": "code",
   "execution_count": 14,
   "metadata": {},
   "outputs": [
    {
     "output_type": "execute_result",
     "data": {
      "text/plain": "0.8375554028815221"
     },
     "metadata": {},
     "execution_count": 14
    }
   ],
   "source": [
    "mean_absolute_error(y_test, predicted_time) \n",
    "# first naive try MAE score for 2P recipes -- 0.8375554028815221 (min)"
   ]
  },
  {
   "cell_type": "code",
   "execution_count": 15,
   "metadata": {},
   "outputs": [
    {
     "output_type": "execute_result",
     "data": {
      "text/plain": "       Pickers Count  Time Consumption    E    H    M   VE   VH  \\\n0                3.0              6.00  3.0  0.0  3.0  2.0  0.0   \n1                3.0              6.00  3.0  0.0  3.0  2.0  0.0   \n2                3.0              5.00  3.0  0.0  3.0  2.0  0.0   \n3                3.0              4.00  3.0  0.0  3.0  2.0  0.0   \n4                3.0              5.00  3.0  0.0  3.0  2.0  0.0   \n...              ...               ...  ...  ...  ...  ...  ...   \n14910            3.0              4.48  3.0  2.0  1.0  3.0  1.0   \n14911            3.0              5.42  3.0  2.0  1.0  3.0  1.0   \n14912            3.0              4.83  3.0  2.0  1.0  3.0  1.0   \n14913            3.0              5.33  3.0  2.0  1.0  3.0  1.0   \n14914            3.0              4.60  3.0  2.0  1.0  3.0  1.0   \n\n       Meal Kits/Crate  \n0                  5.0  \n1                  5.0  \n2                  5.0  \n3                  5.0  \n4                  5.0  \n...                ...  \n14910              4.0  \n14911              4.0  \n14912              4.0  \n14913              4.0  \n14914              4.0  \n\n[14915 rows x 8 columns]",
      "text/html": "<div>\n<style scoped>\n    .dataframe tbody tr th:only-of-type {\n        vertical-align: middle;\n    }\n\n    .dataframe tbody tr th {\n        vertical-align: top;\n    }\n\n    .dataframe thead th {\n        text-align: right;\n    }\n</style>\n<table border=\"1\" class=\"dataframe\">\n  <thead>\n    <tr style=\"text-align: right;\">\n      <th></th>\n      <th>Pickers Count</th>\n      <th>Time Consumption</th>\n      <th>E</th>\n      <th>H</th>\n      <th>M</th>\n      <th>VE</th>\n      <th>VH</th>\n      <th>Meal Kits/Crate</th>\n    </tr>\n  </thead>\n  <tbody>\n    <tr>\n      <td>0</td>\n      <td>3.0</td>\n      <td>6.00</td>\n      <td>3.0</td>\n      <td>0.0</td>\n      <td>3.0</td>\n      <td>2.0</td>\n      <td>0.0</td>\n      <td>5.0</td>\n    </tr>\n    <tr>\n      <td>1</td>\n      <td>3.0</td>\n      <td>6.00</td>\n      <td>3.0</td>\n      <td>0.0</td>\n      <td>3.0</td>\n      <td>2.0</td>\n      <td>0.0</td>\n      <td>5.0</td>\n    </tr>\n    <tr>\n      <td>2</td>\n      <td>3.0</td>\n      <td>5.00</td>\n      <td>3.0</td>\n      <td>0.0</td>\n      <td>3.0</td>\n      <td>2.0</td>\n      <td>0.0</td>\n      <td>5.0</td>\n    </tr>\n    <tr>\n      <td>3</td>\n      <td>3.0</td>\n      <td>4.00</td>\n      <td>3.0</td>\n      <td>0.0</td>\n      <td>3.0</td>\n      <td>2.0</td>\n      <td>0.0</td>\n      <td>5.0</td>\n    </tr>\n    <tr>\n      <td>4</td>\n      <td>3.0</td>\n      <td>5.00</td>\n      <td>3.0</td>\n      <td>0.0</td>\n      <td>3.0</td>\n      <td>2.0</td>\n      <td>0.0</td>\n      <td>5.0</td>\n    </tr>\n    <tr>\n      <td>...</td>\n      <td>...</td>\n      <td>...</td>\n      <td>...</td>\n      <td>...</td>\n      <td>...</td>\n      <td>...</td>\n      <td>...</td>\n      <td>...</td>\n    </tr>\n    <tr>\n      <td>14910</td>\n      <td>3.0</td>\n      <td>4.48</td>\n      <td>3.0</td>\n      <td>2.0</td>\n      <td>1.0</td>\n      <td>3.0</td>\n      <td>1.0</td>\n      <td>4.0</td>\n    </tr>\n    <tr>\n      <td>14911</td>\n      <td>3.0</td>\n      <td>5.42</td>\n      <td>3.0</td>\n      <td>2.0</td>\n      <td>1.0</td>\n      <td>3.0</td>\n      <td>1.0</td>\n      <td>4.0</td>\n    </tr>\n    <tr>\n      <td>14912</td>\n      <td>3.0</td>\n      <td>4.83</td>\n      <td>3.0</td>\n      <td>2.0</td>\n      <td>1.0</td>\n      <td>3.0</td>\n      <td>1.0</td>\n      <td>4.0</td>\n    </tr>\n    <tr>\n      <td>14913</td>\n      <td>3.0</td>\n      <td>5.33</td>\n      <td>3.0</td>\n      <td>2.0</td>\n      <td>1.0</td>\n      <td>3.0</td>\n      <td>1.0</td>\n      <td>4.0</td>\n    </tr>\n    <tr>\n      <td>14914</td>\n      <td>3.0</td>\n      <td>4.60</td>\n      <td>3.0</td>\n      <td>2.0</td>\n      <td>1.0</td>\n      <td>3.0</td>\n      <td>1.0</td>\n      <td>4.0</td>\n    </tr>\n  </tbody>\n</table>\n<p>14915 rows × 8 columns</p>\n</div>"
     },
     "metadata": {},
     "execution_count": 15
    }
   ],
   "source": []
  },
  {
   "cell_type": "code",
   "execution_count": 15,
   "metadata": {},
   "outputs": [
    {
     "output_type": "execute_result",
     "data": {
      "text/plain": "       Pickers Count    E    H    M   VE   VH  Meal Kits/Crate        mk/h\n0                3.0  3.0  0.0  3.0  2.0  0.0              5.0  350.000000\n1                3.0  3.0  0.0  3.0  2.0  0.0              5.0  350.000000\n2                3.0  3.0  0.0  3.0  2.0  0.0              5.0  420.000000\n3                3.0  3.0  0.0  3.0  2.0  0.0              5.0  525.000000\n4                3.0  3.0  0.0  3.0  2.0  0.0              5.0  420.000000\n...              ...  ...  ...  ...  ...  ...              ...         ...\n14910            3.0  3.0  2.0  1.0  3.0  1.0              4.0  375.000000\n14911            3.0  3.0  2.0  1.0  3.0  1.0              4.0  309.963100\n14912            3.0  3.0  2.0  1.0  3.0  1.0              4.0  347.826087\n14913            3.0  3.0  2.0  1.0  3.0  1.0              4.0  315.196998\n14914            3.0  3.0  2.0  1.0  3.0  1.0              4.0  365.217391\n\n[14915 rows x 8 columns]",
      "text/html": "<div>\n<style scoped>\n    .dataframe tbody tr th:only-of-type {\n        vertical-align: middle;\n    }\n\n    .dataframe tbody tr th {\n        vertical-align: top;\n    }\n\n    .dataframe thead th {\n        text-align: right;\n    }\n</style>\n<table border=\"1\" class=\"dataframe\">\n  <thead>\n    <tr style=\"text-align: right;\">\n      <th></th>\n      <th>Pickers Count</th>\n      <th>E</th>\n      <th>H</th>\n      <th>M</th>\n      <th>VE</th>\n      <th>VH</th>\n      <th>Meal Kits/Crate</th>\n      <th>mk/h</th>\n    </tr>\n  </thead>\n  <tbody>\n    <tr>\n      <td>0</td>\n      <td>3.0</td>\n      <td>3.0</td>\n      <td>0.0</td>\n      <td>3.0</td>\n      <td>2.0</td>\n      <td>0.0</td>\n      <td>5.0</td>\n      <td>350.000000</td>\n    </tr>\n    <tr>\n      <td>1</td>\n      <td>3.0</td>\n      <td>3.0</td>\n      <td>0.0</td>\n      <td>3.0</td>\n      <td>2.0</td>\n      <td>0.0</td>\n      <td>5.0</td>\n      <td>350.000000</td>\n    </tr>\n    <tr>\n      <td>2</td>\n      <td>3.0</td>\n      <td>3.0</td>\n      <td>0.0</td>\n      <td>3.0</td>\n      <td>2.0</td>\n      <td>0.0</td>\n      <td>5.0</td>\n      <td>420.000000</td>\n    </tr>\n    <tr>\n      <td>3</td>\n      <td>3.0</td>\n      <td>3.0</td>\n      <td>0.0</td>\n      <td>3.0</td>\n      <td>2.0</td>\n      <td>0.0</td>\n      <td>5.0</td>\n      <td>525.000000</td>\n    </tr>\n    <tr>\n      <td>4</td>\n      <td>3.0</td>\n      <td>3.0</td>\n      <td>0.0</td>\n      <td>3.0</td>\n      <td>2.0</td>\n      <td>0.0</td>\n      <td>5.0</td>\n      <td>420.000000</td>\n    </tr>\n    <tr>\n      <td>...</td>\n      <td>...</td>\n      <td>...</td>\n      <td>...</td>\n      <td>...</td>\n      <td>...</td>\n      <td>...</td>\n      <td>...</td>\n      <td>...</td>\n    </tr>\n    <tr>\n      <td>14910</td>\n      <td>3.0</td>\n      <td>3.0</td>\n      <td>2.0</td>\n      <td>1.0</td>\n      <td>3.0</td>\n      <td>1.0</td>\n      <td>4.0</td>\n      <td>375.000000</td>\n    </tr>\n    <tr>\n      <td>14911</td>\n      <td>3.0</td>\n      <td>3.0</td>\n      <td>2.0</td>\n      <td>1.0</td>\n      <td>3.0</td>\n      <td>1.0</td>\n      <td>4.0</td>\n      <td>309.963100</td>\n    </tr>\n    <tr>\n      <td>14912</td>\n      <td>3.0</td>\n      <td>3.0</td>\n      <td>2.0</td>\n      <td>1.0</td>\n      <td>3.0</td>\n      <td>1.0</td>\n      <td>4.0</td>\n      <td>347.826087</td>\n    </tr>\n    <tr>\n      <td>14913</td>\n      <td>3.0</td>\n      <td>3.0</td>\n      <td>2.0</td>\n      <td>1.0</td>\n      <td>3.0</td>\n      <td>1.0</td>\n      <td>4.0</td>\n      <td>315.196998</td>\n    </tr>\n    <tr>\n      <td>14914</td>\n      <td>3.0</td>\n      <td>3.0</td>\n      <td>2.0</td>\n      <td>1.0</td>\n      <td>3.0</td>\n      <td>1.0</td>\n      <td>4.0</td>\n      <td>365.217391</td>\n    </tr>\n  </tbody>\n</table>\n<p>14915 rows × 8 columns</p>\n</div>"
     },
     "metadata": {},
     "execution_count": 15
    }
   ],
   "source": [
    "# use the speed (mk/hour) instead of the time (Time Consumption)\n",
    "train_2P['mk/h'] = train_2P['Meal Kits/Crate'] * 7 * 60 / train_2P['Time Consumption']\n",
    "train_2P.drop(columns = ['Time Consumption'])"
   ]
  },
  {
   "cell_type": "code",
   "execution_count": 16,
   "metadata": {},
   "outputs": [
    {
     "output_type": "execute_result",
     "data": {
      "text/plain": "RandomForestRegressor(bootstrap=True, ccp_alpha=0.0, criterion='mse',\n                      max_depth=None, max_features='auto', max_leaf_nodes=None,\n                      max_samples=None, min_impurity_decrease=0.0,\n                      min_impurity_split=None, min_samples_leaf=1,\n                      min_samples_split=2, min_weight_fraction_leaf=0.0,\n                      n_estimators=50, n_jobs=None, oob_score=False,\n                      random_state=0, verbose=0, warm_start=False)"
     },
     "metadata": {},
     "execution_count": 16
    }
   ],
   "source": [
    "X = train_2P[['Pickers Count', 'E', 'H', 'M', 'VE', 'VH', 'Meal Kits/Crate']]\n",
    "y = train_2P['mk/h']\n",
    "X_train, X_test, y_train, y_test = train_test_split(X, y, test_size = 0.2, random_state = 0)\n",
    "my_forest = RandomForestRegressor(n_estimators = 50, random_state = 0)\n",
    "my_forest.fit(X_train, y_train)"
   ]
  },
  {
   "cell_type": "code",
   "execution_count": 17,
   "metadata": {},
   "outputs": [
    {
     "output_type": "execute_result",
     "data": {
      "text/plain": "93.1241887108631"
     },
     "metadata": {},
     "execution_count": 17
    }
   ],
   "source": [
    "predicted_speed = my_forest.predict(X_test)\n",
    "mean_absolute_error(y_test, predicted_speed) \n",
    "# first naive try MAE score for 2P recipes -- 93.1241887108631 (mk/h)"
   ]
  },
  {
   "cell_type": "code",
   "execution_count": 18,
   "metadata": {},
   "outputs": [],
   "source": [
    "# from sklearn.model_selection import RandomizedSearchCV\n",
    "# # Number of trees in random forest\n",
    "# n_estimators = [int(x) for x in np.linspace(start = 200, stop = 2000, num = 10)]\n",
    "# # Number of features to consider at every split\n",
    "# max_features = ['auto', 'sqrt']\n",
    "# # Maximum number of levels in tree\n",
    "# max_depth = [int(x) for x in np.linspace(10, 110, num = 11)]\n",
    "# max_depth.append(None)\n",
    "# # Minimum number of samples required to split a node\n",
    "# min_samples_split = [2, 5, 10]\n",
    "# # Minimum number of samples required at each leaf node\n",
    "# min_samples_leaf = [1, 2, 4]\n",
    "# # Method of selecting samples for training each tree\n",
    "# bootstrap = [True, False]\n",
    "# # Create the random grid\n",
    "# random_grid = {'n_estimators': n_estimators,\n",
    "#                'max_features': max_features,\n",
    "#                'max_depth': max_depth,\n",
    "#                'min_samples_split': min_samples_split,\n",
    "#                'min_samples_leaf': min_samples_leaf,\n",
    "#                'bootstrap': bootstrap}\n",
    "# print(random_grid)"
   ]
  },
  {
   "cell_type": "code",
   "execution_count": 19,
   "metadata": {},
   "outputs": [],
   "source": [
    "# naive_forest = RandomForestRegressor()\n",
    "# RFR_rd = RandomizedSearchCV(estimator = naive_forest, param_distributions = random_grid, n_iter = 10, cv = 5, verbose = 2, random_state = 42, n_jobs = -1)\n",
    "# RFR_rd.fit(X_train,y_train)\n",
    "# RFR_rd.best_params_"
   ]
  },
  {
   "cell_type": "code",
   "execution_count": 20,
   "metadata": {},
   "outputs": [],
   "source": [
    "# optimized_model = RandomForestRegressor(n_estimators = 2000, min_samples_split = 5, min_samples_leaf = 2, max_features = 'auto', max_depth = 50, bootstrap = True)\n",
    "# optimized_model.fit(X_train, y_train)\n",
    "# optimized_predicted_speed = optimized_model.predict(X_test)\n",
    "# mean_absolute_error(y_test, optimized_predicted_speed) \n",
    "# # Optimized MAE score: 93.14699628993233"
   ]
  },
  {
   "cell_type": "code",
   "execution_count": 23,
   "metadata": {},
   "outputs": [],
   "source": [
    "def EvaluatingFunction(model, test_features, test_labels):\n",
    "    predictions = model.predict(test_features)\n",
    "    errors = abs(predictions - test_labels)\n",
    "    mape = 100 * np.mean(errors / test_labels)\n",
    "    accuracy = 100 - mape\n",
    "    print('Model Performance')\n",
    "    print('Average Error: {:0.4f} degrees.'.format(np.mean(errors)))\n",
    "    print('Accuracy = {:0.2f}%.'.format(accuracy))\n",
    "    \n",
    "    return accuracy"
   ]
  },
  {
   "cell_type": "code",
   "execution_count": 24,
   "metadata": {},
   "outputs": [
    {
     "output_type": "stream",
     "name": "stdout",
     "text": "Model Performance\nAverage Error: 93.1242 degrees.\nAccuracy = 80.25%.\n"
    },
    {
     "output_type": "execute_result",
     "data": {
      "text/plain": "80.25398725146812"
     },
     "metadata": {},
     "execution_count": 24
    }
   ],
   "source": [
    "EvaluatingFunction(my_forest, X_test, y_test)"
   ]
  },
  {
   "cell_type": "code",
   "execution_count": null,
   "metadata": {},
   "outputs": [],
   "source": []
  }
 ],
 "metadata": {
  "language_info": {
   "codemirror_mode": {
    "name": "ipython",
    "version": 3
   },
   "file_extension": ".py",
   "mimetype": "text/x-python",
   "name": "python",
   "nbconvert_exporter": "python",
   "pygments_lexer": "ipython3",
   "version": "3.7.4-final"
  },
  "orig_nbformat": 2,
  "kernelspec": {
   "name": "python3",
   "display_name": "Python 3"
  }
 },
 "nbformat": 4,
 "nbformat_minor": 2
}