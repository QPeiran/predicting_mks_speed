{
 "cells": [
  {
   "cell_type": "code",
   "execution_count": 1,
   "metadata": {},
   "outputs": [],
   "source": [
    "import pandas as pd\n",
    "import numpy as np"
   ]
  },
  {
   "cell_type": "code",
   "execution_count": 2,
   "metadata": {},
   "outputs": [],
   "source": [
    "raw_pg = pd.read_excel('./label ingredients.xlsx', sheet_name= 'W24 total')\n",
    "raw_df = raw_pg.drop_duplicates()[['index', 'recipe_name', 'sku_code', 'qty_2ppl', 'qty_4ppl', 'week']]"
   ]
  },
  {
   "cell_type": "code",
   "execution_count": 3,
   "metadata": {},
   "outputs": [
    {
     "output_type": "execute_result",
     "data": {
      "text/plain": "      index                                        recipe_name  \\\n0         1  Jerk Chicken & Roasted Veggies with Corn Salsa...   \n5         1  Jerk Chicken & Roasted Veggies with Corn Salsa...   \n10        1  Jerk Chicken & Roasted Veggies with Corn Salsa...   \n15        1  Jerk Chicken & Roasted Veggies with Corn Salsa...   \n20        1  Jerk Chicken & Roasted Veggies with Corn Salsa...   \n...     ...                                                ...   \n1360     20  NZ Cheat's Italian Lamb Ragu with Mash & Green...   \n1365     20  NZ Cheat's Italian Lamb Ragu with Mash & Green...   \n1370     20  NZ Cheat's Italian Lamb Ragu with Mash & Green...   \n1375     20  NZ Cheat's Italian Lamb Ragu with Mash & Green...   \n1380     20  NZ Cheat's Italian Lamb Ragu with Mash & Green...   \n\n            sku_code  qty_2ppl  qty_4ppl      week  \n0     PHF-10-00327-4         1         0  2020-W24  \n5     PHF-10-00384-4         1         0  2020-W24  \n10    PHF-10-00719-4         1         0  2020-W24  \n15    PHF-10-00724-4         1         0  2020-W24  \n20    PHF-10-01209-4         1         0  2020-W24  \n...              ...       ...       ...       ...  \n1360  PRO-10-01208-4         0         1  2020-W24  \n1365  PRO-10-01316-1         0         1  2020-W24  \n1370  PRO-11-02084-1         0         1  2020-W24  \n1375  PHF-00-25707-4         0         1  2020-W24  \n1380  PHF-10-25778-4         0         1  2020-W24  \n\n[268 rows x 6 columns]",
      "text/html": "<div>\n<style scoped>\n    .dataframe tbody tr th:only-of-type {\n        vertical-align: middle;\n    }\n\n    .dataframe tbody tr th {\n        vertical-align: top;\n    }\n\n    .dataframe thead th {\n        text-align: right;\n    }\n</style>\n<table border=\"1\" class=\"dataframe\">\n  <thead>\n    <tr style=\"text-align: right;\">\n      <th></th>\n      <th>index</th>\n      <th>recipe_name</th>\n      <th>sku_code</th>\n      <th>qty_2ppl</th>\n      <th>qty_4ppl</th>\n      <th>week</th>\n    </tr>\n  </thead>\n  <tbody>\n    <tr>\n      <th>0</th>\n      <td>1</td>\n      <td>Jerk Chicken &amp; Roasted Veggies with Corn Salsa...</td>\n      <td>PHF-10-00327-4</td>\n      <td>1</td>\n      <td>0</td>\n      <td>2020-W24</td>\n    </tr>\n    <tr>\n      <th>5</th>\n      <td>1</td>\n      <td>Jerk Chicken &amp; Roasted Veggies with Corn Salsa...</td>\n      <td>PHF-10-00384-4</td>\n      <td>1</td>\n      <td>0</td>\n      <td>2020-W24</td>\n    </tr>\n    <tr>\n      <th>10</th>\n      <td>1</td>\n      <td>Jerk Chicken &amp; Roasted Veggies with Corn Salsa...</td>\n      <td>PHF-10-00719-4</td>\n      <td>1</td>\n      <td>0</td>\n      <td>2020-W24</td>\n    </tr>\n    <tr>\n      <th>15</th>\n      <td>1</td>\n      <td>Jerk Chicken &amp; Roasted Veggies with Corn Salsa...</td>\n      <td>PHF-10-00724-4</td>\n      <td>1</td>\n      <td>0</td>\n      <td>2020-W24</td>\n    </tr>\n    <tr>\n      <th>20</th>\n      <td>1</td>\n      <td>Jerk Chicken &amp; Roasted Veggies with Corn Salsa...</td>\n      <td>PHF-10-01209-4</td>\n      <td>1</td>\n      <td>0</td>\n      <td>2020-W24</td>\n    </tr>\n    <tr>\n      <th>...</th>\n      <td>...</td>\n      <td>...</td>\n      <td>...</td>\n      <td>...</td>\n      <td>...</td>\n      <td>...</td>\n    </tr>\n    <tr>\n      <th>1360</th>\n      <td>20</td>\n      <td>NZ Cheat's Italian Lamb Ragu with Mash &amp; Green...</td>\n      <td>PRO-10-01208-4</td>\n      <td>0</td>\n      <td>1</td>\n      <td>2020-W24</td>\n    </tr>\n    <tr>\n      <th>1365</th>\n      <td>20</td>\n      <td>NZ Cheat's Italian Lamb Ragu with Mash &amp; Green...</td>\n      <td>PRO-10-01316-1</td>\n      <td>0</td>\n      <td>1</td>\n      <td>2020-W24</td>\n    </tr>\n    <tr>\n      <th>1370</th>\n      <td>20</td>\n      <td>NZ Cheat's Italian Lamb Ragu with Mash &amp; Green...</td>\n      <td>PRO-11-02084-1</td>\n      <td>0</td>\n      <td>1</td>\n      <td>2020-W24</td>\n    </tr>\n    <tr>\n      <th>1375</th>\n      <td>20</td>\n      <td>NZ Cheat's Italian Lamb Ragu with Mash &amp; Green...</td>\n      <td>PHF-00-25707-4</td>\n      <td>0</td>\n      <td>1</td>\n      <td>2020-W24</td>\n    </tr>\n    <tr>\n      <th>1380</th>\n      <td>20</td>\n      <td>NZ Cheat's Italian Lamb Ragu with Mash &amp; Green...</td>\n      <td>PHF-10-25778-4</td>\n      <td>0</td>\n      <td>1</td>\n      <td>2020-W24</td>\n    </tr>\n  </tbody>\n</table>\n<p>268 rows × 6 columns</p>\n</div>"
     },
     "metadata": {},
     "execution_count": 3
    }
   ],
   "source": [
    "raw_df"
   ]
  },
  {
   "cell_type": "code",
   "execution_count": 4,
   "metadata": {},
   "outputs": [],
   "source": [
    "def coutP(c_p2, c_p4):\n",
    "    if c_p2 != 0:\n",
    "        return \"2P\"\n",
    "    elif c_p4 != 0:\n",
    "        return \"4P\"\n",
    "    else:\n",
    "        return np.nan\n",
    "\n",
    "raw_df['Person'] = raw_df.apply(lambda x : coutP(x.qty_2ppl, x.qty_4ppl) , axis = 1)"
   ]
  },
  {
   "cell_type": "code",
   "execution_count": 5,
   "metadata": {},
   "outputs": [],
   "source": [
    "raw_df = raw_df.dropna().reset_index()"
   ]
  },
  {
   "cell_type": "code",
   "execution_count": 6,
   "metadata": {},
   "outputs": [
    {
     "output_type": "execute_result",
     "data": {
      "text/plain": "    index Recipe\n0       1      A\n1       2      B\n2       3      C\n3       4      D\n4       5      E\n5       6      F\n6       7      G\n7       8      H\n8       9      I\n9      10      J\n10     11      K\n11     12      L\n12     13      M\n13     14      N\n14     15      O\n15     16      P\n16     17      Q\n17     18      R\n18     19      S\n19     20      T",
      "text/html": "<div>\n<style scoped>\n    .dataframe tbody tr th:only-of-type {\n        vertical-align: middle;\n    }\n\n    .dataframe tbody tr th {\n        vertical-align: top;\n    }\n\n    .dataframe thead th {\n        text-align: right;\n    }\n</style>\n<table border=\"1\" class=\"dataframe\">\n  <thead>\n    <tr style=\"text-align: right;\">\n      <th></th>\n      <th>index</th>\n      <th>Recipe</th>\n    </tr>\n  </thead>\n  <tbody>\n    <tr>\n      <th>0</th>\n      <td>1</td>\n      <td>A</td>\n    </tr>\n    <tr>\n      <th>1</th>\n      <td>2</td>\n      <td>B</td>\n    </tr>\n    <tr>\n      <th>2</th>\n      <td>3</td>\n      <td>C</td>\n    </tr>\n    <tr>\n      <th>3</th>\n      <td>4</td>\n      <td>D</td>\n    </tr>\n    <tr>\n      <th>4</th>\n      <td>5</td>\n      <td>E</td>\n    </tr>\n    <tr>\n      <th>5</th>\n      <td>6</td>\n      <td>F</td>\n    </tr>\n    <tr>\n      <th>6</th>\n      <td>7</td>\n      <td>G</td>\n    </tr>\n    <tr>\n      <th>7</th>\n      <td>8</td>\n      <td>H</td>\n    </tr>\n    <tr>\n      <th>8</th>\n      <td>9</td>\n      <td>I</td>\n    </tr>\n    <tr>\n      <th>9</th>\n      <td>10</td>\n      <td>J</td>\n    </tr>\n    <tr>\n      <th>10</th>\n      <td>11</td>\n      <td>K</td>\n    </tr>\n    <tr>\n      <th>11</th>\n      <td>12</td>\n      <td>L</td>\n    </tr>\n    <tr>\n      <th>12</th>\n      <td>13</td>\n      <td>M</td>\n    </tr>\n    <tr>\n      <th>13</th>\n      <td>14</td>\n      <td>N</td>\n    </tr>\n    <tr>\n      <th>14</th>\n      <td>15</td>\n      <td>O</td>\n    </tr>\n    <tr>\n      <th>15</th>\n      <td>16</td>\n      <td>P</td>\n    </tr>\n    <tr>\n      <th>16</th>\n      <td>17</td>\n      <td>Q</td>\n    </tr>\n    <tr>\n      <th>17</th>\n      <td>18</td>\n      <td>R</td>\n    </tr>\n    <tr>\n      <th>18</th>\n      <td>19</td>\n      <td>S</td>\n    </tr>\n    <tr>\n      <th>19</th>\n      <td>20</td>\n      <td>T</td>\n    </tr>\n  </tbody>\n</table>\n</div>"
     },
     "metadata": {},
     "execution_count": 6
    }
   ],
   "source": [
    "index_lookup = pd.read_excel('./label ingredients.xlsx', sheet_name= 'index')\n",
    "index_lookup"
   ]
  },
  {
   "cell_type": "code",
   "execution_count": 7,
   "metadata": {},
   "outputs": [
    {
     "output_type": "execute_result",
     "data": {
      "text/plain": "     level_0  index                                        recipe_name  \\\n0          0      1  Jerk Chicken & Roasted Veggies with Corn Salsa...   \n1          5      1  Jerk Chicken & Roasted Veggies with Corn Salsa...   \n2         10      1  Jerk Chicken & Roasted Veggies with Corn Salsa...   \n3         15      1  Jerk Chicken & Roasted Veggies with Corn Salsa...   \n4         20      1  Jerk Chicken & Roasted Veggies with Corn Salsa...   \n..       ...    ...                                                ...   \n249     1360     20  NZ Cheat's Italian Lamb Ragu with Mash & Green...   \n250     1365     20  NZ Cheat's Italian Lamb Ragu with Mash & Green...   \n251     1370     20  NZ Cheat's Italian Lamb Ragu with Mash & Green...   \n252     1375     20  NZ Cheat's Italian Lamb Ragu with Mash & Green...   \n253     1380     20  NZ Cheat's Italian Lamb Ragu with Mash & Green...   \n\n           sku_code  qty_2ppl  qty_4ppl      week Person Recipe  \n0    PHF-10-00327-4         1         0  2020-W24     2P      A  \n1    PHF-10-00384-4         1         0  2020-W24     2P      A  \n2    PHF-10-00719-4         1         0  2020-W24     2P      A  \n3    PHF-10-00724-4         1         0  2020-W24     2P      A  \n4    PHF-10-01209-4         1         0  2020-W24     2P      A  \n..              ...       ...       ...       ...    ...    ...  \n249  PRO-10-01208-4         0         1  2020-W24     4P      T  \n250  PRO-10-01316-1         0         1  2020-W24     4P      T  \n251  PRO-11-02084-1         0         1  2020-W24     4P      T  \n252  PHF-00-25707-4         0         1  2020-W24     4P      T  \n253  PHF-10-25778-4         0         1  2020-W24     4P      T  \n\n[254 rows x 9 columns]",
      "text/html": "<div>\n<style scoped>\n    .dataframe tbody tr th:only-of-type {\n        vertical-align: middle;\n    }\n\n    .dataframe tbody tr th {\n        vertical-align: top;\n    }\n\n    .dataframe thead th {\n        text-align: right;\n    }\n</style>\n<table border=\"1\" class=\"dataframe\">\n  <thead>\n    <tr style=\"text-align: right;\">\n      <th></th>\n      <th>level_0</th>\n      <th>index</th>\n      <th>recipe_name</th>\n      <th>sku_code</th>\n      <th>qty_2ppl</th>\n      <th>qty_4ppl</th>\n      <th>week</th>\n      <th>Person</th>\n      <th>Recipe</th>\n    </tr>\n  </thead>\n  <tbody>\n    <tr>\n      <th>0</th>\n      <td>0</td>\n      <td>1</td>\n      <td>Jerk Chicken &amp; Roasted Veggies with Corn Salsa...</td>\n      <td>PHF-10-00327-4</td>\n      <td>1</td>\n      <td>0</td>\n      <td>2020-W24</td>\n      <td>2P</td>\n      <td>A</td>\n    </tr>\n    <tr>\n      <th>1</th>\n      <td>5</td>\n      <td>1</td>\n      <td>Jerk Chicken &amp; Roasted Veggies with Corn Salsa...</td>\n      <td>PHF-10-00384-4</td>\n      <td>1</td>\n      <td>0</td>\n      <td>2020-W24</td>\n      <td>2P</td>\n      <td>A</td>\n    </tr>\n    <tr>\n      <th>2</th>\n      <td>10</td>\n      <td>1</td>\n      <td>Jerk Chicken &amp; Roasted Veggies with Corn Salsa...</td>\n      <td>PHF-10-00719-4</td>\n      <td>1</td>\n      <td>0</td>\n      <td>2020-W24</td>\n      <td>2P</td>\n      <td>A</td>\n    </tr>\n    <tr>\n      <th>3</th>\n      <td>15</td>\n      <td>1</td>\n      <td>Jerk Chicken &amp; Roasted Veggies with Corn Salsa...</td>\n      <td>PHF-10-00724-4</td>\n      <td>1</td>\n      <td>0</td>\n      <td>2020-W24</td>\n      <td>2P</td>\n      <td>A</td>\n    </tr>\n    <tr>\n      <th>4</th>\n      <td>20</td>\n      <td>1</td>\n      <td>Jerk Chicken &amp; Roasted Veggies with Corn Salsa...</td>\n      <td>PHF-10-01209-4</td>\n      <td>1</td>\n      <td>0</td>\n      <td>2020-W24</td>\n      <td>2P</td>\n      <td>A</td>\n    </tr>\n    <tr>\n      <th>...</th>\n      <td>...</td>\n      <td>...</td>\n      <td>...</td>\n      <td>...</td>\n      <td>...</td>\n      <td>...</td>\n      <td>...</td>\n      <td>...</td>\n      <td>...</td>\n    </tr>\n    <tr>\n      <th>249</th>\n      <td>1360</td>\n      <td>20</td>\n      <td>NZ Cheat's Italian Lamb Ragu with Mash &amp; Green...</td>\n      <td>PRO-10-01208-4</td>\n      <td>0</td>\n      <td>1</td>\n      <td>2020-W24</td>\n      <td>4P</td>\n      <td>T</td>\n    </tr>\n    <tr>\n      <th>250</th>\n      <td>1365</td>\n      <td>20</td>\n      <td>NZ Cheat's Italian Lamb Ragu with Mash &amp; Green...</td>\n      <td>PRO-10-01316-1</td>\n      <td>0</td>\n      <td>1</td>\n      <td>2020-W24</td>\n      <td>4P</td>\n      <td>T</td>\n    </tr>\n    <tr>\n      <th>251</th>\n      <td>1370</td>\n      <td>20</td>\n      <td>NZ Cheat's Italian Lamb Ragu with Mash &amp; Green...</td>\n      <td>PRO-11-02084-1</td>\n      <td>0</td>\n      <td>1</td>\n      <td>2020-W24</td>\n      <td>4P</td>\n      <td>T</td>\n    </tr>\n    <tr>\n      <th>252</th>\n      <td>1375</td>\n      <td>20</td>\n      <td>NZ Cheat's Italian Lamb Ragu with Mash &amp; Green...</td>\n      <td>PHF-00-25707-4</td>\n      <td>0</td>\n      <td>1</td>\n      <td>2020-W24</td>\n      <td>4P</td>\n      <td>T</td>\n    </tr>\n    <tr>\n      <th>253</th>\n      <td>1380</td>\n      <td>20</td>\n      <td>NZ Cheat's Italian Lamb Ragu with Mash &amp; Green...</td>\n      <td>PHF-10-25778-4</td>\n      <td>0</td>\n      <td>1</td>\n      <td>2020-W24</td>\n      <td>4P</td>\n      <td>T</td>\n    </tr>\n  </tbody>\n</table>\n<p>254 rows × 9 columns</p>\n</div>"
     },
     "metadata": {},
     "execution_count": 7
    }
   ],
   "source": [
    "raw_df = raw_df.merge(index_lookup, how = 'left',left_on='index', right_on='index')\n",
    "raw_df"
   ]
  },
  {
   "cell_type": "code",
   "execution_count": 8,
   "metadata": {},
   "outputs": [
    {
     "output_type": "execute_result",
     "data": {
      "text/plain": "     level_0  index                                        recipe_name  \\\n0          0      1  Jerk Chicken & Roasted Veggies with Corn Salsa...   \n1          5      1  Jerk Chicken & Roasted Veggies with Corn Salsa...   \n2         10      1  Jerk Chicken & Roasted Veggies with Corn Salsa...   \n3         15      1  Jerk Chicken & Roasted Veggies with Corn Salsa...   \n4         20      1  Jerk Chicken & Roasted Veggies with Corn Salsa...   \n..       ...    ...                                                ...   \n249     1360     20  NZ Cheat's Italian Lamb Ragu with Mash & Green...   \n250     1365     20  NZ Cheat's Italian Lamb Ragu with Mash & Green...   \n251     1370     20  NZ Cheat's Italian Lamb Ragu with Mash & Green...   \n252     1375     20  NZ Cheat's Italian Lamb Ragu with Mash & Green...   \n253     1380     20  NZ Cheat's Italian Lamb Ragu with Mash & Green...   \n\n           sku_code  qty_2ppl  qty_4ppl      week Person Recipe Recipe Code  \n0    PHF-10-00327-4         1         0  2020-W24     2P      A        24A2  \n1    PHF-10-00384-4         1         0  2020-W24     2P      A        24A2  \n2    PHF-10-00719-4         1         0  2020-W24     2P      A        24A2  \n3    PHF-10-00724-4         1         0  2020-W24     2P      A        24A2  \n4    PHF-10-01209-4         1         0  2020-W24     2P      A        24A2  \n..              ...       ...       ...       ...    ...    ...         ...  \n249  PRO-10-01208-4         0         1  2020-W24     4P      T        24T4  \n250  PRO-10-01316-1         0         1  2020-W24     4P      T        24T4  \n251  PRO-11-02084-1         0         1  2020-W24     4P      T        24T4  \n252  PHF-00-25707-4         0         1  2020-W24     4P      T        24T4  \n253  PHF-10-25778-4         0         1  2020-W24     4P      T        24T4  \n\n[254 rows x 10 columns]",
      "text/html": "<div>\n<style scoped>\n    .dataframe tbody tr th:only-of-type {\n        vertical-align: middle;\n    }\n\n    .dataframe tbody tr th {\n        vertical-align: top;\n    }\n\n    .dataframe thead th {\n        text-align: right;\n    }\n</style>\n<table border=\"1\" class=\"dataframe\">\n  <thead>\n    <tr style=\"text-align: right;\">\n      <th></th>\n      <th>level_0</th>\n      <th>index</th>\n      <th>recipe_name</th>\n      <th>sku_code</th>\n      <th>qty_2ppl</th>\n      <th>qty_4ppl</th>\n      <th>week</th>\n      <th>Person</th>\n      <th>Recipe</th>\n      <th>Recipe Code</th>\n    </tr>\n  </thead>\n  <tbody>\n    <tr>\n      <th>0</th>\n      <td>0</td>\n      <td>1</td>\n      <td>Jerk Chicken &amp; Roasted Veggies with Corn Salsa...</td>\n      <td>PHF-10-00327-4</td>\n      <td>1</td>\n      <td>0</td>\n      <td>2020-W24</td>\n      <td>2P</td>\n      <td>A</td>\n      <td>24A2</td>\n    </tr>\n    <tr>\n      <th>1</th>\n      <td>5</td>\n      <td>1</td>\n      <td>Jerk Chicken &amp; Roasted Veggies with Corn Salsa...</td>\n      <td>PHF-10-00384-4</td>\n      <td>1</td>\n      <td>0</td>\n      <td>2020-W24</td>\n      <td>2P</td>\n      <td>A</td>\n      <td>24A2</td>\n    </tr>\n    <tr>\n      <th>2</th>\n      <td>10</td>\n      <td>1</td>\n      <td>Jerk Chicken &amp; Roasted Veggies with Corn Salsa...</td>\n      <td>PHF-10-00719-4</td>\n      <td>1</td>\n      <td>0</td>\n      <td>2020-W24</td>\n      <td>2P</td>\n      <td>A</td>\n      <td>24A2</td>\n    </tr>\n    <tr>\n      <th>3</th>\n      <td>15</td>\n      <td>1</td>\n      <td>Jerk Chicken &amp; Roasted Veggies with Corn Salsa...</td>\n      <td>PHF-10-00724-4</td>\n      <td>1</td>\n      <td>0</td>\n      <td>2020-W24</td>\n      <td>2P</td>\n      <td>A</td>\n      <td>24A2</td>\n    </tr>\n    <tr>\n      <th>4</th>\n      <td>20</td>\n      <td>1</td>\n      <td>Jerk Chicken &amp; Roasted Veggies with Corn Salsa...</td>\n      <td>PHF-10-01209-4</td>\n      <td>1</td>\n      <td>0</td>\n      <td>2020-W24</td>\n      <td>2P</td>\n      <td>A</td>\n      <td>24A2</td>\n    </tr>\n    <tr>\n      <th>...</th>\n      <td>...</td>\n      <td>...</td>\n      <td>...</td>\n      <td>...</td>\n      <td>...</td>\n      <td>...</td>\n      <td>...</td>\n      <td>...</td>\n      <td>...</td>\n      <td>...</td>\n    </tr>\n    <tr>\n      <th>249</th>\n      <td>1360</td>\n      <td>20</td>\n      <td>NZ Cheat's Italian Lamb Ragu with Mash &amp; Green...</td>\n      <td>PRO-10-01208-4</td>\n      <td>0</td>\n      <td>1</td>\n      <td>2020-W24</td>\n      <td>4P</td>\n      <td>T</td>\n      <td>24T4</td>\n    </tr>\n    <tr>\n      <th>250</th>\n      <td>1365</td>\n      <td>20</td>\n      <td>NZ Cheat's Italian Lamb Ragu with Mash &amp; Green...</td>\n      <td>PRO-10-01316-1</td>\n      <td>0</td>\n      <td>1</td>\n      <td>2020-W24</td>\n      <td>4P</td>\n      <td>T</td>\n      <td>24T4</td>\n    </tr>\n    <tr>\n      <th>251</th>\n      <td>1370</td>\n      <td>20</td>\n      <td>NZ Cheat's Italian Lamb Ragu with Mash &amp; Green...</td>\n      <td>PRO-11-02084-1</td>\n      <td>0</td>\n      <td>1</td>\n      <td>2020-W24</td>\n      <td>4P</td>\n      <td>T</td>\n      <td>24T4</td>\n    </tr>\n    <tr>\n      <th>252</th>\n      <td>1375</td>\n      <td>20</td>\n      <td>NZ Cheat's Italian Lamb Ragu with Mash &amp; Green...</td>\n      <td>PHF-00-25707-4</td>\n      <td>0</td>\n      <td>1</td>\n      <td>2020-W24</td>\n      <td>4P</td>\n      <td>T</td>\n      <td>24T4</td>\n    </tr>\n    <tr>\n      <th>253</th>\n      <td>1380</td>\n      <td>20</td>\n      <td>NZ Cheat's Italian Lamb Ragu with Mash &amp; Green...</td>\n      <td>PHF-10-25778-4</td>\n      <td>0</td>\n      <td>1</td>\n      <td>2020-W24</td>\n      <td>4P</td>\n      <td>T</td>\n      <td>24T4</td>\n    </tr>\n  </tbody>\n</table>\n<p>254 rows × 10 columns</p>\n</div>"
     },
     "metadata": {},
     "execution_count": 8
    }
   ],
   "source": [
    "raw_df['Recipe Code'] = raw_df['week'].str[-2:] + raw_df['Recipe'] + raw_df['Person'].str[:1]\n",
    "raw_df"
   ]
  },
  {
   "cell_type": "code",
   "execution_count": 9,
   "metadata": {},
   "outputs": [
    {
     "output_type": "execute_result",
     "data": {
      "text/plain": "  Recipe Code        sku_code  qty_2ppl  qty_4ppl\n0        24A2  PHF-10-00327-4         1         0\n1        24A2  PHF-10-00384-4         1         0\n2        24A2  PHF-10-00719-4         1         0\n3        24A2  PHF-10-00724-4         1         0\n4        24A2  PHF-10-01209-4         1         0",
      "text/html": "<div>\n<style scoped>\n    .dataframe tbody tr th:only-of-type {\n        vertical-align: middle;\n    }\n\n    .dataframe tbody tr th {\n        vertical-align: top;\n    }\n\n    .dataframe thead th {\n        text-align: right;\n    }\n</style>\n<table border=\"1\" class=\"dataframe\">\n  <thead>\n    <tr style=\"text-align: right;\">\n      <th></th>\n      <th>Recipe Code</th>\n      <th>sku_code</th>\n      <th>qty_2ppl</th>\n      <th>qty_4ppl</th>\n    </tr>\n  </thead>\n  <tbody>\n    <tr>\n      <th>0</th>\n      <td>24A2</td>\n      <td>PHF-10-00327-4</td>\n      <td>1</td>\n      <td>0</td>\n    </tr>\n    <tr>\n      <th>1</th>\n      <td>24A2</td>\n      <td>PHF-10-00384-4</td>\n      <td>1</td>\n      <td>0</td>\n    </tr>\n    <tr>\n      <th>2</th>\n      <td>24A2</td>\n      <td>PHF-10-00719-4</td>\n      <td>1</td>\n      <td>0</td>\n    </tr>\n    <tr>\n      <th>3</th>\n      <td>24A2</td>\n      <td>PHF-10-00724-4</td>\n      <td>1</td>\n      <td>0</td>\n    </tr>\n    <tr>\n      <th>4</th>\n      <td>24A2</td>\n      <td>PHF-10-01209-4</td>\n      <td>1</td>\n      <td>0</td>\n    </tr>\n  </tbody>\n</table>\n</div>"
     },
     "metadata": {},
     "execution_count": 9
    }
   ],
   "source": [
    "staged_df = raw_df[['Recipe Code','sku_code', 'qty_2ppl', 'qty_4ppl']]\n",
    "staged_df.head()"
   ]
  },
  {
   "cell_type": "code",
   "execution_count": 10,
   "metadata": {},
   "outputs": [
    {
     "output_type": "execute_result",
     "data": {
      "text/plain": "           sku_code Difficulty\n0    PHF-10-00384-4          M\n1    PHF-10-00483-1         VH\n2    PHF-10-00581-1         VE\n3    PHF-10-00707-4          E\n4    PHF-10-01167-1          H\n..              ...        ...\n173  BAK-10-00457-7         VH\n174  DRY-00-00357-1          M\n175  PRO-00-01242-1         VE\n176  SPI-00-01335-1         VE\n177  PHF-10-25778-4          H\n\n[178 rows x 2 columns]",
      "text/html": "<div>\n<style scoped>\n    .dataframe tbody tr th:only-of-type {\n        vertical-align: middle;\n    }\n\n    .dataframe tbody tr th {\n        vertical-align: top;\n    }\n\n    .dataframe thead th {\n        text-align: right;\n    }\n</style>\n<table border=\"1\" class=\"dataframe\">\n  <thead>\n    <tr style=\"text-align: right;\">\n      <th></th>\n      <th>sku_code</th>\n      <th>Difficulty</th>\n    </tr>\n  </thead>\n  <tbody>\n    <tr>\n      <th>0</th>\n      <td>PHF-10-00384-4</td>\n      <td>M</td>\n    </tr>\n    <tr>\n      <th>1</th>\n      <td>PHF-10-00483-1</td>\n      <td>VH</td>\n    </tr>\n    <tr>\n      <th>2</th>\n      <td>PHF-10-00581-1</td>\n      <td>VE</td>\n    </tr>\n    <tr>\n      <th>3</th>\n      <td>PHF-10-00707-4</td>\n      <td>E</td>\n    </tr>\n    <tr>\n      <th>4</th>\n      <td>PHF-10-01167-1</td>\n      <td>H</td>\n    </tr>\n    <tr>\n      <th>...</th>\n      <td>...</td>\n      <td>...</td>\n    </tr>\n    <tr>\n      <th>173</th>\n      <td>BAK-10-00457-7</td>\n      <td>VH</td>\n    </tr>\n    <tr>\n      <th>174</th>\n      <td>DRY-00-00357-1</td>\n      <td>M</td>\n    </tr>\n    <tr>\n      <th>175</th>\n      <td>PRO-00-01242-1</td>\n      <td>VE</td>\n    </tr>\n    <tr>\n      <th>176</th>\n      <td>SPI-00-01335-1</td>\n      <td>VE</td>\n    </tr>\n    <tr>\n      <th>177</th>\n      <td>PHF-10-25778-4</td>\n      <td>H</td>\n    </tr>\n  </tbody>\n</table>\n<p>178 rows × 2 columns</p>\n</div>"
     },
     "metadata": {},
     "execution_count": 10
    }
   ],
   "source": [
    "difficulty_lookup = pd.read_excel('./label ingredients.xlsx', sheet_name= 'difficultyLookup')\n",
    "difficulty_lookup"
   ]
  },
  {
   "cell_type": "code",
   "execution_count": 11,
   "metadata": {},
   "outputs": [
    {
     "output_type": "execute_result",
     "data": {
      "text/plain": "    Recipe Code        sku_code  qty_2ppl  qty_4ppl Difficulty\n0          24A2  PHF-10-00327-4         1         0         VH\n1          24A2  PHF-10-00384-4         1         0          M\n2          24A2  PHF-10-00719-4         1         0          E\n3          24A2  PHF-10-00724-4         1         0          M\n4          24A2  PHF-10-01209-4         1         0          E\n..          ...             ...       ...       ...        ...\n249        24T4  PRO-10-01208-4         0         1          E\n250        24T4  PRO-10-01316-1         0         1          H\n251        24T4  PRO-11-02084-1         0         1         VE\n252        24T4  PHF-00-25707-4         0         1          M\n253        24T4  PHF-10-25778-4         0         1          H\n\n[254 rows x 5 columns]",
      "text/html": "<div>\n<style scoped>\n    .dataframe tbody tr th:only-of-type {\n        vertical-align: middle;\n    }\n\n    .dataframe tbody tr th {\n        vertical-align: top;\n    }\n\n    .dataframe thead th {\n        text-align: right;\n    }\n</style>\n<table border=\"1\" class=\"dataframe\">\n  <thead>\n    <tr style=\"text-align: right;\">\n      <th></th>\n      <th>Recipe Code</th>\n      <th>sku_code</th>\n      <th>qty_2ppl</th>\n      <th>qty_4ppl</th>\n      <th>Difficulty</th>\n    </tr>\n  </thead>\n  <tbody>\n    <tr>\n      <th>0</th>\n      <td>24A2</td>\n      <td>PHF-10-00327-4</td>\n      <td>1</td>\n      <td>0</td>\n      <td>VH</td>\n    </tr>\n    <tr>\n      <th>1</th>\n      <td>24A2</td>\n      <td>PHF-10-00384-4</td>\n      <td>1</td>\n      <td>0</td>\n      <td>M</td>\n    </tr>\n    <tr>\n      <th>2</th>\n      <td>24A2</td>\n      <td>PHF-10-00719-4</td>\n      <td>1</td>\n      <td>0</td>\n      <td>E</td>\n    </tr>\n    <tr>\n      <th>3</th>\n      <td>24A2</td>\n      <td>PHF-10-00724-4</td>\n      <td>1</td>\n      <td>0</td>\n      <td>M</td>\n    </tr>\n    <tr>\n      <th>4</th>\n      <td>24A2</td>\n      <td>PHF-10-01209-4</td>\n      <td>1</td>\n      <td>0</td>\n      <td>E</td>\n    </tr>\n    <tr>\n      <th>...</th>\n      <td>...</td>\n      <td>...</td>\n      <td>...</td>\n      <td>...</td>\n      <td>...</td>\n    </tr>\n    <tr>\n      <th>249</th>\n      <td>24T4</td>\n      <td>PRO-10-01208-4</td>\n      <td>0</td>\n      <td>1</td>\n      <td>E</td>\n    </tr>\n    <tr>\n      <th>250</th>\n      <td>24T4</td>\n      <td>PRO-10-01316-1</td>\n      <td>0</td>\n      <td>1</td>\n      <td>H</td>\n    </tr>\n    <tr>\n      <th>251</th>\n      <td>24T4</td>\n      <td>PRO-11-02084-1</td>\n      <td>0</td>\n      <td>1</td>\n      <td>VE</td>\n    </tr>\n    <tr>\n      <th>252</th>\n      <td>24T4</td>\n      <td>PHF-00-25707-4</td>\n      <td>0</td>\n      <td>1</td>\n      <td>M</td>\n    </tr>\n    <tr>\n      <th>253</th>\n      <td>24T4</td>\n      <td>PHF-10-25778-4</td>\n      <td>0</td>\n      <td>1</td>\n      <td>H</td>\n    </tr>\n  </tbody>\n</table>\n<p>254 rows × 5 columns</p>\n</div>"
     },
     "metadata": {},
     "execution_count": 11
    }
   ],
   "source": [
    "staged_df = staged_df.merge(difficulty_lookup, how = 'left',left_on='sku_code', right_on='sku_code')\n",
    "staged_df"
   ]
  },
  {
   "cell_type": "code",
   "execution_count": 12,
   "metadata": {},
   "outputs": [
    {
     "output_type": "execute_result",
     "data": {
      "text/plain": "Series([], Name: sku_code, dtype: object)"
     },
     "metadata": {},
     "execution_count": 12
    }
   ],
   "source": [
    "staged_df['sku_code'][staged_df['Difficulty'].isna()]\n",
    "# the new SKUs"
   ]
  },
  {
   "cell_type": "code",
   "execution_count": 13,
   "metadata": {},
   "outputs": [],
   "source": [
    "prepared_pg_4P = staged_df.pivot_table(values = 'qty_4ppl', index = 'Recipe Code', columns = 'Difficulty', aggfunc=np.sum, fill_value = 0)\n",
    "prepared_pg_2P = staged_df.pivot_table(values = 'qty_2ppl', index = 'Recipe Code', columns = 'Difficulty', aggfunc=np.sum, fill_value = 0)\n",
    "prepared_2P = prepared_pg_2P[prepared_pg_2P.sum(axis=1) > 0]\n",
    "prepared_4P = prepared_pg_4P[prepared_pg_4P.sum(axis=1) > 0]"
   ]
  },
  {
   "cell_type": "code",
   "execution_count": 14,
   "metadata": {},
   "outputs": [
    {
     "output_type": "execute_result",
     "data": {
      "text/plain": "Difficulty   E  H  M  VE  VH\nRecipe Code                 \n24A4         4  1  3   3   4\n24B4         2  3  0   2   4\n24C4         1  4  1   4   4\n24D4         0  2  3   2   0\n24E4         0  6  2   4   0\n24F4         1  0  6   5   1\n24G4         3  5  4   6   2\n24H4         0  1  2   9   3\n24I4         3  3  0   2   1\n24J4         0  4  7   6   1\n24K4         6  0  1   5   0\n24L4         1  2  3   3   1\n24M4         3  0  4   4   0\n24N4         4  1  2   2   0\n24O4         2  0  2   5   2\n24P4         1  0  2   3   0\n24Q4         2  0  4   7   1\n24R4         4  1  3   2   0\n24S4         3  0  0   3   2\n24T4         2  6  3   2   0",
      "text/html": "<div>\n<style scoped>\n    .dataframe tbody tr th:only-of-type {\n        vertical-align: middle;\n    }\n\n    .dataframe tbody tr th {\n        vertical-align: top;\n    }\n\n    .dataframe thead th {\n        text-align: right;\n    }\n</style>\n<table border=\"1\" class=\"dataframe\">\n  <thead>\n    <tr style=\"text-align: right;\">\n      <th>Difficulty</th>\n      <th>E</th>\n      <th>H</th>\n      <th>M</th>\n      <th>VE</th>\n      <th>VH</th>\n    </tr>\n    <tr>\n      <th>Recipe Code</th>\n      <th></th>\n      <th></th>\n      <th></th>\n      <th></th>\n      <th></th>\n    </tr>\n  </thead>\n  <tbody>\n    <tr>\n      <th>24A4</th>\n      <td>4</td>\n      <td>1</td>\n      <td>3</td>\n      <td>3</td>\n      <td>4</td>\n    </tr>\n    <tr>\n      <th>24B4</th>\n      <td>2</td>\n      <td>3</td>\n      <td>0</td>\n      <td>2</td>\n      <td>4</td>\n    </tr>\n    <tr>\n      <th>24C4</th>\n      <td>1</td>\n      <td>4</td>\n      <td>1</td>\n      <td>4</td>\n      <td>4</td>\n    </tr>\n    <tr>\n      <th>24D4</th>\n      <td>0</td>\n      <td>2</td>\n      <td>3</td>\n      <td>2</td>\n      <td>0</td>\n    </tr>\n    <tr>\n      <th>24E4</th>\n      <td>0</td>\n      <td>6</td>\n      <td>2</td>\n      <td>4</td>\n      <td>0</td>\n    </tr>\n    <tr>\n      <th>24F4</th>\n      <td>1</td>\n      <td>0</td>\n      <td>6</td>\n      <td>5</td>\n      <td>1</td>\n    </tr>\n    <tr>\n      <th>24G4</th>\n      <td>3</td>\n      <td>5</td>\n      <td>4</td>\n      <td>6</td>\n      <td>2</td>\n    </tr>\n    <tr>\n      <th>24H4</th>\n      <td>0</td>\n      <td>1</td>\n      <td>2</td>\n      <td>9</td>\n      <td>3</td>\n    </tr>\n    <tr>\n      <th>24I4</th>\n      <td>3</td>\n      <td>3</td>\n      <td>0</td>\n      <td>2</td>\n      <td>1</td>\n    </tr>\n    <tr>\n      <th>24J4</th>\n      <td>0</td>\n      <td>4</td>\n      <td>7</td>\n      <td>6</td>\n      <td>1</td>\n    </tr>\n    <tr>\n      <th>24K4</th>\n      <td>6</td>\n      <td>0</td>\n      <td>1</td>\n      <td>5</td>\n      <td>0</td>\n    </tr>\n    <tr>\n      <th>24L4</th>\n      <td>1</td>\n      <td>2</td>\n      <td>3</td>\n      <td>3</td>\n      <td>1</td>\n    </tr>\n    <tr>\n      <th>24M4</th>\n      <td>3</td>\n      <td>0</td>\n      <td>4</td>\n      <td>4</td>\n      <td>0</td>\n    </tr>\n    <tr>\n      <th>24N4</th>\n      <td>4</td>\n      <td>1</td>\n      <td>2</td>\n      <td>2</td>\n      <td>0</td>\n    </tr>\n    <tr>\n      <th>24O4</th>\n      <td>2</td>\n      <td>0</td>\n      <td>2</td>\n      <td>5</td>\n      <td>2</td>\n    </tr>\n    <tr>\n      <th>24P4</th>\n      <td>1</td>\n      <td>0</td>\n      <td>2</td>\n      <td>3</td>\n      <td>0</td>\n    </tr>\n    <tr>\n      <th>24Q4</th>\n      <td>2</td>\n      <td>0</td>\n      <td>4</td>\n      <td>7</td>\n      <td>1</td>\n    </tr>\n    <tr>\n      <th>24R4</th>\n      <td>4</td>\n      <td>1</td>\n      <td>3</td>\n      <td>2</td>\n      <td>0</td>\n    </tr>\n    <tr>\n      <th>24S4</th>\n      <td>3</td>\n      <td>0</td>\n      <td>0</td>\n      <td>3</td>\n      <td>2</td>\n    </tr>\n    <tr>\n      <th>24T4</th>\n      <td>2</td>\n      <td>6</td>\n      <td>3</td>\n      <td>2</td>\n      <td>0</td>\n    </tr>\n  </tbody>\n</table>\n</div>"
     },
     "metadata": {},
     "execution_count": 14
    }
   ],
   "source": [
    "prepared_4P"
   ]
  },
  {
   "cell_type": "code",
   "execution_count": 15,
   "metadata": {},
   "outputs": [],
   "source": [
    "mk_crate_raw = pd.read_csv('./label_recipes.csv')\n",
    "mk_crate_raw['Recipe Code'] = mk_crate_raw['Week'].str[-2:] + mk_crate_raw['Recipe']\n",
    "mk_crate_prepared = mk_crate_raw[['Recipe Code', 'Meal Kits/Crate']]\n",
    "# join recipe details with 'MKs/Crate'\n",
    "prepared_4P = prepared_4P.join(mk_crate_prepared.set_index('Recipe Code')) # default lef join\n",
    "prepared_2P = prepared_2P.join(mk_crate_prepared.set_index('Recipe Code'))"
   ]
  },
  {
   "cell_type": "code",
   "execution_count": 22,
   "metadata": {},
   "outputs": [
    {
     "output_type": "execute_result",
     "data": {
      "text/plain": "             E  H  M  VE  VH  Meal Kits/Crate\nRecipe Code                                  \n24A2         3  0  3   2   2                5\n24B2         1  1  2   1   2                7\n24C2         2  2  0   2   2                6\n24D2         1  1  1   2   0                5\n24E2         0  3  1   3   0                5\n24F2         1  1  3   3   0                5\n24G2         2  3  3   4   1                4\n24H2         0  0  2   6   2                6\n24I2         2  0  3   1   1                5\n24J2         0  3  4   4   0                4\n24O2         2  0  1   3   1                6\n24P2         1  0  1   2   0               10\n24Q2         1  0  2   4   1                4\n24A4         4  1  3   3   4                4\n24B4         2  3  0   2   4                5\n24C4         1  4  1   4   4                4\n24D4         0  2  3   2   0                4\n24E4         0  6  2   4   0                4\n24F4         1  0  6   5   1                4\n24G4         3  5  4   6   2                3\n24H4         0  1  2   9   3                5\n24I4         3  3  0   2   1                4\n24J4         0  4  7   6   1                3\n24K4         6  0  1   5   0                6\n24L4         1  2  3   3   1                4\n24M4         3  0  4   4   0                6\n24N4         4  1  2   2   0                6\n24O4         2  0  2   5   2                5\n24P4         1  0  2   3   0                6\n24Q4         2  0  4   7   1                3\n24R4         4  1  3   2   0                6\n24S4         3  0  0   3   2                6\n24T4         2  6  3   2   0                4",
      "text/html": "<div>\n<style scoped>\n    .dataframe tbody tr th:only-of-type {\n        vertical-align: middle;\n    }\n\n    .dataframe tbody tr th {\n        vertical-align: top;\n    }\n\n    .dataframe thead th {\n        text-align: right;\n    }\n</style>\n<table border=\"1\" class=\"dataframe\">\n  <thead>\n    <tr style=\"text-align: right;\">\n      <th></th>\n      <th>E</th>\n      <th>H</th>\n      <th>M</th>\n      <th>VE</th>\n      <th>VH</th>\n      <th>Meal Kits/Crate</th>\n    </tr>\n    <tr>\n      <th>Recipe Code</th>\n      <th></th>\n      <th></th>\n      <th></th>\n      <th></th>\n      <th></th>\n      <th></th>\n    </tr>\n  </thead>\n  <tbody>\n    <tr>\n      <th>24A2</th>\n      <td>3</td>\n      <td>0</td>\n      <td>3</td>\n      <td>2</td>\n      <td>2</td>\n      <td>5</td>\n    </tr>\n    <tr>\n      <th>24B2</th>\n      <td>1</td>\n      <td>1</td>\n      <td>2</td>\n      <td>1</td>\n      <td>2</td>\n      <td>7</td>\n    </tr>\n    <tr>\n      <th>24C2</th>\n      <td>2</td>\n      <td>2</td>\n      <td>0</td>\n      <td>2</td>\n      <td>2</td>\n      <td>6</td>\n    </tr>\n    <tr>\n      <th>24D2</th>\n      <td>1</td>\n      <td>1</td>\n      <td>1</td>\n      <td>2</td>\n      <td>0</td>\n      <td>5</td>\n    </tr>\n    <tr>\n      <th>24E2</th>\n      <td>0</td>\n      <td>3</td>\n      <td>1</td>\n      <td>3</td>\n      <td>0</td>\n      <td>5</td>\n    </tr>\n    <tr>\n      <th>24F2</th>\n      <td>1</td>\n      <td>1</td>\n      <td>3</td>\n      <td>3</td>\n      <td>0</td>\n      <td>5</td>\n    </tr>\n    <tr>\n      <th>24G2</th>\n      <td>2</td>\n      <td>3</td>\n      <td>3</td>\n      <td>4</td>\n      <td>1</td>\n      <td>4</td>\n    </tr>\n    <tr>\n      <th>24H2</th>\n      <td>0</td>\n      <td>0</td>\n      <td>2</td>\n      <td>6</td>\n      <td>2</td>\n      <td>6</td>\n    </tr>\n    <tr>\n      <th>24I2</th>\n      <td>2</td>\n      <td>0</td>\n      <td>3</td>\n      <td>1</td>\n      <td>1</td>\n      <td>5</td>\n    </tr>\n    <tr>\n      <th>24J2</th>\n      <td>0</td>\n      <td>3</td>\n      <td>4</td>\n      <td>4</td>\n      <td>0</td>\n      <td>4</td>\n    </tr>\n    <tr>\n      <th>24O2</th>\n      <td>2</td>\n      <td>0</td>\n      <td>1</td>\n      <td>3</td>\n      <td>1</td>\n      <td>6</td>\n    </tr>\n    <tr>\n      <th>24P2</th>\n      <td>1</td>\n      <td>0</td>\n      <td>1</td>\n      <td>2</td>\n      <td>0</td>\n      <td>10</td>\n    </tr>\n    <tr>\n      <th>24Q2</th>\n      <td>1</td>\n      <td>0</td>\n      <td>2</td>\n      <td>4</td>\n      <td>1</td>\n      <td>4</td>\n    </tr>\n    <tr>\n      <th>24A4</th>\n      <td>4</td>\n      <td>1</td>\n      <td>3</td>\n      <td>3</td>\n      <td>4</td>\n      <td>4</td>\n    </tr>\n    <tr>\n      <th>24B4</th>\n      <td>2</td>\n      <td>3</td>\n      <td>0</td>\n      <td>2</td>\n      <td>4</td>\n      <td>5</td>\n    </tr>\n    <tr>\n      <th>24C4</th>\n      <td>1</td>\n      <td>4</td>\n      <td>1</td>\n      <td>4</td>\n      <td>4</td>\n      <td>4</td>\n    </tr>\n    <tr>\n      <th>24D4</th>\n      <td>0</td>\n      <td>2</td>\n      <td>3</td>\n      <td>2</td>\n      <td>0</td>\n      <td>4</td>\n    </tr>\n    <tr>\n      <th>24E4</th>\n      <td>0</td>\n      <td>6</td>\n      <td>2</td>\n      <td>4</td>\n      <td>0</td>\n      <td>4</td>\n    </tr>\n    <tr>\n      <th>24F4</th>\n      <td>1</td>\n      <td>0</td>\n      <td>6</td>\n      <td>5</td>\n      <td>1</td>\n      <td>4</td>\n    </tr>\n    <tr>\n      <th>24G4</th>\n      <td>3</td>\n      <td>5</td>\n      <td>4</td>\n      <td>6</td>\n      <td>2</td>\n      <td>3</td>\n    </tr>\n    <tr>\n      <th>24H4</th>\n      <td>0</td>\n      <td>1</td>\n      <td>2</td>\n      <td>9</td>\n      <td>3</td>\n      <td>5</td>\n    </tr>\n    <tr>\n      <th>24I4</th>\n      <td>3</td>\n      <td>3</td>\n      <td>0</td>\n      <td>2</td>\n      <td>1</td>\n      <td>4</td>\n    </tr>\n    <tr>\n      <th>24J4</th>\n      <td>0</td>\n      <td>4</td>\n      <td>7</td>\n      <td>6</td>\n      <td>1</td>\n      <td>3</td>\n    </tr>\n    <tr>\n      <th>24K4</th>\n      <td>6</td>\n      <td>0</td>\n      <td>1</td>\n      <td>5</td>\n      <td>0</td>\n      <td>6</td>\n    </tr>\n    <tr>\n      <th>24L4</th>\n      <td>1</td>\n      <td>2</td>\n      <td>3</td>\n      <td>3</td>\n      <td>1</td>\n      <td>4</td>\n    </tr>\n    <tr>\n      <th>24M4</th>\n      <td>3</td>\n      <td>0</td>\n      <td>4</td>\n      <td>4</td>\n      <td>0</td>\n      <td>6</td>\n    </tr>\n    <tr>\n      <th>24N4</th>\n      <td>4</td>\n      <td>1</td>\n      <td>2</td>\n      <td>2</td>\n      <td>0</td>\n      <td>6</td>\n    </tr>\n    <tr>\n      <th>24O4</th>\n      <td>2</td>\n      <td>0</td>\n      <td>2</td>\n      <td>5</td>\n      <td>2</td>\n      <td>5</td>\n    </tr>\n    <tr>\n      <th>24P4</th>\n      <td>1</td>\n      <td>0</td>\n      <td>2</td>\n      <td>3</td>\n      <td>0</td>\n      <td>6</td>\n    </tr>\n    <tr>\n      <th>24Q4</th>\n      <td>2</td>\n      <td>0</td>\n      <td>4</td>\n      <td>7</td>\n      <td>1</td>\n      <td>3</td>\n    </tr>\n    <tr>\n      <th>24R4</th>\n      <td>4</td>\n      <td>1</td>\n      <td>3</td>\n      <td>2</td>\n      <td>0</td>\n      <td>6</td>\n    </tr>\n    <tr>\n      <th>24S4</th>\n      <td>3</td>\n      <td>0</td>\n      <td>0</td>\n      <td>3</td>\n      <td>2</td>\n      <td>6</td>\n    </tr>\n    <tr>\n      <th>24T4</th>\n      <td>2</td>\n      <td>6</td>\n      <td>3</td>\n      <td>2</td>\n      <td>0</td>\n      <td>4</td>\n    </tr>\n  </tbody>\n</table>\n</div>"
     },
     "metadata": {},
     "execution_count": 22
    }
   ],
   "source": [
    "recipe_details = pd.concat([prepared_2P, prepared_4P])\n",
    "recipe_details"
   ]
  },
  {
   "cell_type": "code",
   "execution_count": 18,
   "metadata": {},
   "outputs": [
    {
     "output_type": "execute_result",
     "data": {
      "text/plain": "(6911, 14)"
     },
     "metadata": {},
     "execution_count": 18
    }
   ],
   "source": [
    "# pliminary filtering Kitting Line Scanning System data (Week 17 - Week 23)\n",
    "klss_raw = pd.read_csv('./Kitting_raw_W24.csv')\n",
    "klss_raw.shape"
   ]
  },
  {
   "cell_type": "code",
   "execution_count": 19,
   "metadata": {},
   "outputs": [
    {
     "output_type": "execute_result",
     "data": {
      "text/plain": "(4422, 15)"
     },
     "metadata": {},
     "execution_count": 19
    }
   ],
   "source": [
    "Conditions = (\n",
    "(klss_raw['Activity'] == 'Production') & \n",
    "(klss_raw['Seq Code'].notnull()) &\n",
    "((klss_raw['Time Consumption'] > 2) & (klss_raw['Time Consumption'] < 10))\n",
    ")\n",
    "klss_raw_row_filitered = klss_raw[Conditions].reset_index()\n",
    "klss_raw_row_filitered.shape"
   ]
  },
  {
   "cell_type": "code",
   "execution_count": 20,
   "metadata": {},
   "outputs": [
    {
     "output_type": "execute_result",
     "data": {
      "text/plain": "     Recipe Name     Week  Pickers Count  Time Consumption\n0             D4  2020-24              2              4.53\n1             D4  2020-24              2              4.17\n2             D4  2020-24              2              7.33\n3             D4  2020-24              2              4.17\n4             D4  2020-24              2              4.28\n...          ...      ...            ...               ...\n4417          B2  2020-24              3              6.10\n4418          B2  2020-24              3              6.10\n4419          B2  2020-24              3              5.47\n4420          B2  2020-24              3              4.73\n4421          B2  2020-24              3              4.23\n\n[4422 rows x 4 columns]",
      "text/html": "<div>\n<style scoped>\n    .dataframe tbody tr th:only-of-type {\n        vertical-align: middle;\n    }\n\n    .dataframe tbody tr th {\n        vertical-align: top;\n    }\n\n    .dataframe thead th {\n        text-align: right;\n    }\n</style>\n<table border=\"1\" class=\"dataframe\">\n  <thead>\n    <tr style=\"text-align: right;\">\n      <th></th>\n      <th>Recipe Name</th>\n      <th>Week</th>\n      <th>Pickers Count</th>\n      <th>Time Consumption</th>\n    </tr>\n  </thead>\n  <tbody>\n    <tr>\n      <th>0</th>\n      <td>D4</td>\n      <td>2020-24</td>\n      <td>2</td>\n      <td>4.53</td>\n    </tr>\n    <tr>\n      <th>1</th>\n      <td>D4</td>\n      <td>2020-24</td>\n      <td>2</td>\n      <td>4.17</td>\n    </tr>\n    <tr>\n      <th>2</th>\n      <td>D4</td>\n      <td>2020-24</td>\n      <td>2</td>\n      <td>7.33</td>\n    </tr>\n    <tr>\n      <th>3</th>\n      <td>D4</td>\n      <td>2020-24</td>\n      <td>2</td>\n      <td>4.17</td>\n    </tr>\n    <tr>\n      <th>4</th>\n      <td>D4</td>\n      <td>2020-24</td>\n      <td>2</td>\n      <td>4.28</td>\n    </tr>\n    <tr>\n      <th>...</th>\n      <td>...</td>\n      <td>...</td>\n      <td>...</td>\n      <td>...</td>\n    </tr>\n    <tr>\n      <th>4417</th>\n      <td>B2</td>\n      <td>2020-24</td>\n      <td>3</td>\n      <td>6.10</td>\n    </tr>\n    <tr>\n      <th>4418</th>\n      <td>B2</td>\n      <td>2020-24</td>\n      <td>3</td>\n      <td>6.10</td>\n    </tr>\n    <tr>\n      <th>4419</th>\n      <td>B2</td>\n      <td>2020-24</td>\n      <td>3</td>\n      <td>5.47</td>\n    </tr>\n    <tr>\n      <th>4420</th>\n      <td>B2</td>\n      <td>2020-24</td>\n      <td>3</td>\n      <td>4.73</td>\n    </tr>\n    <tr>\n      <th>4421</th>\n      <td>B2</td>\n      <td>2020-24</td>\n      <td>3</td>\n      <td>4.23</td>\n    </tr>\n  </tbody>\n</table>\n<p>4422 rows × 4 columns</p>\n</div>"
     },
     "metadata": {},
     "execution_count": 20
    }
   ],
   "source": [
    "klss_staged = klss_raw_row_filitered[['Recipe Name', 'Week', 'Pickers Count', 'Time Consumption']]\n",
    "klss_staged"
   ]
  },
  {
   "cell_type": "code",
   "execution_count": 21,
   "metadata": {},
   "outputs": [
    {
     "output_type": "execute_result",
     "data": {
      "text/plain": "     Recipe Name     Week  Pickers Count  Time Consumption Recipe Code   P\n0             D4  2020-24              2              4.53        24D4  4P\n1             D4  2020-24              2              4.17        24D4  4P\n2             D4  2020-24              2              7.33        24D4  4P\n3             D4  2020-24              2              4.17        24D4  4P\n4             D4  2020-24              2              4.28        24D4  4P\n...          ...      ...            ...               ...         ...  ..\n4417          B2  2020-24              3              6.10        24B2  2P\n4418          B2  2020-24              3              6.10        24B2  2P\n4419          B2  2020-24              3              5.47        24B2  2P\n4420          B2  2020-24              3              4.73        24B2  2P\n4421          B2  2020-24              3              4.23        24B2  2P\n\n[4422 rows x 6 columns]",
      "text/html": "<div>\n<style scoped>\n    .dataframe tbody tr th:only-of-type {\n        vertical-align: middle;\n    }\n\n    .dataframe tbody tr th {\n        vertical-align: top;\n    }\n\n    .dataframe thead th {\n        text-align: right;\n    }\n</style>\n<table border=\"1\" class=\"dataframe\">\n  <thead>\n    <tr style=\"text-align: right;\">\n      <th></th>\n      <th>Recipe Name</th>\n      <th>Week</th>\n      <th>Pickers Count</th>\n      <th>Time Consumption</th>\n      <th>Recipe Code</th>\n      <th>P</th>\n    </tr>\n  </thead>\n  <tbody>\n    <tr>\n      <th>0</th>\n      <td>D4</td>\n      <td>2020-24</td>\n      <td>2</td>\n      <td>4.53</td>\n      <td>24D4</td>\n      <td>4P</td>\n    </tr>\n    <tr>\n      <th>1</th>\n      <td>D4</td>\n      <td>2020-24</td>\n      <td>2</td>\n      <td>4.17</td>\n      <td>24D4</td>\n      <td>4P</td>\n    </tr>\n    <tr>\n      <th>2</th>\n      <td>D4</td>\n      <td>2020-24</td>\n      <td>2</td>\n      <td>7.33</td>\n      <td>24D4</td>\n      <td>4P</td>\n    </tr>\n    <tr>\n      <th>3</th>\n      <td>D4</td>\n      <td>2020-24</td>\n      <td>2</td>\n      <td>4.17</td>\n      <td>24D4</td>\n      <td>4P</td>\n    </tr>\n    <tr>\n      <th>4</th>\n      <td>D4</td>\n      <td>2020-24</td>\n      <td>2</td>\n      <td>4.28</td>\n      <td>24D4</td>\n      <td>4P</td>\n    </tr>\n    <tr>\n      <th>...</th>\n      <td>...</td>\n      <td>...</td>\n      <td>...</td>\n      <td>...</td>\n      <td>...</td>\n      <td>...</td>\n    </tr>\n    <tr>\n      <th>4417</th>\n      <td>B2</td>\n      <td>2020-24</td>\n      <td>3</td>\n      <td>6.10</td>\n      <td>24B2</td>\n      <td>2P</td>\n    </tr>\n    <tr>\n      <th>4418</th>\n      <td>B2</td>\n      <td>2020-24</td>\n      <td>3</td>\n      <td>6.10</td>\n      <td>24B2</td>\n      <td>2P</td>\n    </tr>\n    <tr>\n      <th>4419</th>\n      <td>B2</td>\n      <td>2020-24</td>\n      <td>3</td>\n      <td>5.47</td>\n      <td>24B2</td>\n      <td>2P</td>\n    </tr>\n    <tr>\n      <th>4420</th>\n      <td>B2</td>\n      <td>2020-24</td>\n      <td>3</td>\n      <td>4.73</td>\n      <td>24B2</td>\n      <td>2P</td>\n    </tr>\n    <tr>\n      <th>4421</th>\n      <td>B2</td>\n      <td>2020-24</td>\n      <td>3</td>\n      <td>4.23</td>\n      <td>24B2</td>\n      <td>2P</td>\n    </tr>\n  </tbody>\n</table>\n<p>4422 rows × 6 columns</p>\n</div>"
     },
     "metadata": {},
     "execution_count": 21
    }
   ],
   "source": [
    "klss_staged['Recipe Code'] = klss_staged['Week'].str[-2:] + klss_staged['Recipe Name']\n",
    "klss_staged['P'] = klss_staged['Recipe Name'].str[-1] + \"P\"\n",
    "klss_staged"
   ]
  },
  {
   "cell_type": "code",
   "execution_count": 23,
   "metadata": {},
   "outputs": [
    {
     "output_type": "execute_result",
     "data": {
      "text/plain": "     Recipe Name     Week  Pickers Count  Time Consumption Recipe Code   P  E  \\\n0             D4  2020-24              2              4.53        24D4  4P  0   \n1             D4  2020-24              2              4.17        24D4  4P  0   \n2             D4  2020-24              2              7.33        24D4  4P  0   \n3             D4  2020-24              2              4.17        24D4  4P  0   \n4             D4  2020-24              2              4.28        24D4  4P  0   \n...          ...      ...            ...               ...         ...  .. ..   \n4417          B2  2020-24              3              6.10        24B2  2P  1   \n4418          B2  2020-24              3              6.10        24B2  2P  1   \n4419          B2  2020-24              3              5.47        24B2  2P  1   \n4420          B2  2020-24              3              4.73        24B2  2P  1   \n4421          B2  2020-24              3              4.23        24B2  2P  1   \n\n      H  M  VE  VH  Meal Kits/Crate  \n0     2  3   2   0                4  \n1     2  3   2   0                4  \n2     2  3   2   0                4  \n3     2  3   2   0                4  \n4     2  3   2   0                4  \n...  .. ..  ..  ..              ...  \n4417  1  2   1   2                7  \n4418  1  2   1   2                7  \n4419  1  2   1   2                7  \n4420  1  2   1   2                7  \n4421  1  2   1   2                7  \n\n[4422 rows x 12 columns]",
      "text/html": "<div>\n<style scoped>\n    .dataframe tbody tr th:only-of-type {\n        vertical-align: middle;\n    }\n\n    .dataframe tbody tr th {\n        vertical-align: top;\n    }\n\n    .dataframe thead th {\n        text-align: right;\n    }\n</style>\n<table border=\"1\" class=\"dataframe\">\n  <thead>\n    <tr style=\"text-align: right;\">\n      <th></th>\n      <th>Recipe Name</th>\n      <th>Week</th>\n      <th>Pickers Count</th>\n      <th>Time Consumption</th>\n      <th>Recipe Code</th>\n      <th>P</th>\n      <th>E</th>\n      <th>H</th>\n      <th>M</th>\n      <th>VE</th>\n      <th>VH</th>\n      <th>Meal Kits/Crate</th>\n    </tr>\n  </thead>\n  <tbody>\n    <tr>\n      <th>0</th>\n      <td>D4</td>\n      <td>2020-24</td>\n      <td>2</td>\n      <td>4.53</td>\n      <td>24D4</td>\n      <td>4P</td>\n      <td>0</td>\n      <td>2</td>\n      <td>3</td>\n      <td>2</td>\n      <td>0</td>\n      <td>4</td>\n    </tr>\n    <tr>\n      <th>1</th>\n      <td>D4</td>\n      <td>2020-24</td>\n      <td>2</td>\n      <td>4.17</td>\n      <td>24D4</td>\n      <td>4P</td>\n      <td>0</td>\n      <td>2</td>\n      <td>3</td>\n      <td>2</td>\n      <td>0</td>\n      <td>4</td>\n    </tr>\n    <tr>\n      <th>2</th>\n      <td>D4</td>\n      <td>2020-24</td>\n      <td>2</td>\n      <td>7.33</td>\n      <td>24D4</td>\n      <td>4P</td>\n      <td>0</td>\n      <td>2</td>\n      <td>3</td>\n      <td>2</td>\n      <td>0</td>\n      <td>4</td>\n    </tr>\n    <tr>\n      <th>3</th>\n      <td>D4</td>\n      <td>2020-24</td>\n      <td>2</td>\n      <td>4.17</td>\n      <td>24D4</td>\n      <td>4P</td>\n      <td>0</td>\n      <td>2</td>\n      <td>3</td>\n      <td>2</td>\n      <td>0</td>\n      <td>4</td>\n    </tr>\n    <tr>\n      <th>4</th>\n      <td>D4</td>\n      <td>2020-24</td>\n      <td>2</td>\n      <td>4.28</td>\n      <td>24D4</td>\n      <td>4P</td>\n      <td>0</td>\n      <td>2</td>\n      <td>3</td>\n      <td>2</td>\n      <td>0</td>\n      <td>4</td>\n    </tr>\n    <tr>\n      <th>...</th>\n      <td>...</td>\n      <td>...</td>\n      <td>...</td>\n      <td>...</td>\n      <td>...</td>\n      <td>...</td>\n      <td>...</td>\n      <td>...</td>\n      <td>...</td>\n      <td>...</td>\n      <td>...</td>\n      <td>...</td>\n    </tr>\n    <tr>\n      <th>4417</th>\n      <td>B2</td>\n      <td>2020-24</td>\n      <td>3</td>\n      <td>6.10</td>\n      <td>24B2</td>\n      <td>2P</td>\n      <td>1</td>\n      <td>1</td>\n      <td>2</td>\n      <td>1</td>\n      <td>2</td>\n      <td>7</td>\n    </tr>\n    <tr>\n      <th>4418</th>\n      <td>B2</td>\n      <td>2020-24</td>\n      <td>3</td>\n      <td>6.10</td>\n      <td>24B2</td>\n      <td>2P</td>\n      <td>1</td>\n      <td>1</td>\n      <td>2</td>\n      <td>1</td>\n      <td>2</td>\n      <td>7</td>\n    </tr>\n    <tr>\n      <th>4419</th>\n      <td>B2</td>\n      <td>2020-24</td>\n      <td>3</td>\n      <td>5.47</td>\n      <td>24B2</td>\n      <td>2P</td>\n      <td>1</td>\n      <td>1</td>\n      <td>2</td>\n      <td>1</td>\n      <td>2</td>\n      <td>7</td>\n    </tr>\n    <tr>\n      <th>4420</th>\n      <td>B2</td>\n      <td>2020-24</td>\n      <td>3</td>\n      <td>4.73</td>\n      <td>24B2</td>\n      <td>2P</td>\n      <td>1</td>\n      <td>1</td>\n      <td>2</td>\n      <td>1</td>\n      <td>2</td>\n      <td>7</td>\n    </tr>\n    <tr>\n      <th>4421</th>\n      <td>B2</td>\n      <td>2020-24</td>\n      <td>3</td>\n      <td>4.23</td>\n      <td>24B2</td>\n      <td>2P</td>\n      <td>1</td>\n      <td>1</td>\n      <td>2</td>\n      <td>1</td>\n      <td>2</td>\n      <td>7</td>\n    </tr>\n  </tbody>\n</table>\n<p>4422 rows × 12 columns</p>\n</div>"
     },
     "metadata": {},
     "execution_count": 23
    }
   ],
   "source": [
    "valid_all = klss_staged.merge(recipe_details, how = 'left', left_on = 'Recipe Code', right_on = 'Recipe Code')\n",
    "valid_all"
   ]
  },
  {
   "cell_type": "code",
   "execution_count": 25,
   "metadata": {},
   "outputs": [],
   "source": [
    "valid_prepared = valid_all[['Recipe Code', 'Pickers Count', 'Time Consumption', 'P', 'VE', 'E', 'M', 'H', 'VH', 'Meal Kits/Crate']]"
   ]
  },
  {
   "cell_type": "code",
   "execution_count": 27,
   "metadata": {},
   "outputs": [],
   "source": [
    "valid_prepared.to_csv('valid_all.csv', index = False)"
   ]
  },
  {
   "cell_type": "code",
   "execution_count": null,
   "metadata": {},
   "outputs": [],
   "source": []
  }
 ],
 "metadata": {
  "language_info": {
   "codemirror_mode": {
    "name": "ipython",
    "version": 3
   },
   "file_extension": ".py",
   "mimetype": "text/x-python",
   "name": "python",
   "nbconvert_exporter": "python",
   "pygments_lexer": "ipython3",
   "version": "3.8.3-final"
  },
  "orig_nbformat": 2,
  "kernelspec": {
   "name": "python38332bitmachinelearningenvvenvb680d137606c4b9ea20c71d91ffd1027",
   "display_name": "Python 3.8.3 32-bit ('machine_learning_env': venv)"
  }
 },
 "nbformat": 4,
 "nbformat_minor": 2
}